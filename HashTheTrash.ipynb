{
 "cells": [
  {
   "cell_type": "markdown",
   "metadata": {},
   "source": [
    "# Hash the Trash notebook\n",
    "\n",
    "Here everything should run smoothly with just this notebook, running Ganache (with quickstart) and setting the PORT on which Ganache is running (The contract's abi and bytecode has been compiled from Remix and imported here to run everything).\n",
    "\n",
    "To see the real time version of the blockchain event log catcher: \n",
    "1. Deploy the contract from this notebook [from cell 1 through 6]\n",
    "2. launch the 'events_real_time.py' from the terminal and just continue through the notebook (basic prints will appear in the terminal when trashbags lifecycle events gets called and the events_log.csv will record them)\n",
    "\n",
    "Various sections are:\n",
    "* [deploying the contract](#deploy)\n",
    "* [operating with its functions from eth accounts](#functions)\n",
    "    * [TARI](#tari)\n",
    "    * [Trash cycle](#cycle)\n",
    "    * [Refund](#refund)\n",
    "* [picking up logs of certain events from the chain](#logs)"
   ]
  },
  {
   "cell_type": "code",
   "execution_count": null,
   "metadata": {},
   "outputs": [],
   "source": [
    "!pip install -r requirements.txt # if not already run"
   ]
  },
  {
   "cell_type": "code",
   "execution_count": 1,
   "metadata": {},
   "outputs": [],
   "source": [
    "# imports\n",
    "import random, time, json\n",
    "import pandas as pd\n",
    "from web3 import Web3\n",
    "from contracts.abi_bytecode import abi, bytecode # saved externally as .py\n",
    "\n",
    "# to webscrape ETH exchange rate\n",
    "from bs4 import BeautifulSoup\n",
    "import requests\n",
    "from forex_python.converter import CurrencyRates"
   ]
  },
  {
   "cell_type": "code",
   "execution_count": 2,
   "metadata": {},
   "outputs": [
    {
     "data": {
      "text/plain": [
       "True"
      ]
     },
     "execution_count": 2,
     "metadata": {},
     "output_type": "execute_result"
    }
   ],
   "source": [
    "# Connecting to ganache through opened up PORT\n",
    "ganache_url = 'HTTP://127.0.0.1:7545'      #change here if different\n",
    "web3 = Web3(Web3.HTTPProvider(ganache_url))\n",
    "web3.isConnected()"
   ]
  },
  {
   "cell_type": "code",
   "execution_count": 3,
   "metadata": {},
   "outputs": [
    {
     "data": {
      "text/html": [
       "<div>\n",
       "<style scoped>\n",
       "    .dataframe tbody tr th:only-of-type {\n",
       "        vertical-align: middle;\n",
       "    }\n",
       "\n",
       "    .dataframe tbody tr th {\n",
       "        vertical-align: top;\n",
       "    }\n",
       "\n",
       "    .dataframe thead th {\n",
       "        text-align: right;\n",
       "    }\n",
       "</style>\n",
       "<table border=\"1\" class=\"dataframe\">\n",
       "  <thead>\n",
       "    <tr style=\"text-align: right;\">\n",
       "      <th></th>\n",
       "      <th>name</th>\n",
       "      <th>surname</th>\n",
       "      <th>family</th>\n",
       "      <th>mq</th>\n",
       "      <th>weight</th>\n",
       "      <th>recycle</th>\n",
       "      <th>lat</th>\n",
       "      <th>long</th>\n",
       "      <th>role</th>\n",
       "      <th>address</th>\n",
       "    </tr>\n",
       "  </thead>\n",
       "  <tbody>\n",
       "    <tr>\n",
       "      <th>0</th>\n",
       "      <td>Comune</td>\n",
       "      <td>Codogno</td>\n",
       "      <td>0.0</td>\n",
       "      <td>0.0</td>\n",
       "      <td>0.0</td>\n",
       "      <td>NaN</td>\n",
       "      <td>NaN</td>\n",
       "      <td>NaN</td>\n",
       "      <td>municipality</td>\n",
       "      <td>0xE66C9F578081e625ac6f3FD7F3c1bF0bB2fd1074</td>\n",
       "    </tr>\n",
       "    <tr>\n",
       "      <th>1</th>\n",
       "      <td>Francesca</td>\n",
       "      <td>Bianchessi</td>\n",
       "      <td>2.0</td>\n",
       "      <td>70.0</td>\n",
       "      <td>500.0</td>\n",
       "      <td>NaN</td>\n",
       "      <td>NaN</td>\n",
       "      <td>NaN</td>\n",
       "      <td>citizen</td>\n",
       "      <td>0xC99c6450BD096A6F707F34cC058408FcDCFA074E</td>\n",
       "    </tr>\n",
       "    <tr>\n",
       "      <th>2</th>\n",
       "      <td>Ilaria</td>\n",
       "      <td>Bolla</td>\n",
       "      <td>4.0</td>\n",
       "      <td>200.0</td>\n",
       "      <td>900.0</td>\n",
       "      <td>NaN</td>\n",
       "      <td>NaN</td>\n",
       "      <td>NaN</td>\n",
       "      <td>citizen</td>\n",
       "      <td>0xffaBf9f203Fe06E5EB49E53D8f4de24d30FBaDd1</td>\n",
       "    </tr>\n",
       "    <tr>\n",
       "      <th>3</th>\n",
       "      <td>Alessandro</td>\n",
       "      <td>Botti</td>\n",
       "      <td>5.0</td>\n",
       "      <td>340.0</td>\n",
       "      <td>800.0</td>\n",
       "      <td>NaN</td>\n",
       "      <td>NaN</td>\n",
       "      <td>NaN</td>\n",
       "      <td>citizen</td>\n",
       "      <td>0x9F23749c9a118d55Aa0a9953bF6Fa410525E063B</td>\n",
       "    </tr>\n",
       "    <tr>\n",
       "      <th>4</th>\n",
       "      <td>Davide</td>\n",
       "      <td>Castellini</td>\n",
       "      <td>3.0</td>\n",
       "      <td>50.0</td>\n",
       "      <td>200.0</td>\n",
       "      <td>NaN</td>\n",
       "      <td>NaN</td>\n",
       "      <td>NaN</td>\n",
       "      <td>citizen</td>\n",
       "      <td>0x0E130AC630CdE2DEa77AadE2e5f5Ce3b0bbAA559</td>\n",
       "    </tr>\n",
       "    <tr>\n",
       "      <th>5</th>\n",
       "      <td>Anna</td>\n",
       "      <td>Di Marco</td>\n",
       "      <td>4.0</td>\n",
       "      <td>80.0</td>\n",
       "      <td>560.0</td>\n",
       "      <td>NaN</td>\n",
       "      <td>NaN</td>\n",
       "      <td>NaN</td>\n",
       "      <td>citizen</td>\n",
       "      <td>0x9EA42f31Bd3dC0C5ee2845113AA42025B2228A13</td>\n",
       "    </tr>\n",
       "    <tr>\n",
       "      <th>6</th>\n",
       "      <td>Truck</td>\n",
       "      <td>Recycle</td>\n",
       "      <td>NaN</td>\n",
       "      <td>NaN</td>\n",
       "      <td>NaN</td>\n",
       "      <td>True</td>\n",
       "      <td>NaN</td>\n",
       "      <td>NaN</td>\n",
       "      <td>truck</td>\n",
       "      <td>0x30A64a3734cab778eF3B21C65aeB605cfDa03f7b</td>\n",
       "    </tr>\n",
       "    <tr>\n",
       "      <th>7</th>\n",
       "      <td>Truck</td>\n",
       "      <td>Not Recycle</td>\n",
       "      <td>NaN</td>\n",
       "      <td>NaN</td>\n",
       "      <td>NaN</td>\n",
       "      <td>False</td>\n",
       "      <td>NaN</td>\n",
       "      <td>NaN</td>\n",
       "      <td>truck</td>\n",
       "      <td>0x759Ec1c10FfFB030761CDD7a6E3A0B0212E43f01</td>\n",
       "    </tr>\n",
       "    <tr>\n",
       "      <th>8</th>\n",
       "      <td>Disposal Station</td>\n",
       "      <td>Milano</td>\n",
       "      <td>NaN</td>\n",
       "      <td>NaN</td>\n",
       "      <td>NaN</td>\n",
       "      <td>True</td>\n",
       "      <td>45.4642</td>\n",
       "      <td>9.1900</td>\n",
       "      <td>station</td>\n",
       "      <td>0x3fcC63EfD8D44359315e67def36E1981cf885364</td>\n",
       "    </tr>\n",
       "    <tr>\n",
       "      <th>9</th>\n",
       "      <td>Disposal Station</td>\n",
       "      <td>Bologna</td>\n",
       "      <td>NaN</td>\n",
       "      <td>NaN</td>\n",
       "      <td>NaN</td>\n",
       "      <td>False</td>\n",
       "      <td>44.4949</td>\n",
       "      <td>11.3426</td>\n",
       "      <td>station</td>\n",
       "      <td>0x62993C286F1C02119216841D88f13b85068De8f1</td>\n",
       "    </tr>\n",
       "  </tbody>\n",
       "</table>\n",
       "</div>"
      ],
      "text/plain": [
       "               name      surname  family     mq  weight recycle      lat  \\\n",
       "0            Comune      Codogno     0.0    0.0     0.0     NaN      NaN   \n",
       "1         Francesca   Bianchessi     2.0   70.0   500.0     NaN      NaN   \n",
       "2            Ilaria        Bolla     4.0  200.0   900.0     NaN      NaN   \n",
       "3        Alessandro        Botti     5.0  340.0   800.0     NaN      NaN   \n",
       "4            Davide   Castellini     3.0   50.0   200.0     NaN      NaN   \n",
       "5              Anna     Di Marco     4.0   80.0   560.0     NaN      NaN   \n",
       "6             Truck      Recycle     NaN    NaN     NaN    True      NaN   \n",
       "7             Truck  Not Recycle     NaN    NaN     NaN   False      NaN   \n",
       "8  Disposal Station       Milano     NaN    NaN     NaN    True  45.4642   \n",
       "9  Disposal Station      Bologna     NaN    NaN     NaN   False  44.4949   \n",
       "\n",
       "      long          role                                     address  \n",
       "0      NaN  municipality  0xE66C9F578081e625ac6f3FD7F3c1bF0bB2fd1074  \n",
       "1      NaN       citizen  0xC99c6450BD096A6F707F34cC058408FcDCFA074E  \n",
       "2      NaN       citizen  0xffaBf9f203Fe06E5EB49E53D8f4de24d30FBaDd1  \n",
       "3      NaN       citizen  0x9F23749c9a118d55Aa0a9953bF6Fa410525E063B  \n",
       "4      NaN       citizen  0x0E130AC630CdE2DEa77AadE2e5f5Ce3b0bbAA559  \n",
       "5      NaN       citizen  0x9EA42f31Bd3dC0C5ee2845113AA42025B2228A13  \n",
       "6      NaN         truck  0x30A64a3734cab778eF3B21C65aeB605cfDa03f7b  \n",
       "7      NaN         truck  0x759Ec1c10FfFB030761CDD7a6E3A0B0212E43f01  \n",
       "8   9.1900       station  0x3fcC63EfD8D44359315e67def36E1981cf885364  \n",
       "9  11.3426       station  0x62993C286F1C02119216841D88f13b85068De8f1  "
      ]
     },
     "execution_count": 3,
     "metadata": {},
     "output_type": "execute_result"
    }
   ],
   "source": [
    "# Compiled abi and bytecode of trash.sol which inherits from citizenz.sol (and Ownable, safemath etc)\n",
    "abiRemix = json.loads(abi)         # turned to string after copy to clipboard from Remix\n",
    "bytecodeRemix = bytecode['object'] # it is a dictionary (as copy to clipboard form remix), we use the object for web3 deployment\n",
    "\n",
    "# simple database example and adding column with ganache accounts\n",
    "data = pd.read_excel('data/example_data.xlsx', sheet_name='agents_data')\n",
    "data['address'] = web3.eth.accounts     \n",
    "data"
   ]
  },
  {
   "cell_type": "markdown",
   "metadata": {},
   "source": [
    "<a name = 'deploy'></a>\n",
    "\n",
    "### Deploying the contract\n",
    "\n",
    "Here we first create a dictionary with the readily available 10 accounts from ganache and then make the municiaplity deploy the contract on the blockchain"
   ]
  },
  {
   "cell_type": "code",
   "execution_count": 4,
   "metadata": {
    "scrolled": true
   },
   "outputs": [],
   "source": [
    "def deploy_contract(deployer, _abi, _bytecode):\n",
    "    \"\"\"\n",
    "    Deploy the contract using Python and web3.py without relying on Remix (aside from getting the compiled abi and bytecode)\n",
    "    \n",
    "    Parameters\n",
    "    -------------\n",
    "        deployer: eth account\n",
    "        abi, bytecode : compiled contract things\n",
    "        \n",
    "    Returns\n",
    "    -------------\n",
    "        contract instance\n",
    "    \"\"\"\n",
    "    contract = web3.eth.contract(abi=_abi, bytecode=_bytecode)      # compiled contract\n",
    "    tx_hash = contract.constructor().transact({'from': deployer}) # contract constructor call (i.e. deploy)\n",
    "    \n",
    "    tx_receipt = web3.eth.waitForTransactionReceipt(tx_hash)      # Get receipt when deployed to blockchain\n",
    "    print(f\"Deployed contract at address:\\n{tx_receipt.contractAddress}\") # contract address\n",
    "    \n",
    "    # simple yet effective method to pass the contract address to the real time filtering\n",
    "    with open('data/ctr_addr.txt', 'w') as f:\n",
    "        f.write(tx_receipt.contractAddress)\n",
    "    \n",
    "    deployed_ctr = web3.eth.contract(address = tx_receipt.contractAddress, abi  = _abi) # contract\n",
    "    \n",
    "    return deployed_ctr"
   ]
  },
  {
   "cell_type": "code",
   "execution_count": 5,
   "metadata": {},
   "outputs": [
    {
     "name": "stdout",
     "output_type": "stream",
     "text": [
      "Deployed contract at address:\n",
      "0xBe900d45964d115F37Aab2A1E619E755614cfD4c\n"
     ]
    }
   ],
   "source": [
    "# Deploy contract (municipality in our case) [can check from ganache the blocks to see if it happened]\n",
    "municipality = data[data.role == 'municipality']['address'].item()\n",
    "\n",
    "contract = deploy_contract(deployer = municipality, _abi = abiRemix, _bytecode = bytecodeRemix)"
   ]
  },
  {
   "cell_type": "markdown",
   "metadata": {},
   "source": [
    "##### !! Can now run the events_real_time.py !!"
   ]
  },
  {
   "cell_type": "markdown",
   "metadata": {},
   "source": [
    "<a name = 'functions'></a>\n",
    "## Interacting with the functions\n",
    "\n",
    "First a simplle check of the owner of the contract and then creating the Agents.\n",
    "\n",
    "(Still unsure but i think function(...).**call**(...) works only for 'view' functions; need function(...).**transact**(...) for those that modify the chain)"
   ]
  },
  {
   "cell_type": "code",
   "execution_count": 6,
   "metadata": {
    "scrolled": false
   },
   "outputs": [
    {
     "name": "stdout",
     "output_type": "stream",
     "text": [
      "owner: 0xE66C9F578081e625ac6f3FD7F3c1bF0bB2fd1074\n",
      "Is it the municipality? True\n"
     ]
    },
    {
     "data": {
      "text/plain": [
       "[<Function MunicipalityBalance()>,\n",
       " <Function TariAmount(address)>,\n",
       " <Function citizens(address)>,\n",
       " <Function computePayout(address)>,\n",
       " <Function createCitizen(address,string,uint256,uint256,uint256)>,\n",
       " <Function createStation(address,bool,int256,int256)>,\n",
       " <Function createTruck(address,bool)>,\n",
       " <Function deleteCitizen(address)>,\n",
       " <Function deleteStation(address)>,\n",
       " <Function deleteTruck(address)>,\n",
       " <Function drop(address,int256,int256)>,\n",
       " <Function givePayout(address)>,\n",
       " <Function numberC()>,\n",
       " <Function numberS()>,\n",
       " <Function numberT()>,\n",
       " <Function owner()>,\n",
       " <Function payTari()>,\n",
       " <Function pick(address,uint256,uint256)>,\n",
       " <Function received(bool,address,uint256)>,\n",
       " <Function renounceOwnership()>,\n",
       " <Function setBeginningYear()>,\n",
       " <Function showStartTime()>,\n",
       " <Function stations(address)>,\n",
       " <Function transferOwnership(address)>,\n",
       " <Function trucks(address)>,\n",
       " <Function withdraw()>]"
      ]
     },
     "execution_count": 6,
     "metadata": {},
     "output_type": "execute_result"
    }
   ],
   "source": [
    "# simple check for owner of the contract\n",
    "owner = contract.functions.owner().call() # get owner from contract function\n",
    "print(f\"owner: {owner}\")\n",
    "print(f\"Is it the municipality? {owner == data[data.role == 'municipality']['address'].item()}\")\n",
    "\n",
    "# to remember inputs and all functions\n",
    "contract.all_functions()"
   ]
  },
  {
   "cell_type": "code",
   "execution_count": 7,
   "metadata": {},
   "outputs": [
    {
     "name": "stdout",
     "output_type": "stream",
     "text": [
      "Example of createCitizen inputs: ['0xC99c6450BD096A6F707F34cC058408FcDCFA074E', 'Francesca Bianchessi', 2, 70, 500]\n"
     ]
    }
   ],
   "source": [
    "# Creating list of touples as correct inputs for the contract structs\n",
    "\n",
    "# Create CITIZENS - (address payable _address, string memory _name, uint _family, uint _house, uint256 _w)\n",
    "citizensL = [[r.address, \" \".join([r.name, r.surname]), int(r.family), int(r.mq), int(r.weight)] \n",
    "             for r in data.itertuples() if r.role == 'citizen']\n",
    "\n",
    "# Create TRUCKS - (address _address, bool _recycle)\n",
    "trucksL = [[r.address, r.recycle] for r in data.itertuples() if r.role == 'truck']\n",
    "\n",
    "# Create STATIONS - (address _address, bool _recycle, int _lat, int _long)\n",
    "stationsL = [[r.address, r.recycle, int(r.lat), int(r.long)] for r in data.itertuples() if r.role == 'station']\n",
    "\n",
    "print(f'Example of createCitizen inputs: {citizensL[0]}')"
   ]
  },
  {
   "cell_type": "code",
   "execution_count": 8,
   "metadata": {},
   "outputs": [],
   "source": [
    "def create(municip_addr ,c, t, s):\n",
    "    '''\n",
    "    Calls contract funcions to assigns addresses (and their characteristics) roles and populate mappings\n",
    "    \n",
    "    Parameters\n",
    "    ----------------------\n",
    "        municip_addr : eth address of the municipality\n",
    "        c, t, s : list of touples with correct characteristics\n",
    "        \n",
    "    Returns\n",
    "    ----------------------\n",
    "        nothing on python, the chain grows as these transactions are registered\n",
    "    '''\n",
    "    from_dict = {'from': municip_addr}\n",
    "    for i in range(len(c)):\n",
    "        contract.functions.createCitizen(c[i][0], c[i][1], c[i][2], c[i][3], c[i][4]).transact(from_dict)\n",
    "    for j in range(len(t)):\n",
    "        contract.functions.createTruck(t[j][0], t[j][1]).transact(from_dict)\n",
    "    for k in range(len(s)):\n",
    "        contract.functions.createStation(s[k][0], s[k][1], s[k][2], s[k][3]).transact(from_dict)\n",
    "    print('Done')\n",
    "    \n",
    "\n",
    "# Some functions to show structs statuses as we change them\n",
    "def get_citizen_info(address):\n",
    "    \"\"\"\n",
    "    Call to the contract to pretty print informations on citizen\n",
    "    \"\"\"\n",
    "    info = contract.functions.citizens(address).call()\n",
    "    print(f\"\"\"\n",
    "    Address eth : {address}\n",
    "    Name : {info[0]}\n",
    "    Family members : {info[1]}\n",
    "    House sq.meters : {info[2]}\n",
    "    Assigned weight\\liters : {info[3]}\n",
    "    TARI amount : {info[4]}\n",
    "    Recyclable Waste Tot : {info[5]}\n",
    "    Non Recyclable Waste Tot : {info[6]}\n",
    "    Paid TARI : {info[7]}\n",
    "    Active account : {info[8]}\n",
    "    \"\"\")\n",
    "\n",
    "def get_truck_info(address):\n",
    "    \"\"\"Show pretty info on trucks\"\"\"\n",
    "    info = contract.functions.trucks(address).call()\n",
    "    print(f\"\"\"\n",
    "    Address eth : {address}\n",
    "    Truck number : {info[0]}\n",
    "    Weight transported : {info[1]}\n",
    "    Recyclable Truck : {info[2]}\n",
    "    Active Truck : {info[3]}\n",
    "    \"\"\")\n",
    "    \n",
    "    \n",
    "def get_station_info(address):\n",
    "    \"\"\"Show pretty info for stations\"\"\"\n",
    "    info = contract.functions.stations(address).call()\n",
    "    print(f\"\"\"\n",
    "    Address eth : {address}\n",
    "    Station nr. : {info[0]}\n",
    "    Weight : {info[1]}\n",
    "    latitude : {info[2]}\n",
    "    longitude : {info[3]}\n",
    "    Recyclable Plant : {info[4]}\n",
    "    Active Plant : {info[5]}\n",
    "    \"\"\")"
   ]
  },
  {
   "cell_type": "code",
   "execution_count": 9,
   "metadata": {
    "scrolled": true
   },
   "outputs": [
    {
     "name": "stdout",
     "output_type": "stream",
     "text": [
      "Done\n",
      "\n",
      "# Citizens: 5 \n",
      "# Trucks : 2\n",
      "# PLants : 2\n"
     ]
    }
   ],
   "source": [
    "# Populating mappings and check amount of entities\n",
    "create(data[data.role == 'municipality']['address'].item(),citizensL, trucksL, stationsL)\n",
    "\n",
    "print(f\"\"\"\n",
    "# Citizens: {contract.functions.numberC().call()} \n",
    "# Trucks : {contract.functions.numberT().call()}\n",
    "# PLants : {contract.functions.numberS().call()}\"\"\")"
   ]
  },
  {
   "cell_type": "code",
   "execution_count": 10,
   "metadata": {},
   "outputs": [
    {
     "name": "stdout",
     "output_type": "stream",
     "text": [
      "\n",
      "    Address eth : 0xC99c6450BD096A6F707F34cC058408FcDCFA074E\n",
      "    Name : Francesca Bianchessi\n",
      "    Family members : 2\n",
      "    House sq.meters : 70\n",
      "    Assigned weight\\liters : 500\n",
      "    TARI amount : 0\n",
      "    Recyclable Waste Tot : 0\n",
      "    Non Recyclable Waste Tot : 0\n",
      "    Paid TARI : False\n",
      "    Active account : True\n",
      "    \n",
      "\n",
      "    Address eth : 0x30A64a3734cab778eF3B21C65aeB605cfDa03f7b\n",
      "    Truck number : 1\n",
      "    Weight transported : 0\n",
      "    Recyclable Truck : True\n",
      "    Active Truck : True\n",
      "    \n",
      "\n",
      "    Address eth : 0x3fcC63EfD8D44359315e67def36E1981cf885364\n",
      "    Station nr. : 1\n",
      "    Weight : 0\n",
      "    latitude : 45\n",
      "    longitude : 9\n",
      "    Recyclable Plant : True\n",
      "    Active Plant : True\n",
      "    \n"
     ]
    }
   ],
   "source": [
    "# using exemplar citizen and other roles to do checks along the notebook\n",
    "dutiful_citizen = data[data.role == 'citizen']['address'].reset_index(drop = True)[0]\n",
    "get_citizen_info(dutiful_citizen)\n",
    "\n",
    "ex_truck = data[data.role == 'truck']['address'].reset_index(drop = True)[0]\n",
    "get_truck_info(ex_truck)\n",
    "\n",
    "ex_station = data[data.role == 'station']['address'].reset_index(drop = True)[0]\n",
    "get_station_info(ex_station)"
   ]
  },
  {
   "cell_type": "markdown",
   "metadata": {},
   "source": [
    "<a name = 'tari'></a>\n",
    "### Compute TARI \n",
    "\n",
    "Takes into account number of household members in the nucleus and square meters of the property\n",
    "\n",
    "` formula ?`"
   ]
  },
  {
   "cell_type": "code",
   "execution_count": 11,
   "metadata": {},
   "outputs": [],
   "source": [
    "# Calculate amount of TARI for each citizen (and looping for the others)\n",
    "for addr in data[data.role == 'citizen']['address']:\n",
    "    contract.functions.TariAmount(addr).transact({'from' : municipality})"
   ]
  },
  {
   "cell_type": "code",
   "execution_count": 12,
   "metadata": {},
   "outputs": [
    {
     "name": "stdout",
     "output_type": "stream",
     "text": [
      "\n",
      "    Address eth : 0xC99c6450BD096A6F707F34cC058408FcDCFA074E\n",
      "    Name : Francesca Bianchessi\n",
      "    Family members : 2\n",
      "    House sq.meters : 70\n",
      "    Assigned weight\\liters : 500\n",
      "    TARI amount : 190000000000000000\n",
      "    Recyclable Waste Tot : 0\n",
      "    Non Recyclable Waste Tot : 0\n",
      "    Paid TARI : False\n",
      "    Active account : True\n",
      "    \n"
     ]
    },
    {
     "data": {
      "text/plain": [
       "'Looks expensive'"
      ]
     },
     "execution_count": 12,
     "metadata": {},
     "output_type": "execute_result"
    }
   ],
   "source": [
    "get_citizen_info(dutiful_citizen)\n",
    "\"\"\"Looks expensive\"\"\""
   ]
  },
  {
   "cell_type": "code",
   "execution_count": 13,
   "metadata": {},
   "outputs": [
    {
     "data": {
      "text/html": [
       "<div>\n",
       "<style scoped>\n",
       "    .dataframe tbody tr th:only-of-type {\n",
       "        vertical-align: middle;\n",
       "    }\n",
       "\n",
       "    .dataframe tbody tr th {\n",
       "        vertical-align: top;\n",
       "    }\n",
       "\n",
       "    .dataframe thead th {\n",
       "        text-align: right;\n",
       "    }\n",
       "</style>\n",
       "<table border=\"1\" class=\"dataframe\">\n",
       "  <thead>\n",
       "    <tr style=\"text-align: right;\">\n",
       "      <th></th>\n",
       "      <th>name</th>\n",
       "      <th>surname</th>\n",
       "      <th>family</th>\n",
       "      <th>mq</th>\n",
       "      <th>weight</th>\n",
       "      <th>role</th>\n",
       "      <th>TARI_eth</th>\n",
       "      <th>TARI_eur</th>\n",
       "    </tr>\n",
       "  </thead>\n",
       "  <tbody>\n",
       "    <tr>\n",
       "      <th>0</th>\n",
       "      <td>Comune</td>\n",
       "      <td>Codogno</td>\n",
       "      <td>0.0</td>\n",
       "      <td>0.0</td>\n",
       "      <td>0.0</td>\n",
       "      <td>municipality</td>\n",
       "      <td>NaN</td>\n",
       "      <td>NaN</td>\n",
       "    </tr>\n",
       "    <tr>\n",
       "      <th>1</th>\n",
       "      <td>Francesca</td>\n",
       "      <td>Bianchessi</td>\n",
       "      <td>2.0</td>\n",
       "      <td>70.0</td>\n",
       "      <td>500.0</td>\n",
       "      <td>citizen</td>\n",
       "      <td>0.190</td>\n",
       "      <td>85.640214</td>\n",
       "    </tr>\n",
       "    <tr>\n",
       "      <th>2</th>\n",
       "      <td>Ilaria</td>\n",
       "      <td>Bolla</td>\n",
       "      <td>4.0</td>\n",
       "      <td>200.0</td>\n",
       "      <td>900.0</td>\n",
       "      <td>citizen</td>\n",
       "      <td>0.490</td>\n",
       "      <td>220.861604</td>\n",
       "    </tr>\n",
       "    <tr>\n",
       "      <th>3</th>\n",
       "      <td>Alessandro</td>\n",
       "      <td>Botti</td>\n",
       "      <td>5.0</td>\n",
       "      <td>340.0</td>\n",
       "      <td>800.0</td>\n",
       "      <td>citizen</td>\n",
       "      <td>1.440</td>\n",
       "      <td>649.062674</td>\n",
       "    </tr>\n",
       "    <tr>\n",
       "      <th>4</th>\n",
       "      <td>Davide</td>\n",
       "      <td>Castellini</td>\n",
       "      <td>3.0</td>\n",
       "      <td>50.0</td>\n",
       "      <td>200.0</td>\n",
       "      <td>citizen</td>\n",
       "      <td>0.120</td>\n",
       "      <td>54.088556</td>\n",
       "    </tr>\n",
       "    <tr>\n",
       "      <th>5</th>\n",
       "      <td>Anna</td>\n",
       "      <td>Di Marco</td>\n",
       "      <td>4.0</td>\n",
       "      <td>80.0</td>\n",
       "      <td>560.0</td>\n",
       "      <td>citizen</td>\n",
       "      <td>0.216</td>\n",
       "      <td>97.359401</td>\n",
       "    </tr>\n",
       "    <tr>\n",
       "      <th>6</th>\n",
       "      <td>Truck</td>\n",
       "      <td>Recycle</td>\n",
       "      <td>NaN</td>\n",
       "      <td>NaN</td>\n",
       "      <td>NaN</td>\n",
       "      <td>truck</td>\n",
       "      <td>NaN</td>\n",
       "      <td>NaN</td>\n",
       "    </tr>\n",
       "    <tr>\n",
       "      <th>7</th>\n",
       "      <td>Truck</td>\n",
       "      <td>Not Recycle</td>\n",
       "      <td>NaN</td>\n",
       "      <td>NaN</td>\n",
       "      <td>NaN</td>\n",
       "      <td>truck</td>\n",
       "      <td>NaN</td>\n",
       "      <td>NaN</td>\n",
       "    </tr>\n",
       "    <tr>\n",
       "      <th>8</th>\n",
       "      <td>Disposal Station</td>\n",
       "      <td>Milano</td>\n",
       "      <td>NaN</td>\n",
       "      <td>NaN</td>\n",
       "      <td>NaN</td>\n",
       "      <td>station</td>\n",
       "      <td>NaN</td>\n",
       "      <td>NaN</td>\n",
       "    </tr>\n",
       "    <tr>\n",
       "      <th>9</th>\n",
       "      <td>Disposal Station</td>\n",
       "      <td>Bologna</td>\n",
       "      <td>NaN</td>\n",
       "      <td>NaN</td>\n",
       "      <td>NaN</td>\n",
       "      <td>station</td>\n",
       "      <td>NaN</td>\n",
       "      <td>NaN</td>\n",
       "    </tr>\n",
       "  </tbody>\n",
       "</table>\n",
       "</div>"
      ],
      "text/plain": [
       "               name      surname  family     mq  weight          role  \\\n",
       "0            Comune      Codogno     0.0    0.0     0.0  municipality   \n",
       "1         Francesca   Bianchessi     2.0   70.0   500.0       citizen   \n",
       "2            Ilaria        Bolla     4.0  200.0   900.0       citizen   \n",
       "3        Alessandro        Botti     5.0  340.0   800.0       citizen   \n",
       "4            Davide   Castellini     3.0   50.0   200.0       citizen   \n",
       "5              Anna     Di Marco     4.0   80.0   560.0       citizen   \n",
       "6             Truck      Recycle     NaN    NaN     NaN         truck   \n",
       "7             Truck  Not Recycle     NaN    NaN     NaN         truck   \n",
       "8  Disposal Station       Milano     NaN    NaN     NaN       station   \n",
       "9  Disposal Station      Bologna     NaN    NaN     NaN       station   \n",
       "\n",
       "   TARI_eth    TARI_eur  \n",
       "0       NaN         NaN  \n",
       "1     0.190   85.640214  \n",
       "2     0.490  220.861604  \n",
       "3     1.440  649.062674  \n",
       "4     0.120   54.088556  \n",
       "5     0.216   97.359401  \n",
       "6       NaN         NaN  \n",
       "7       NaN         NaN  \n",
       "8       NaN         NaN  \n",
       "9       NaN         NaN  "
      ]
     },
     "execution_count": 13,
     "metadata": {},
     "output_type": "execute_result"
    }
   ],
   "source": [
    "# Webscrape currency exchange rates to convert computed TARI in wei to euro\n",
    "# Save the TARI amount for each citizen \n",
    "tari_list = [contract.functions.citizens(addr).call()[4]*(10**(-18)) \n",
    "             for addr in data[data.role == 'citizen']['address']]\n",
    "data.loc[data.role == 'citizen', 'TARI_eth'] = tari_list\n",
    "\n",
    "# Convert to EUR \n",
    "cmc = requests.get('https://coinmarketcap.com/currencies/ethereum/markets/')\n",
    "soup = BeautifulSoup(cmc.content, 'html.parser')  \n",
    "data_coinmkt = soup.find('script', type=\"application/ld+json\")\n",
    "data_coinmkt = json.loads(data_coinmkt.contents[0])\n",
    "usd_eth = data_coinmkt['currentExchangeRate']['price']\n",
    "\n",
    "c = CurrencyRates()\n",
    "usd_eur_rate = c.get_rate('USD', 'EUR') \n",
    "eur_eth = usd_eth * usd_eur_rate \n",
    "\n",
    "data.loc[data.role == 'citizen', 'TARI_eur'] = data.loc[data.role == 'citizen', 'TARI_eth']*eur_eth \n",
    "data[['name', 'surname', 'family', 'mq', 'weight', 'role', 'TARI_eth', 'TARI_eur']]"
   ]
  },
  {
   "cell_type": "code",
   "execution_count": 14,
   "metadata": {},
   "outputs": [
    {
     "name": "stdout",
     "output_type": "stream",
     "text": [
      "Citizen Francesca Bianchessi is paying 190000000000000000 wei --> 85.64021386846153 Euro\n",
      "Citizen Ilaria Bolla is paying 490000000000000000 wei --> 220.86160418708502 Euro\n",
      "Citizen Alessandro Botti is paying 1440000000000000000 wei --> 649.0626735293927 Euro\n",
      "Citizen Davide Castellini is paying 120000000000000000 wei --> 54.08855612744939 Euro\n",
      "Citizen Anna Di Marco is paying 216000000000000000 wei --> 97.3594010294089 Euro\n"
     ]
    }
   ],
   "source": [
    "# Each citizen pays its due amount\n",
    "for addr in data[data.role == 'citizen']['address']:\n",
    "    \n",
    "    info = contract.functions.citizens(addr).call() # need the amount from the contract\n",
    "    print(f\"Citizen {info[0]} is paying {info[4]} wei --> {info[4]*10**(-18)*eur_eth} Euro\")\n",
    "    \n",
    "    # payable function, the amount is passed in the dictionary of .transact()\n",
    "    contract.functions.payTari().transact({'from': addr, 'value' : info[4]})\n",
    "    "
   ]
  },
  {
   "cell_type": "code",
   "execution_count": 15,
   "metadata": {},
   "outputs": [
    {
     "name": "stdout",
     "output_type": "stream",
     "text": [
      "\n",
      "    Address eth : 0xC99c6450BD096A6F707F34cC058408FcDCFA074E\n",
      "    Name : Francesca Bianchessi\n",
      "    Family members : 2\n",
      "    House sq.meters : 70\n",
      "    Assigned weight\\liters : 0\n",
      "    TARI amount : 190000000000000000\n",
      "    Recyclable Waste Tot : 0\n",
      "    Non Recyclable Waste Tot : 0\n",
      "    Paid TARI : True\n",
      "    Active account : True\n",
      "    \n"
     ]
    },
    {
     "data": {
      "text/plain": [
       "'FINALLY PAID'"
      ]
     },
     "execution_count": 15,
     "metadata": {},
     "output_type": "execute_result"
    }
   ],
   "source": [
    "get_citizen_info(dutiful_citizen)\n",
    "\"FINALLY PAID\""
   ]
  },
  {
   "cell_type": "markdown",
   "metadata": {},
   "source": [
    "<a name = 'cycle'></a>\n",
    "## Working with trashbags lifecycles\n",
    "\n",
    "The trucks will pick them up and drop them at the disposal station. From excel files we simulate what the sensors would use as inputs."
   ]
  },
  {
   "cell_type": "code",
   "execution_count": 16,
   "metadata": {},
   "outputs": [
    {
     "data": {
      "text/html": [
       "<div>\n",
       "<style scoped>\n",
       "    .dataframe tbody tr th:only-of-type {\n",
       "        vertical-align: middle;\n",
       "    }\n",
       "\n",
       "    .dataframe tbody tr th {\n",
       "        vertical-align: top;\n",
       "    }\n",
       "\n",
       "    .dataframe thead th {\n",
       "        text-align: right;\n",
       "    }\n",
       "</style>\n",
       "<table border=\"1\" class=\"dataframe\">\n",
       "  <thead>\n",
       "    <tr style=\"text-align: right;\">\n",
       "      <th></th>\n",
       "      <th>name</th>\n",
       "      <th>surname</th>\n",
       "      <th>weight</th>\n",
       "      <th>recycle</th>\n",
       "    </tr>\n",
       "  </thead>\n",
       "  <tbody>\n",
       "    <tr>\n",
       "      <th>0</th>\n",
       "      <td>Francesca</td>\n",
       "      <td>Bianchessi</td>\n",
       "      <td>1</td>\n",
       "      <td>True</td>\n",
       "    </tr>\n",
       "    <tr>\n",
       "      <th>1</th>\n",
       "      <td>Ilaria</td>\n",
       "      <td>Bolla</td>\n",
       "      <td>2</td>\n",
       "      <td>False</td>\n",
       "    </tr>\n",
       "    <tr>\n",
       "      <th>2</th>\n",
       "      <td>Alessandro</td>\n",
       "      <td>Botti</td>\n",
       "      <td>3</td>\n",
       "      <td>True</td>\n",
       "    </tr>\n",
       "    <tr>\n",
       "      <th>3</th>\n",
       "      <td>Davide</td>\n",
       "      <td>Castellini</td>\n",
       "      <td>1</td>\n",
       "      <td>False</td>\n",
       "    </tr>\n",
       "    <tr>\n",
       "      <th>4</th>\n",
       "      <td>Anna</td>\n",
       "      <td>Di Marco</td>\n",
       "      <td>2</td>\n",
       "      <td>True</td>\n",
       "    </tr>\n",
       "    <tr>\n",
       "      <th>5</th>\n",
       "      <td>Francesca</td>\n",
       "      <td>Bianchessi</td>\n",
       "      <td>1</td>\n",
       "      <td>True</td>\n",
       "    </tr>\n",
       "  </tbody>\n",
       "</table>\n",
       "</div>"
      ],
      "text/plain": [
       "         name     surname  weight  recycle\n",
       "0   Francesca  Bianchessi       1     True\n",
       "1      Ilaria       Bolla       2    False\n",
       "2  Alessandro       Botti       3     True\n",
       "3      Davide  Castellini       1    False\n",
       "4        Anna    Di Marco       2     True\n",
       "5   Francesca  Bianchessi       1     True"
      ]
     },
     "execution_count": 16,
     "metadata": {},
     "output_type": "execute_result"
    }
   ],
   "source": [
    "bags = pd.read_excel('data/example_data.xlsx', sheet_name='bags_data')\n",
    "bags.head(6) "
   ]
  },
  {
   "cell_type": "markdown",
   "metadata": {},
   "source": [
    "#### Pick up trash\n",
    "\n",
    "Function called from the truck and using sensors to check the weight \n",
    "\n",
    "(Here we automatically assign the correct truck to the trash type. It would otherwise throw an error)"
   ]
  },
  {
   "cell_type": "code",
   "execution_count": 17,
   "metadata": {},
   "outputs": [],
   "source": [
    "# The right truck will pick up the various trashbags\n",
    "for i, name, sur, w, recyclable in bags.itertuples():\n",
    "\n",
    "    # get address of generator\n",
    "    generator_addr = data[data.name == name]['address'].item()\n",
    "    \n",
    "    # get correct truck address via subsetting\n",
    "    truck_addr = data[(data['name'] == 'Truck') & (data['recycle'] == recyclable)]['address'].item()\n",
    "    \n",
    "    # 'pick' function in contract is called by the correct truck\n",
    "    contract.functions.pick(generator_addr, w, random.randint(0, 1e+10)).transact({'from' : truck_addr})"
   ]
  },
  {
   "cell_type": "code",
   "execution_count": 18,
   "metadata": {},
   "outputs": [
    {
     "name": "stdout",
     "output_type": "stream",
     "text": [
      "\n",
      "    Address eth : 0xC99c6450BD096A6F707F34cC058408FcDCFA074E\n",
      "    Name : Francesca Bianchessi\n",
      "    Family members : 2\n",
      "    House sq.meters : 70\n",
      "    Assigned weight\\liters : 0\n",
      "    TARI amount : 190000000000000000\n",
      "    Recyclable Waste Tot : 16\n",
      "    Non Recyclable Waste Tot : 12\n",
      "    Paid TARI : True\n",
      "    Active account : True\n",
      "    \n",
      "\n",
      "    Address eth : 0x30A64a3734cab778eF3B21C65aeB605cfDa03f7b\n",
      "    Truck number : 1\n",
      "    Weight transported : 71\n",
      "    Recyclable Truck : True\n",
      "    Active Truck : True\n",
      "    \n"
     ]
    },
    {
     "data": {
      "text/plain": [
       "'See both waste counters increased for the citizen and weight transported for the truck'"
      ]
     },
     "execution_count": 18,
     "metadata": {},
     "output_type": "execute_result"
    }
   ],
   "source": [
    "get_citizen_info(dutiful_citizen)\n",
    "get_truck_info(ex_truck)\n",
    "\n",
    "\"\"\"See both waste counters increased for the citizen and weight transported for the truck\"\"\""
   ]
  },
  {
   "cell_type": "markdown",
   "metadata": {},
   "source": [
    "#### Drop bags at station\n",
    "\n",
    "Still a function from the side of the truck. The truck will result empty after dropping and the station will increase its total counter with the recieved weight."
   ]
  },
  {
   "cell_type": "code",
   "execution_count": 19,
   "metadata": {},
   "outputs": [
    {
     "data": {
      "text/html": [
       "<div>\n",
       "<style scoped>\n",
       "    .dataframe tbody tr th:only-of-type {\n",
       "        vertical-align: middle;\n",
       "    }\n",
       "\n",
       "    .dataframe tbody tr th {\n",
       "        vertical-align: top;\n",
       "    }\n",
       "\n",
       "    .dataframe thead th {\n",
       "        text-align: right;\n",
       "    }\n",
       "</style>\n",
       "<table border=\"1\" class=\"dataframe\">\n",
       "  <thead>\n",
       "    <tr style=\"text-align: right;\">\n",
       "      <th></th>\n",
       "      <th>name</th>\n",
       "      <th>surname</th>\n",
       "      <th>lat</th>\n",
       "      <th>long</th>\n",
       "    </tr>\n",
       "  </thead>\n",
       "  <tbody>\n",
       "    <tr>\n",
       "      <th>0</th>\n",
       "      <td>Disposal Station</td>\n",
       "      <td>Milano</td>\n",
       "      <td>45.4642</td>\n",
       "      <td>9.1900</td>\n",
       "    </tr>\n",
       "    <tr>\n",
       "      <th>1</th>\n",
       "      <td>Disposal Station</td>\n",
       "      <td>Bologna</td>\n",
       "      <td>44.4949</td>\n",
       "      <td>11.3426</td>\n",
       "    </tr>\n",
       "  </tbody>\n",
       "</table>\n",
       "</div>"
      ],
      "text/plain": [
       "               name surname       lat     long\n",
       "0  Disposal Station   Milano  45.4642   9.1900\n",
       "1  Disposal Station  Bologna  44.4949  11.3426"
      ]
     },
     "execution_count": 19,
     "metadata": {},
     "output_type": "execute_result"
    }
   ],
   "source": [
    "gps = pd.read_excel('data/example_data.xlsx', sheet_name='gps_data')\n",
    "gps"
   ]
  },
  {
   "cell_type": "code",
   "execution_count": 20,
   "metadata": {},
   "outputs": [
    {
     "name": "stdout",
     "output_type": "stream",
     "text": [
      "\n",
      "    Address eth : 0x3fcC63EfD8D44359315e67def36E1981cf885364\n",
      "    Station nr. : 1\n",
      "    Weight : 0\n",
      "    latitude : 45\n",
      "    longitude : 9\n",
      "    Recyclable Plant : True\n",
      "    Active Plant : True\n",
      "    \n"
     ]
    }
   ],
   "source": [
    "get_station_info(ex_station)"
   ]
  },
  {
   "cell_type": "code",
   "execution_count": 21,
   "metadata": {},
   "outputs": [],
   "source": [
    "# get station name and coords from the gps\n",
    "for i, name, sur, lat, long in gps.itertuples():\n",
    "    \n",
    "    #get station address\n",
    "    station_addr = data[(data.name == name) & (data.surname == sur)]['address'].item()\n",
    "    \n",
    "    #get_station_info(station_addr)\n",
    "    # need to get the type of station (recycling/not recycling) to pair the truck\n",
    "    s_info = contract.functions.stations(station_addr).call() # s_info[4] is the type\n",
    "    \n",
    "    # pairing truck based on recyclable or not and calling the 'drop' function\n",
    "    correct_truck = data[(data.name == 'Truck') & (data.recycle == s_info[4])]['address'].item()\n",
    "    \n",
    "    contract.functions.drop(station_addr, int(lat), int(long)).transact({'from' : correct_truck})\n",
    "    "
   ]
  },
  {
   "cell_type": "code",
   "execution_count": 22,
   "metadata": {},
   "outputs": [
    {
     "name": "stdout",
     "output_type": "stream",
     "text": [
      "\n",
      "    Address eth : 0x3fcC63EfD8D44359315e67def36E1981cf885364\n",
      "    Station nr. : 1\n",
      "    Weight : 71\n",
      "    latitude : 45\n",
      "    longitude : 9\n",
      "    Recyclable Plant : True\n",
      "    Active Plant : True\n",
      "    \n",
      "\n",
      "    Address eth : 0x30A64a3734cab778eF3B21C65aeB605cfDa03f7b\n",
      "    Truck number : 1\n",
      "    Weight transported : 0\n",
      "    Recyclable Truck : True\n",
      "    Active Truck : True\n",
      "    \n"
     ]
    },
    {
     "data": {
      "text/plain": [
       "'Station weight increased by weight in truck which is in turn empty'"
      ]
     },
     "execution_count": 22,
     "metadata": {},
     "output_type": "execute_result"
    }
   ],
   "source": [
    "get_station_info(ex_station)\n",
    "get_truck_info(ex_truck)\n",
    "\n",
    "\"\"\"Station weight increased by weight in truck which is in turn empty\"\"\""
   ]
  },
  {
   "cell_type": "markdown",
   "metadata": {},
   "source": [
    "#### Recieved \n",
    "\n",
    "Function called by the station. Its sensors will say which truck deposited garbage and the total garbage present at the station in that moment. \n",
    "\n",
    "Right now we filled and emptied the truck in one go. So it's not much of an example (could rerun both for loops above -pick- -drop- and modify this excel to simulate multiple runs and the increased total weight of the station)"
   ]
  },
  {
   "cell_type": "code",
   "execution_count": 23,
   "metadata": {},
   "outputs": [
    {
     "data": {
      "text/html": [
       "<div>\n",
       "<style scoped>\n",
       "    .dataframe tbody tr th:only-of-type {\n",
       "        vertical-align: middle;\n",
       "    }\n",
       "\n",
       "    .dataframe tbody tr th {\n",
       "        vertical-align: top;\n",
       "    }\n",
       "\n",
       "    .dataframe thead th {\n",
       "        text-align: right;\n",
       "    }\n",
       "</style>\n",
       "<table border=\"1\" class=\"dataframe\">\n",
       "  <thead>\n",
       "    <tr style=\"text-align: right;\">\n",
       "      <th></th>\n",
       "      <th>name</th>\n",
       "      <th>surname</th>\n",
       "      <th>weight</th>\n",
       "    </tr>\n",
       "  </thead>\n",
       "  <tbody>\n",
       "    <tr>\n",
       "      <th>0</th>\n",
       "      <td>Truck</td>\n",
       "      <td>Recycle</td>\n",
       "      <td>71</td>\n",
       "    </tr>\n",
       "    <tr>\n",
       "      <th>1</th>\n",
       "      <td>Truck</td>\n",
       "      <td>Not Recycle</td>\n",
       "      <td>69</td>\n",
       "    </tr>\n",
       "  </tbody>\n",
       "</table>\n",
       "</div>"
      ],
      "text/plain": [
       "    name      surname  weight\n",
       "0  Truck      Recycle      71\n",
       "1  Truck  Not Recycle      69"
      ]
     },
     "execution_count": 23,
     "metadata": {},
     "output_type": "execute_result"
    }
   ],
   "source": [
    "station_sense = pd.read_excel('data/example_data.xlsx', sheet_name='stations_data')\n",
    "station_sense"
   ]
  },
  {
   "cell_type": "code",
   "execution_count": 24,
   "metadata": {
    "scrolled": true
   },
   "outputs": [
    {
     "name": "stdout",
     "output_type": "stream",
     "text": [
      "From Truck: 0x30A64a3734cab778eF3B21C65aeB605cfDa03f7b\n",
      "To Station: 0x3fcC63EfD8D44359315e67def36E1981cf885364\n",
      "From Truck: 0x759Ec1c10FfFB030761CDD7a6E3A0B0212E43f01\n",
      "To Station: 0x62993C286F1C02119216841D88f13b85068De8f1\n"
     ]
    }
   ],
   "source": [
    "for i, name, sur ,weight in station_sense.itertuples():\n",
    "    \n",
    "    # get truck address\n",
    "    truck_addr = data[(data.name == name) & (data.surname == sur)]['address'].item()\n",
    "    \n",
    "    # correct station to read the correct type of truck [otherwise we get an error]\n",
    "    info_tr = contract.functions.trucks(truck_addr).call() # to get truck type in info_tr[2] \n",
    "    st_addr = data[(data.name == 'Disposal Station') & (data.recycle == info_tr[2])]['address'].item() \n",
    "    print(f\"From Truck: {truck_addr}\\nTo Station: {st_addr}\")\n",
    "    \n",
    "    #recieved function call\n",
    "    contract.functions.received(info_tr[2], truck_addr, weight).transact({'from' : st_addr})\n",
    "    \n",
    "    "
   ]
  },
  {
   "cell_type": "markdown",
   "metadata": {},
   "source": [
    "<a name = 'refund'></a>\n",
    "## Refund\n",
    "\n",
    "municipality withdraws form the contract the ETH and then does the payout for all citizens\n"
   ]
  },
  {
   "cell_type": "code",
   "execution_count": 25,
   "metadata": {},
   "outputs": [
    {
     "name": "stdout",
     "output_type": "stream",
     "text": [
      "0xE66C9F578081e625ac6f3FD7F3c1bF0bB2fd1074\n"
     ]
    }
   ],
   "source": [
    "print(municipality) # we have the municipality address stored from before"
   ]
  },
  {
   "cell_type": "code",
   "execution_count": 26,
   "metadata": {},
   "outputs": [
    {
     "name": "stdout",
     "output_type": "stream",
     "text": [
      "Withdrawn: 2.16024056 ETH (also minus gas costs)\n"
     ]
    }
   ],
   "source": [
    "# the withdraw works just like this, see ganache '0' account --> municipality\n",
    "before = web3.eth.getBalance(municipality)\n",
    "contract.functions.withdraw().transact({'from' : municipality}) \n",
    "after = web3.eth.getBalance(municipality)\n",
    "print(f\"Withdrawn: {(after-before)/(10**18)} ETH (also minus gas costs)\")"
   ]
  },
  {
   "cell_type": "code",
   "execution_count": 27,
   "metadata": {},
   "outputs": [
    {
     "name": "stdout",
     "output_type": "stream",
     "text": [
      "0xC99c6450BD096A6F707F34cC058408FcDCFA074E\n",
      "Refunded wei :9500000000000000--> Euro : 0.009500000000000001\n",
      "\n",
      "0xffaBf9f203Fe06E5EB49E53D8f4de24d30FBaDd1\n",
      "Refunded wei :9800000000000000--> Euro : 0.009800000000000001\n",
      "\n",
      "0x9F23749c9a118d55Aa0a9953bF6Fa410525E063B\n",
      "Refunded wei :72000000000000000--> Euro : 0.07200000000000001\n",
      "\n",
      "0x0E130AC630CdE2DEa77AadE2e5f5Ce3b0bbAA559\n",
      "Refunded wei :2400000000000000--> Euro : 0.0024000000000000002\n",
      "\n",
      "0x9EA42f31Bd3dC0C5ee2845113AA42025B2228A13\n",
      "Refunded wei :10800000000000000--> Euro : 0.0108\n",
      "\n"
     ]
    }
   ],
   "source": [
    "# citizen address as input to function\n",
    "for citizen in data[data.role == 'citizen']['address']:\n",
    "    \n",
    "    # balance comparison for the refund\n",
    "    before = web3.eth.getBalance(citizen)\n",
    "    contract.functions.givePayout(citizen).transact({'from' : municipality})\n",
    "    after = web3.eth.getBalance(citizen)\n",
    "    \n",
    "    print(f\"{citizen}\\nRefunded wei :{after-before} --> Euro : {(after-before)*10**(-18)}\\n\")\n",
    "        "
   ]
  },
  {
   "cell_type": "code",
   "execution_count": 29,
   "metadata": {},
   "outputs": [
    {
     "name": "stdout",
     "output_type": "stream",
     "text": [
      "On contract there is still : 0.19022 ETH\n"
     ]
    }
   ],
   "source": [
    "# how much is still on the contract should be low\n",
    "balance = contract.functions.MunicipalityBalance().call({'from' : municipality})\n",
    "print('On contract there is still :', balance/(10**18), 'ETH')"
   ]
  },
  {
   "cell_type": "code",
   "execution_count": null,
   "metadata": {},
   "outputs": [],
   "source": [
    "# selfdestruct contract by invoking kill function\n",
    "#contract.functions.kill().transact({'from' : municipality})"
   ]
  },
  {
   "cell_type": "markdown",
   "metadata": {},
   "source": [
    "<a name = 'logs'></a>\n",
    "\n",
    "## Event/Log Filtering\n",
    "\n",
    "After running the above cells the chain is populated with a lot of different logs from events. They can be extracted with specific filters that are contract specific. \n",
    "\n",
    "(Right now just 1 filter for the sake of demonstration and an example of the database that is created. A ***real time*** version that repeatedly checks the last block is in the 'events_real_time.py')"
   ]
  },
  {
   "cell_type": "code",
   "execution_count": 30,
   "metadata": {},
   "outputs": [],
   "source": [
    "# creating logs/event filters to inspect the whole chain (fromBlock = 1)\n",
    "\n",
    "# filter for the Event 'PickedUp' generated by the truck\n",
    "pickedUp_filter = contract.events.PickedUp.createFilter(fromBlock = 1)\n",
    "#recieved_filter etc\n",
    "\n",
    "filters = [pickedUp_filter]"
   ]
  },
  {
   "cell_type": "code",
   "execution_count": 31,
   "metadata": {},
   "outputs": [],
   "source": [
    "def get_past_logs(filter_list):\n",
    "    \"\"\"\n",
    "    Iterates over every filter built and extracts logs from the block specified in the filter to the 'latest'\n",
    "    \n",
    "    inputs\n",
    "    ---------------\n",
    "     filter_list : filters created\n",
    "    \n",
    "    returns\n",
    "    ---------------\n",
    "     list containing every event attribute generated from the 'emit' on the contract\n",
    "    \"\"\"\n",
    "    events = []\n",
    "    for event_filter in filter_list:\n",
    "        for e in event_filter.get_all_entries(): # get_new_entry() to check only last block\n",
    "            \n",
    "            # e is a nested dictionary, like this we bring all elements on the same level\n",
    "            args = dict(e['args'])\n",
    "            args.update(dict(e))\n",
    "            del args['args'] # brought one level above, delete the nest\n",
    "            # args.pop('args', None) # could delete like this too\n",
    "            \n",
    "            events.append(args)\n",
    "            \n",
    "    return events"
   ]
  },
  {
   "cell_type": "code",
   "execution_count": 32,
   "metadata": {
    "scrolled": false
   },
   "outputs": [
    {
     "data": {
      "text/html": [
       "<div>\n",
       "<style scoped>\n",
       "    .dataframe tbody tr th:only-of-type {\n",
       "        vertical-align: middle;\n",
       "    }\n",
       "\n",
       "    .dataframe tbody tr th {\n",
       "        vertical-align: top;\n",
       "    }\n",
       "\n",
       "    .dataframe thead th {\n",
       "        text-align: right;\n",
       "    }\n",
       "</style>\n",
       "<table border=\"1\" class=\"dataframe\">\n",
       "  <thead>\n",
       "    <tr style=\"text-align: right;\">\n",
       "      <th></th>\n",
       "      <th>transporter</th>\n",
       "      <th>wasteType</th>\n",
       "      <th>bagId</th>\n",
       "      <th>generator</th>\n",
       "      <th>wasteWeight</th>\n",
       "      <th>pickUpTime</th>\n",
       "      <th>event</th>\n",
       "      <th>logIndex</th>\n",
       "      <th>transactionIndex</th>\n",
       "      <th>transactionHash</th>\n",
       "      <th>address</th>\n",
       "      <th>blockHash</th>\n",
       "      <th>blockNumber</th>\n",
       "    </tr>\n",
       "  </thead>\n",
       "  <tbody>\n",
       "    <tr>\n",
       "      <th>0</th>\n",
       "      <td>0x30A64a3734cab778eF3B21C65aeB605cfDa03f7b</td>\n",
       "      <td>True</td>\n",
       "      <td>b'\\xfc7:\\xa8\\x9a:\\xd4hb\\x85r\\x15\\x15*so\\\\2s\\x0...</td>\n",
       "      <td>0xC99c6450BD096A6F707F34cC058408FcDCFA074E</td>\n",
       "      <td>1</td>\n",
       "      <td>1607712123</td>\n",
       "      <td>PickedUp</td>\n",
       "      <td>0</td>\n",
       "      <td>0</td>\n",
       "      <td>b'n\\xab\\x08\\xbb\\xd8\\xbdo\\xe1\\x0e1\\xe9oU\\xa0p\\x...</td>\n",
       "      <td>0xBe900d45964d115F37Aab2A1E619E755614cfD4c</td>\n",
       "      <td>b':+du\\x0c\\xf4,h\\x05\\x16Z Q#\\xa9\\x16\\xeey\\x11d...</td>\n",
       "      <td>21</td>\n",
       "    </tr>\n",
       "    <tr>\n",
       "      <th>1</th>\n",
       "      <td>0x759Ec1c10FfFB030761CDD7a6E3A0B0212E43f01</td>\n",
       "      <td>False</td>\n",
       "      <td>b'+v\\xe31\\x0b\\xd8zt}\\x08\\xf8\\xeeabe?\\xf2n\\xefn...</td>\n",
       "      <td>0xffaBf9f203Fe06E5EB49E53D8f4de24d30FBaDd1</td>\n",
       "      <td>2</td>\n",
       "      <td>1607712124</td>\n",
       "      <td>PickedUp</td>\n",
       "      <td>0</td>\n",
       "      <td>0</td>\n",
       "      <td>b't\\x94\\x89\\xf4Y\\xf3SAo\\xa4\\x9d\\xc5#sxK\\x1f ^z...</td>\n",
       "      <td>0xBe900d45964d115F37Aab2A1E619E755614cfD4c</td>\n",
       "      <td>b'\\xe7\\xb9\\xf7\\xa1\\xe5=\\xddF+Bg\\xf1\\xbeg\\x03\\x...</td>\n",
       "      <td>22</td>\n",
       "    </tr>\n",
       "    <tr>\n",
       "      <th>2</th>\n",
       "      <td>0x30A64a3734cab778eF3B21C65aeB605cfDa03f7b</td>\n",
       "      <td>True</td>\n",
       "      <td>b'+\\xda\\xbc!Xl\\xf3-\\xf9W\\x94by\\xd8X\\x1c\\x08\\xd...</td>\n",
       "      <td>0x9F23749c9a118d55Aa0a9953bF6Fa410525E063B</td>\n",
       "      <td>3</td>\n",
       "      <td>1607712124</td>\n",
       "      <td>PickedUp</td>\n",
       "      <td>0</td>\n",
       "      <td>0</td>\n",
       "      <td>b'yd\\xe4\\x11\\x17\\xa7k\\xde\\x8f\\xcc\\xba\\x86\\xc4\\...</td>\n",
       "      <td>0xBe900d45964d115F37Aab2A1E619E755614cfD4c</td>\n",
       "      <td>b\"\\x0b\\xab\\x07\\xe8\\x9c\\xed\\xcf\\xc92t\\xa0\\xd0\\x...</td>\n",
       "      <td>23</td>\n",
       "    </tr>\n",
       "    <tr>\n",
       "      <th>3</th>\n",
       "      <td>0x759Ec1c10FfFB030761CDD7a6E3A0B0212E43f01</td>\n",
       "      <td>False</td>\n",
       "      <td>b'\\xe9\\xa2\\xb6\\xf1\\x83G\\xc6\\x9c\\x10\\x93W)\\xa6\\...</td>\n",
       "      <td>0x0E130AC630CdE2DEa77AadE2e5f5Ce3b0bbAA559</td>\n",
       "      <td>1</td>\n",
       "      <td>1607712125</td>\n",
       "      <td>PickedUp</td>\n",
       "      <td>0</td>\n",
       "      <td>0</td>\n",
       "      <td>b'].\\xe1\\x0e9,\\x80z%-\\xdf\\\\g\\rPp\\xbc,eV\\x91{\\x...</td>\n",
       "      <td>0xBe900d45964d115F37Aab2A1E619E755614cfD4c</td>\n",
       "      <td>b'\\xe7\\xa8Z\\xc0Q\\x84\\xd7}2\\xbbFx\\xe7[V\\xbe\\x1b...</td>\n",
       "      <td>24</td>\n",
       "    </tr>\n",
       "    <tr>\n",
       "      <th>4</th>\n",
       "      <td>0x30A64a3734cab778eF3B21C65aeB605cfDa03f7b</td>\n",
       "      <td>True</td>\n",
       "      <td>b'I\\xe5\\xa0\\nP\\xd9\\xd3\\xe4A\\xb0_P]\\xbb\\xcf\\xde...</td>\n",
       "      <td>0x9EA42f31Bd3dC0C5ee2845113AA42025B2228A13</td>\n",
       "      <td>2</td>\n",
       "      <td>1607712126</td>\n",
       "      <td>PickedUp</td>\n",
       "      <td>0</td>\n",
       "      <td>0</td>\n",
       "      <td>b'\\x14\\xdd\\xfe6\\x1ev\\x84\\xa9\\x89\\xd2\\xbe5\\xe3\\...</td>\n",
       "      <td>0xBe900d45964d115F37Aab2A1E619E755614cfD4c</td>\n",
       "      <td>b'\\x15\\x05~\\x05ob\\x00T\\xc7\\x8a\\xae\\x1aO\\xdc\\xe...</td>\n",
       "      <td>25</td>\n",
       "    </tr>\n",
       "  </tbody>\n",
       "</table>\n",
       "</div>"
      ],
      "text/plain": [
       "                                  transporter  wasteType  \\\n",
       "0  0x30A64a3734cab778eF3B21C65aeB605cfDa03f7b       True   \n",
       "1  0x759Ec1c10FfFB030761CDD7a6E3A0B0212E43f01      False   \n",
       "2  0x30A64a3734cab778eF3B21C65aeB605cfDa03f7b       True   \n",
       "3  0x759Ec1c10FfFB030761CDD7a6E3A0B0212E43f01      False   \n",
       "4  0x30A64a3734cab778eF3B21C65aeB605cfDa03f7b       True   \n",
       "\n",
       "                                               bagId  \\\n",
       "0  b'\\xfc7:\\xa8\\x9a:\\xd4hb\\x85r\\x15\\x15*so\\\\2s\\x0...   \n",
       "1  b'+v\\xe31\\x0b\\xd8zt}\\x08\\xf8\\xeeabe?\\xf2n\\xefn...   \n",
       "2  b'+\\xda\\xbc!Xl\\xf3-\\xf9W\\x94by\\xd8X\\x1c\\x08\\xd...   \n",
       "3  b'\\xe9\\xa2\\xb6\\xf1\\x83G\\xc6\\x9c\\x10\\x93W)\\xa6\\...   \n",
       "4  b'I\\xe5\\xa0\\nP\\xd9\\xd3\\xe4A\\xb0_P]\\xbb\\xcf\\xde...   \n",
       "\n",
       "                                    generator  wasteWeight  pickUpTime  \\\n",
       "0  0xC99c6450BD096A6F707F34cC058408FcDCFA074E            1  1607712123   \n",
       "1  0xffaBf9f203Fe06E5EB49E53D8f4de24d30FBaDd1            2  1607712124   \n",
       "2  0x9F23749c9a118d55Aa0a9953bF6Fa410525E063B            3  1607712124   \n",
       "3  0x0E130AC630CdE2DEa77AadE2e5f5Ce3b0bbAA559            1  1607712125   \n",
       "4  0x9EA42f31Bd3dC0C5ee2845113AA42025B2228A13            2  1607712126   \n",
       "\n",
       "      event  logIndex  transactionIndex  \\\n",
       "0  PickedUp         0                 0   \n",
       "1  PickedUp         0                 0   \n",
       "2  PickedUp         0                 0   \n",
       "3  PickedUp         0                 0   \n",
       "4  PickedUp         0                 0   \n",
       "\n",
       "                                     transactionHash  \\\n",
       "0  b'n\\xab\\x08\\xbb\\xd8\\xbdo\\xe1\\x0e1\\xe9oU\\xa0p\\x...   \n",
       "1  b't\\x94\\x89\\xf4Y\\xf3SAo\\xa4\\x9d\\xc5#sxK\\x1f ^z...   \n",
       "2  b'yd\\xe4\\x11\\x17\\xa7k\\xde\\x8f\\xcc\\xba\\x86\\xc4\\...   \n",
       "3  b'].\\xe1\\x0e9,\\x80z%-\\xdf\\\\g\\rPp\\xbc,eV\\x91{\\x...   \n",
       "4  b'\\x14\\xdd\\xfe6\\x1ev\\x84\\xa9\\x89\\xd2\\xbe5\\xe3\\...   \n",
       "\n",
       "                                      address  \\\n",
       "0  0xBe900d45964d115F37Aab2A1E619E755614cfD4c   \n",
       "1  0xBe900d45964d115F37Aab2A1E619E755614cfD4c   \n",
       "2  0xBe900d45964d115F37Aab2A1E619E755614cfD4c   \n",
       "3  0xBe900d45964d115F37Aab2A1E619E755614cfD4c   \n",
       "4  0xBe900d45964d115F37Aab2A1E619E755614cfD4c   \n",
       "\n",
       "                                           blockHash  blockNumber  \n",
       "0  b':+du\\x0c\\xf4,h\\x05\\x16Z Q#\\xa9\\x16\\xeey\\x11d...           21  \n",
       "1  b'\\xe7\\xb9\\xf7\\xa1\\xe5=\\xddF+Bg\\xf1\\xbeg\\x03\\x...           22  \n",
       "2  b\"\\x0b\\xab\\x07\\xe8\\x9c\\xed\\xcf\\xc92t\\xa0\\xd0\\x...           23  \n",
       "3  b'\\xe7\\xa8Z\\xc0Q\\x84\\xd7}2\\xbbFx\\xe7[V\\xbe\\x1b...           24  \n",
       "4  b'\\x15\\x05~\\x05ob\\x00T\\xc7\\x8a\\xae\\x1aO\\xdc\\xe...           25  "
      ]
     },
     "execution_count": 32,
     "metadata": {},
     "output_type": "execute_result"
    }
   ],
   "source": [
    "# Pass filters on the chain (from block 1) and pick logs found (for now only 'ToPickUp')\n",
    "# Can see logs of the 5 citizens, each one a different generator and all the garble generated by the event\n",
    "events = get_past_logs(filters)\n",
    "df = pd.DataFrame(events)\n",
    "df.head()"
   ]
  },
  {
   "cell_type": "code",
   "execution_count": null,
   "metadata": {},
   "outputs": [],
   "source": []
  }
 ],
 "metadata": {
  "kernelspec": {
   "display_name": "Python 3",
   "language": "python",
   "name": "python3"
  },
  "language_info": {
   "codemirror_mode": {
    "name": "ipython",
    "version": 3
   },
   "file_extension": ".py",
   "mimetype": "text/x-python",
   "name": "python",
   "nbconvert_exporter": "python",
   "pygments_lexer": "ipython3",
   "version": "3.8.3"
  }
 },
 "nbformat": 4,
 "nbformat_minor": 4
}
