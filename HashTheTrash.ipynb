{
 "cells": [
  {
   "cell_type": "markdown",
   "metadata": {},
   "source": [
    "# Hash the Trash notebook\n",
    "\n",
    "Here everything should run smoothly with just this notebook, running Ganache (with quickstart) and setting the PORT on which Ganache is running (The contract's abi and bytecode has been compiled from Remix and imported here to run everything).\n",
    "\n",
    "To see the real time version of the blockchain event log catcher: \n",
    "1. Deploy the contract from this notebook [from cell 1 through 6]\n",
    "2. launch the 'events_real_time.py' from the terminal and just continue through the notebook (basic prints will appear in the terminal when trashbags lifecycle events gets called and the events_log.csv will record them)\n",
    "\n",
    "Various sections are:\n",
    "* [deploying the contract](#deploy)\n",
    "* [operating with its functions from eth accounts](#functions)\n",
    "    * [TARI](#tari)\n",
    "    * [Trash cycle](#cycle)\n",
    "    * [Refund](#refund)\n",
    "* [picking up logs of certain events from the chain](#logs)"
   ]
  },
  {
   "cell_type": "code",
   "execution_count": null,
   "metadata": {},
   "outputs": [],
   "source": [
    "!pip install -r requirements.txt # if not already run"
   ]
  },
  {
   "cell_type": "code",
   "execution_count": 1,
   "metadata": {},
   "outputs": [],
   "source": [
    "# imports\n",
    "import random, time, json\n",
    "import pandas as pd\n",
    "from web3 import Web3\n",
    "from contracts.abi_bytecode import abi, bytecode # saved externally as .py\n",
    "\n",
    "# to webscrape ETH exchange rate\n",
    "from bs4 import BeautifulSoup\n",
    "import requests\n",
    "from forex_python.converter import CurrencyRates"
   ]
  },
  {
   "cell_type": "code",
   "execution_count": 2,
   "metadata": {},
   "outputs": [
    {
     "data": {
      "text/plain": [
       "True"
      ]
     },
     "execution_count": 2,
     "metadata": {},
     "output_type": "execute_result"
    }
   ],
   "source": [
    "# Connecting to ganache through opened up PORT\n",
    "ganache_url = 'HTTP://127.0.0.1:7545'      #change here if different\n",
    "web3 = Web3(Web3.HTTPProvider(ganache_url))\n",
    "web3.isConnected()"
   ]
  },
  {
   "cell_type": "code",
   "execution_count": 3,
   "metadata": {},
   "outputs": [
    {
     "data": {
      "text/html": [
       "<div>\n",
       "<style scoped>\n",
       "    .dataframe tbody tr th:only-of-type {\n",
       "        vertical-align: middle;\n",
       "    }\n",
       "\n",
       "    .dataframe tbody tr th {\n",
       "        vertical-align: top;\n",
       "    }\n",
       "\n",
       "    .dataframe thead th {\n",
       "        text-align: right;\n",
       "    }\n",
       "</style>\n",
       "<table border=\"1\" class=\"dataframe\">\n",
       "  <thead>\n",
       "    <tr style=\"text-align: right;\">\n",
       "      <th></th>\n",
       "      <th>name</th>\n",
       "      <th>surname</th>\n",
       "      <th>family</th>\n",
       "      <th>mq</th>\n",
       "      <th>weight</th>\n",
       "      <th>recycle</th>\n",
       "      <th>lat</th>\n",
       "      <th>long</th>\n",
       "      <th>role</th>\n",
       "      <th>address</th>\n",
       "    </tr>\n",
       "  </thead>\n",
       "  <tbody>\n",
       "    <tr>\n",
       "      <th>0</th>\n",
       "      <td>Comune</td>\n",
       "      <td>Codogno</td>\n",
       "      <td>0.0</td>\n",
       "      <td>0.0</td>\n",
       "      <td>0.0</td>\n",
       "      <td>NaN</td>\n",
       "      <td>NaN</td>\n",
       "      <td>NaN</td>\n",
       "      <td>municipality</td>\n",
       "      <td>0x0c8D3C7F1B0b5a0A4BBD7a20d7964E8bcA24d091</td>\n",
       "    </tr>\n",
       "    <tr>\n",
       "      <th>1</th>\n",
       "      <td>Francesca</td>\n",
       "      <td>Bianchessi</td>\n",
       "      <td>2.0</td>\n",
       "      <td>70.0</td>\n",
       "      <td>500.0</td>\n",
       "      <td>NaN</td>\n",
       "      <td>NaN</td>\n",
       "      <td>NaN</td>\n",
       "      <td>citizen</td>\n",
       "      <td>0xeA31e61d90f3238DbF6C36E9aFcD555252383390</td>\n",
       "    </tr>\n",
       "    <tr>\n",
       "      <th>2</th>\n",
       "      <td>Ilaria</td>\n",
       "      <td>Bolla</td>\n",
       "      <td>4.0</td>\n",
       "      <td>200.0</td>\n",
       "      <td>900.0</td>\n",
       "      <td>NaN</td>\n",
       "      <td>NaN</td>\n",
       "      <td>NaN</td>\n",
       "      <td>citizen</td>\n",
       "      <td>0xfC0a26e14bD419F94F967a2cFA352f2c962673f4</td>\n",
       "    </tr>\n",
       "    <tr>\n",
       "      <th>3</th>\n",
       "      <td>Alessandro</td>\n",
       "      <td>Botti</td>\n",
       "      <td>5.0</td>\n",
       "      <td>340.0</td>\n",
       "      <td>800.0</td>\n",
       "      <td>NaN</td>\n",
       "      <td>NaN</td>\n",
       "      <td>NaN</td>\n",
       "      <td>citizen</td>\n",
       "      <td>0x8352D2ad4D51747265028aC6610C61a96b56d68d</td>\n",
       "    </tr>\n",
       "    <tr>\n",
       "      <th>4</th>\n",
       "      <td>Davide</td>\n",
       "      <td>Castellini</td>\n",
       "      <td>3.0</td>\n",
       "      <td>50.0</td>\n",
       "      <td>200.0</td>\n",
       "      <td>NaN</td>\n",
       "      <td>NaN</td>\n",
       "      <td>NaN</td>\n",
       "      <td>citizen</td>\n",
       "      <td>0x1c6bf93000e5920A978EAb41AD92E4c13DCC03A9</td>\n",
       "    </tr>\n",
       "    <tr>\n",
       "      <th>5</th>\n",
       "      <td>Anna</td>\n",
       "      <td>Di Marco</td>\n",
       "      <td>4.0</td>\n",
       "      <td>80.0</td>\n",
       "      <td>560.0</td>\n",
       "      <td>NaN</td>\n",
       "      <td>NaN</td>\n",
       "      <td>NaN</td>\n",
       "      <td>citizen</td>\n",
       "      <td>0x2944BC06707Ec6286b95d3d81290F4F420365B96</td>\n",
       "    </tr>\n",
       "    <tr>\n",
       "      <th>6</th>\n",
       "      <td>Truck</td>\n",
       "      <td>Recycle</td>\n",
       "      <td>NaN</td>\n",
       "      <td>NaN</td>\n",
       "      <td>NaN</td>\n",
       "      <td>True</td>\n",
       "      <td>NaN</td>\n",
       "      <td>NaN</td>\n",
       "      <td>truck</td>\n",
       "      <td>0x1801FA4C4F3930391eF8B318049ba8Baf7ba1141</td>\n",
       "    </tr>\n",
       "    <tr>\n",
       "      <th>7</th>\n",
       "      <td>Truck</td>\n",
       "      <td>Not Recycle</td>\n",
       "      <td>NaN</td>\n",
       "      <td>NaN</td>\n",
       "      <td>NaN</td>\n",
       "      <td>False</td>\n",
       "      <td>NaN</td>\n",
       "      <td>NaN</td>\n",
       "      <td>truck</td>\n",
       "      <td>0x7FEB77800FeCfbd87F87D8A2C1BFA990e064ed2b</td>\n",
       "    </tr>\n",
       "    <tr>\n",
       "      <th>8</th>\n",
       "      <td>Disposal Station</td>\n",
       "      <td>Milano</td>\n",
       "      <td>NaN</td>\n",
       "      <td>NaN</td>\n",
       "      <td>NaN</td>\n",
       "      <td>True</td>\n",
       "      <td>45.4642</td>\n",
       "      <td>9.1900</td>\n",
       "      <td>station</td>\n",
       "      <td>0x15002799755C43E56806e81b51D8c688822aD353</td>\n",
       "    </tr>\n",
       "    <tr>\n",
       "      <th>9</th>\n",
       "      <td>Disposal Station</td>\n",
       "      <td>Bologna</td>\n",
       "      <td>NaN</td>\n",
       "      <td>NaN</td>\n",
       "      <td>NaN</td>\n",
       "      <td>False</td>\n",
       "      <td>44.4949</td>\n",
       "      <td>11.3426</td>\n",
       "      <td>station</td>\n",
       "      <td>0x4025214e9325f833D785B4DC05fD5A4D268C80A1</td>\n",
       "    </tr>\n",
       "  </tbody>\n",
       "</table>\n",
       "</div>"
      ],
      "text/plain": [
       "               name      surname  family     mq  weight recycle      lat  \\\n",
       "0            Comune      Codogno     0.0    0.0     0.0     NaN      NaN   \n",
       "1         Francesca   Bianchessi     2.0   70.0   500.0     NaN      NaN   \n",
       "2            Ilaria        Bolla     4.0  200.0   900.0     NaN      NaN   \n",
       "3        Alessandro        Botti     5.0  340.0   800.0     NaN      NaN   \n",
       "4            Davide   Castellini     3.0   50.0   200.0     NaN      NaN   \n",
       "5              Anna     Di Marco     4.0   80.0   560.0     NaN      NaN   \n",
       "6             Truck      Recycle     NaN    NaN     NaN    True      NaN   \n",
       "7             Truck  Not Recycle     NaN    NaN     NaN   False      NaN   \n",
       "8  Disposal Station       Milano     NaN    NaN     NaN    True  45.4642   \n",
       "9  Disposal Station      Bologna     NaN    NaN     NaN   False  44.4949   \n",
       "\n",
       "      long          role                                     address  \n",
       "0      NaN  municipality  0x0c8D3C7F1B0b5a0A4BBD7a20d7964E8bcA24d091  \n",
       "1      NaN       citizen  0xeA31e61d90f3238DbF6C36E9aFcD555252383390  \n",
       "2      NaN       citizen  0xfC0a26e14bD419F94F967a2cFA352f2c962673f4  \n",
       "3      NaN       citizen  0x8352D2ad4D51747265028aC6610C61a96b56d68d  \n",
       "4      NaN       citizen  0x1c6bf93000e5920A978EAb41AD92E4c13DCC03A9  \n",
       "5      NaN       citizen  0x2944BC06707Ec6286b95d3d81290F4F420365B96  \n",
       "6      NaN         truck  0x1801FA4C4F3930391eF8B318049ba8Baf7ba1141  \n",
       "7      NaN         truck  0x7FEB77800FeCfbd87F87D8A2C1BFA990e064ed2b  \n",
       "8   9.1900       station  0x15002799755C43E56806e81b51D8c688822aD353  \n",
       "9  11.3426       station  0x4025214e9325f833D785B4DC05fD5A4D268C80A1  "
      ]
     },
     "execution_count": 3,
     "metadata": {},
     "output_type": "execute_result"
    }
   ],
   "source": [
    "# Compiled abi and bytecode of trash.sol which inherits from citizenz.sol (and Ownable, safemath etc)\n",
    "abiRemix = json.loads(abi)         # turned to string after copy to clipboard from Remix\n",
    "bytecodeRemix = bytecode['object'] # it is a dictionary (as copy to clipboard form remix), we use the object for web3 deployment\n",
    "\n",
    "# simple database example and adding column with ganache accounts\n",
    "data = pd.read_excel('data/example_data.xlsx', sheet_name='agents_data')\n",
    "data['address'] = web3.eth.accounts     \n",
    "data"
   ]
  },
  {
   "cell_type": "markdown",
   "metadata": {},
   "source": [
    "<a name = 'deploy'></a>\n",
    "\n",
    "### Deploying the contract\n",
    "\n",
    "Here we first create a dictionary with the readily available 10 accounts from ganache and then make the municiaplity deploy the contract on the blockchain"
   ]
  },
  {
   "cell_type": "code",
   "execution_count": 4,
   "metadata": {
    "scrolled": true
   },
   "outputs": [],
   "source": [
    "def deploy_contract(deployer, _abi, _bytecode):\n",
    "    \"\"\"\n",
    "    Deploy the contract using Python and web3.py without relying on Remix (aside from getting the compiled abi and bytecode)\n",
    "    \n",
    "    Parameters\n",
    "    -------------\n",
    "        deployer: eth account\n",
    "        abi, bytecode : compiled contract things\n",
    "        \n",
    "    Returns\n",
    "    -------------\n",
    "        contract instance\n",
    "    \"\"\"\n",
    "    contract = web3.eth.contract(abi=_abi, bytecode=_bytecode)      # compiled contract\n",
    "    tx_hash = contract.constructor().transact({'from': deployer}) # contract constructor call (i.e. deploy)\n",
    "    \n",
    "    tx_receipt = web3.eth.waitForTransactionReceipt(tx_hash)      # Get receipt when deployed to blockchain\n",
    "    print(f\"Deployed contract at address:\\n{tx_receipt.contractAddress}\") # contract address\n",
    "    \n",
    "    # simple yet effective method to pass the contract address to the real time filtering\n",
    "    with open('data/ctr_addr.txt', 'w') as f:\n",
    "        f.write(tx_receipt.contractAddress)\n",
    "    \n",
    "    deployed_ctr = web3.eth.contract(address = tx_receipt.contractAddress, abi  = _abi) # contract\n",
    "    \n",
    "    return deployed_ctr"
   ]
  },
  {
   "cell_type": "code",
   "execution_count": 5,
   "metadata": {},
   "outputs": [
    {
     "name": "stdout",
     "output_type": "stream",
     "text": [
      "Deployed contract at address:\n",
      "0x172C16158160e45FFD013ba2279F88E1E1838ab1\n"
     ]
    }
   ],
   "source": [
    "# Deploy contract (municipality in our case) [can check from ganache the blocks to see if it happened]\n",
    "municipality = data[data.role == 'municipality']['address'].item()\n",
    "\n",
    "contract = deploy_contract(deployer = municipality, _abi = abiRemix, _bytecode = bytecodeRemix)"
   ]
  },
  {
   "cell_type": "markdown",
   "metadata": {},
   "source": [
    "##### !! Can now run the events_real_time.py !!"
   ]
  },
  {
   "cell_type": "markdown",
   "metadata": {},
   "source": [
    "<a name = 'functions'></a>\n",
    "## Interacting with the functions\n",
    "\n",
    "First a simplle check of the owner of the contract and then creating the Agents.\n",
    "\n",
    "(Still unsure but i think function(...).**call**(...) works only for 'view' functions; need function(...).**transact**(...) for those that modify the chain)"
   ]
  },
  {
   "cell_type": "code",
   "execution_count": 6,
   "metadata": {
    "scrolled": false
   },
   "outputs": [
    {
     "name": "stdout",
     "output_type": "stream",
     "text": [
      "owner: 0x0c8D3C7F1B0b5a0A4BBD7a20d7964E8bcA24d091\n",
      "Is it the municipality? True\n"
     ]
    },
    {
     "data": {
      "text/plain": [
       "[<Function MunicipalityBalance()>,\n",
       " <Function TariAmount(address)>,\n",
       " <Function citizens(address)>,\n",
       " <Function createCitizen(address,string,uint256,uint256,uint256)>,\n",
       " <Function createStation(address,bool,int256,int256)>,\n",
       " <Function createTruck(address,bool)>,\n",
       " <Function deleteCitizen(address)>,\n",
       " <Function deleteStation(address)>,\n",
       " <Function deleteTruck(address)>,\n",
       " <Function destroyContract()>,\n",
       " <Function drop(address,int256,int256)>,\n",
       " <Function givePayout(address)>,\n",
       " <Function numberC()>,\n",
       " <Function numberS()>,\n",
       " <Function numberT()>,\n",
       " <Function owner()>,\n",
       " <Function payTari()>,\n",
       " <Function pick(address,uint256,uint256)>,\n",
       " <Function received(bool,address,uint256)>,\n",
       " <Function renounceOwnership()>,\n",
       " <Function setBeginningYear()>,\n",
       " <Function showStartTime()>,\n",
       " <Function stations(address)>,\n",
       " <Function transferOwnership(address)>,\n",
       " <Function trucks(address)>,\n",
       " <Function withdraw()>]"
      ]
     },
     "execution_count": 6,
     "metadata": {},
     "output_type": "execute_result"
    }
   ],
   "source": [
    "# simple check for owner of the contract\n",
    "owner = contract.functions.owner().call() # get owner from contract function\n",
    "print(f\"owner: {owner}\")\n",
    "print(f\"Is it the municipality? {owner == data[data.role == 'municipality']['address'].item()}\")\n",
    "\n",
    "# to remember inputs and all functions\n",
    "contract.all_functions()"
   ]
  },
  {
   "cell_type": "code",
   "execution_count": 7,
   "metadata": {},
   "outputs": [
    {
     "name": "stdout",
     "output_type": "stream",
     "text": [
      "Example of createCitizen inputs: ['0xeA31e61d90f3238DbF6C36E9aFcD555252383390', 'Francesca Bianchessi', 2, 70, 500]\n"
     ]
    }
   ],
   "source": [
    "# Creating list of touples as correct inputs for the contract structs\n",
    "\n",
    "# Create CITIZENS - (address payable _address, string memory _name, uint _family, uint _house, uint256 _w)\n",
    "citizensL = [[r.address, \" \".join([r.name, r.surname]), int(r.family), int(r.mq), int(r.weight)] \n",
    "             for r in data.itertuples() if r.role == 'citizen']\n",
    "\n",
    "# Create TRUCKS - (address _address, bool _recycle)\n",
    "trucksL = [[r.address, r.recycle] for r in data.itertuples() if r.role == 'truck']\n",
    "\n",
    "# Create STATIONS - (address _address, bool _recycle, int _lat, int _long)\n",
    "stationsL = [[r.address, r.recycle, int(r.lat), int(r.long)] for r in data.itertuples() if r.role == 'station']\n",
    "\n",
    "print(f'Example of createCitizen inputs: {citizensL[0]}')"
   ]
  },
  {
   "cell_type": "code",
   "execution_count": 8,
   "metadata": {},
   "outputs": [],
   "source": [
    "def create(municip_addr ,c, t, s):\n",
    "    '''\n",
    "    Calls contract funcions to assigns addresses (and their characteristics) roles and populate mappings\n",
    "    \n",
    "    Parameters\n",
    "    ----------------------\n",
    "        municip_addr : eth address of the municipality\n",
    "        c, t, s : list of touples with correct characteristics\n",
    "        \n",
    "    Returns\n",
    "    ----------------------\n",
    "        nothing on python, the chain grows as these transactions are registered\n",
    "    '''\n",
    "    from_dict = {'from': municip_addr}\n",
    "    for i in range(len(c)):\n",
    "        contract.functions.createCitizen(c[i][0], c[i][1], c[i][2], c[i][3], c[i][4]).transact(from_dict)\n",
    "    for j in range(len(t)):\n",
    "        contract.functions.createTruck(t[j][0], t[j][1]).transact(from_dict)\n",
    "    for k in range(len(s)):\n",
    "        contract.functions.createStation(s[k][0], s[k][1], s[k][2], s[k][3]).transact(from_dict)\n",
    "    print('Done')\n",
    "    \n",
    "\n",
    "# Some functions to show structs statuses as we change them\n",
    "def get_citizen_info(address):\n",
    "    \"\"\"\n",
    "    Call to the contract to pretty print informations on citizen\n",
    "    \"\"\"\n",
    "    info = contract.functions.citizens(address).call()\n",
    "    print(f\"\"\"\n",
    "    Address eth : {address}\n",
    "    Name : {info[0]}\n",
    "    Family members : {info[1]}\n",
    "    House sq.meters : {info[2]}\n",
    "    Assigned weight\\liters : {info[3]}\n",
    "    TARI amount : {info[4]}\n",
    "    Recyclable Waste Tot : {info[5]}\n",
    "    Non Recyclable Waste Tot : {info[6]}\n",
    "    Paid TARI : {info[7]}\n",
    "    Active account : {info[8]}\n",
    "    \"\"\")\n",
    "\n",
    "def get_truck_info(address):\n",
    "    \"\"\"Show pretty info on trucks\"\"\"\n",
    "    info = contract.functions.trucks(address).call()\n",
    "    print(f\"\"\"\n",
    "    Address eth : {address}\n",
    "    Truck number : {info[0]}\n",
    "    Weight transported : {info[1]}\n",
    "    Recyclable Truck : {info[2]}\n",
    "    Active Truck : {info[3]}\n",
    "    \"\"\")\n",
    "    \n",
    "    \n",
    "def get_station_info(address):\n",
    "    \"\"\"Show pretty info for stations\"\"\"\n",
    "    info = contract.functions.stations(address).call()\n",
    "    print(f\"\"\"\n",
    "    Address eth : {address}\n",
    "    Station nr. : {info[0]}\n",
    "    Weight : {info[1]}\n",
    "    latitude : {info[2]}\n",
    "    longitude : {info[3]}\n",
    "    Recyclable Plant : {info[4]}\n",
    "    Active Plant : {info[5]}\n",
    "    \"\"\")"
   ]
  },
  {
   "cell_type": "code",
   "execution_count": 9,
   "metadata": {
    "scrolled": true
   },
   "outputs": [
    {
     "name": "stdout",
     "output_type": "stream",
     "text": [
      "Done\n",
      "\n",
      "# Citizens: 5 \n",
      "# Trucks : 2\n",
      "# PLants : 2\n"
     ]
    }
   ],
   "source": [
    "# Populating mappings and check amount of entities\n",
    "create(data[data.role == 'municipality']['address'].item(),citizensL, trucksL, stationsL)\n",
    "\n",
    "print(f\"\"\"\n",
    "# Citizens: {contract.functions.numberC().call()} \n",
    "# Trucks : {contract.functions.numberT().call()}\n",
    "# PLants : {contract.functions.numberS().call()}\"\"\")"
   ]
  },
  {
   "cell_type": "code",
   "execution_count": 10,
   "metadata": {},
   "outputs": [
    {
     "name": "stdout",
     "output_type": "stream",
     "text": [
      "\n",
      "    Address eth : 0xeA31e61d90f3238DbF6C36E9aFcD555252383390\n",
      "    Name : Francesca Bianchessi\n",
      "    Family members : 2\n",
      "    House sq.meters : 70\n",
      "    Assigned weight\\liters : 500\n",
      "    TARI amount : 0\n",
      "    Recyclable Waste Tot : 0\n",
      "    Non Recyclable Waste Tot : 0\n",
      "    Paid TARI : False\n",
      "    Active account : True\n",
      "    \n",
      "\n",
      "    Address eth : 0x1801FA4C4F3930391eF8B318049ba8Baf7ba1141\n",
      "    Truck number : 1\n",
      "    Weight transported : 0\n",
      "    Recyclable Truck : True\n",
      "    Active Truck : True\n",
      "    \n",
      "\n",
      "    Address eth : 0x15002799755C43E56806e81b51D8c688822aD353\n",
      "    Station nr. : 1\n",
      "    Weight : 0\n",
      "    latitude : 45\n",
      "    longitude : 9\n",
      "    Recyclable Plant : True\n",
      "    Active Plant : True\n",
      "    \n"
     ]
    }
   ],
   "source": [
    "# using exemplar citizen and other roles to do checks along the notebook\n",
    "dutiful_citizen = data[data.role == 'citizen']['address'].reset_index(drop = True)[0]\n",
    "get_citizen_info(dutiful_citizen)\n",
    "\n",
    "ex_truck = data[data.role == 'truck']['address'].reset_index(drop = True)[0]\n",
    "get_truck_info(ex_truck)\n",
    "\n",
    "ex_station = data[data.role == 'station']['address'].reset_index(drop = True)[0]\n",
    "get_station_info(ex_station)"
   ]
  },
  {
   "cell_type": "markdown",
   "metadata": {},
   "source": [
    "<a name = 'tari'></a>\n",
    "### Compute TARI \n",
    "\n",
    "Takes into account number of household members in the nucleus and square meters of the property\n",
    "\n",
    "` formula ?`"
   ]
  },
  {
   "cell_type": "code",
   "execution_count": 11,
   "metadata": {},
   "outputs": [],
   "source": [
    "# Calculate amount of TARI for each citizen (and looping for the others)\n",
    "for addr in data[data.role == 'citizen']['address']:\n",
    "    contract.functions.TariAmount(addr).transact({'from' : municipality})"
   ]
  },
  {
   "cell_type": "code",
   "execution_count": 12,
   "metadata": {},
   "outputs": [
    {
     "name": "stdout",
     "output_type": "stream",
     "text": [
      "\n",
      "    Address eth : 0xeA31e61d90f3238DbF6C36E9aFcD555252383390\n",
      "    Name : Francesca Bianchessi\n",
      "    Family members : 2\n",
      "    House sq.meters : 70\n",
      "    Assigned weight\\liters : 500\n",
      "    TARI amount : 190000000000000000\n",
      "    Recyclable Waste Tot : 0\n",
      "    Non Recyclable Waste Tot : 0\n",
      "    Paid TARI : False\n",
      "    Active account : True\n",
      "    \n"
     ]
    },
    {
     "data": {
      "text/plain": [
       "'Looks expensive'"
      ]
     },
     "execution_count": 12,
     "metadata": {},
     "output_type": "execute_result"
    }
   ],
   "source": [
    "get_citizen_info(dutiful_citizen)\n",
    "\"\"\"Looks expensive\"\"\""
   ]
  },
  {
   "cell_type": "code",
   "execution_count": 13,
   "metadata": {},
   "outputs": [
    {
     "data": {
      "text/html": [
       "<div>\n",
       "<style scoped>\n",
       "    .dataframe tbody tr th:only-of-type {\n",
       "        vertical-align: middle;\n",
       "    }\n",
       "\n",
       "    .dataframe tbody tr th {\n",
       "        vertical-align: top;\n",
       "    }\n",
       "\n",
       "    .dataframe thead th {\n",
       "        text-align: right;\n",
       "    }\n",
       "</style>\n",
       "<table border=\"1\" class=\"dataframe\">\n",
       "  <thead>\n",
       "    <tr style=\"text-align: right;\">\n",
       "      <th></th>\n",
       "      <th>name</th>\n",
       "      <th>surname</th>\n",
       "      <th>family</th>\n",
       "      <th>mq</th>\n",
       "      <th>weight</th>\n",
       "      <th>role</th>\n",
       "      <th>TARI_eth</th>\n",
       "      <th>TARI_eur</th>\n",
       "    </tr>\n",
       "  </thead>\n",
       "  <tbody>\n",
       "    <tr>\n",
       "      <th>0</th>\n",
       "      <td>Comune</td>\n",
       "      <td>Codogno</td>\n",
       "      <td>0.0</td>\n",
       "      <td>0.0</td>\n",
       "      <td>0.0</td>\n",
       "      <td>municipality</td>\n",
       "      <td>NaN</td>\n",
       "      <td>NaN</td>\n",
       "    </tr>\n",
       "    <tr>\n",
       "      <th>1</th>\n",
       "      <td>Francesca</td>\n",
       "      <td>Bianchessi</td>\n",
       "      <td>2.0</td>\n",
       "      <td>70.0</td>\n",
       "      <td>500.0</td>\n",
       "      <td>citizen</td>\n",
       "      <td>0.190</td>\n",
       "      <td>86.046342</td>\n",
       "    </tr>\n",
       "    <tr>\n",
       "      <th>2</th>\n",
       "      <td>Ilaria</td>\n",
       "      <td>Bolla</td>\n",
       "      <td>4.0</td>\n",
       "      <td>200.0</td>\n",
       "      <td>900.0</td>\n",
       "      <td>citizen</td>\n",
       "      <td>0.490</td>\n",
       "      <td>221.908987</td>\n",
       "    </tr>\n",
       "    <tr>\n",
       "      <th>3</th>\n",
       "      <td>Alessandro</td>\n",
       "      <td>Botti</td>\n",
       "      <td>5.0</td>\n",
       "      <td>340.0</td>\n",
       "      <td>800.0</td>\n",
       "      <td>citizen</td>\n",
       "      <td>1.440</td>\n",
       "      <td>652.140696</td>\n",
       "    </tr>\n",
       "    <tr>\n",
       "      <th>4</th>\n",
       "      <td>Davide</td>\n",
       "      <td>Castellini</td>\n",
       "      <td>3.0</td>\n",
       "      <td>50.0</td>\n",
       "      <td>200.0</td>\n",
       "      <td>citizen</td>\n",
       "      <td>0.120</td>\n",
       "      <td>54.345058</td>\n",
       "    </tr>\n",
       "    <tr>\n",
       "      <th>5</th>\n",
       "      <td>Anna</td>\n",
       "      <td>Di Marco</td>\n",
       "      <td>4.0</td>\n",
       "      <td>80.0</td>\n",
       "      <td>560.0</td>\n",
       "      <td>citizen</td>\n",
       "      <td>0.216</td>\n",
       "      <td>97.821104</td>\n",
       "    </tr>\n",
       "    <tr>\n",
       "      <th>6</th>\n",
       "      <td>Truck</td>\n",
       "      <td>Recycle</td>\n",
       "      <td>NaN</td>\n",
       "      <td>NaN</td>\n",
       "      <td>NaN</td>\n",
       "      <td>truck</td>\n",
       "      <td>NaN</td>\n",
       "      <td>NaN</td>\n",
       "    </tr>\n",
       "    <tr>\n",
       "      <th>7</th>\n",
       "      <td>Truck</td>\n",
       "      <td>Not Recycle</td>\n",
       "      <td>NaN</td>\n",
       "      <td>NaN</td>\n",
       "      <td>NaN</td>\n",
       "      <td>truck</td>\n",
       "      <td>NaN</td>\n",
       "      <td>NaN</td>\n",
       "    </tr>\n",
       "    <tr>\n",
       "      <th>8</th>\n",
       "      <td>Disposal Station</td>\n",
       "      <td>Milano</td>\n",
       "      <td>NaN</td>\n",
       "      <td>NaN</td>\n",
       "      <td>NaN</td>\n",
       "      <td>station</td>\n",
       "      <td>NaN</td>\n",
       "      <td>NaN</td>\n",
       "    </tr>\n",
       "    <tr>\n",
       "      <th>9</th>\n",
       "      <td>Disposal Station</td>\n",
       "      <td>Bologna</td>\n",
       "      <td>NaN</td>\n",
       "      <td>NaN</td>\n",
       "      <td>NaN</td>\n",
       "      <td>station</td>\n",
       "      <td>NaN</td>\n",
       "      <td>NaN</td>\n",
       "    </tr>\n",
       "  </tbody>\n",
       "</table>\n",
       "</div>"
      ],
      "text/plain": [
       "               name      surname  family     mq  weight          role  \\\n",
       "0            Comune      Codogno     0.0    0.0     0.0  municipality   \n",
       "1         Francesca   Bianchessi     2.0   70.0   500.0       citizen   \n",
       "2            Ilaria        Bolla     4.0  200.0   900.0       citizen   \n",
       "3        Alessandro        Botti     5.0  340.0   800.0       citizen   \n",
       "4            Davide   Castellini     3.0   50.0   200.0       citizen   \n",
       "5              Anna     Di Marco     4.0   80.0   560.0       citizen   \n",
       "6             Truck      Recycle     NaN    NaN     NaN         truck   \n",
       "7             Truck  Not Recycle     NaN    NaN     NaN         truck   \n",
       "8  Disposal Station       Milano     NaN    NaN     NaN       station   \n",
       "9  Disposal Station      Bologna     NaN    NaN     NaN       station   \n",
       "\n",
       "   TARI_eth    TARI_eur  \n",
       "0       NaN         NaN  \n",
       "1     0.190   86.046342  \n",
       "2     0.490  221.908987  \n",
       "3     1.440  652.140696  \n",
       "4     0.120   54.345058  \n",
       "5     0.216   97.821104  \n",
       "6       NaN         NaN  \n",
       "7       NaN         NaN  \n",
       "8       NaN         NaN  \n",
       "9       NaN         NaN  "
      ]
     },
     "execution_count": 13,
     "metadata": {},
     "output_type": "execute_result"
    }
   ],
   "source": [
    "# Webscrape currency exchange rates to convert computed TARI in wei to euro\n",
    "# Save the TARI amount for each citizen \n",
    "tari_list = [contract.functions.citizens(addr).call()[4]*(10**(-18)) \n",
    "             for addr in data[data.role == 'citizen']['address']]\n",
    "data.loc[data.role == 'citizen', 'TARI_eth'] = tari_list\n",
    "\n",
    "# Convert to EUR \n",
    "cmc = requests.get('https://coinmarketcap.com/currencies/ethereum/markets/')\n",
    "soup = BeautifulSoup(cmc.content, 'html.parser')  \n",
    "data_coinmkt = soup.find('script', type=\"application/ld+json\")\n",
    "data_coinmkt = json.loads(data_coinmkt.contents[0])\n",
    "usd_eth = data_coinmkt['currentExchangeRate']['price']\n",
    "\n",
    "c = CurrencyRates()\n",
    "usd_eur_rate = c.get_rate('USD', 'EUR') \n",
    "eur_eth = usd_eth * usd_eur_rate \n",
    "\n",
    "data.loc[data.role == 'citizen', 'TARI_eur'] = data.loc[data.role == 'citizen', 'TARI_eth']*eur_eth \n",
    "data[['name', 'surname', 'family', 'mq', 'weight', 'role', 'TARI_eth', 'TARI_eur']]"
   ]
  },
  {
   "cell_type": "code",
   "execution_count": 14,
   "metadata": {},
   "outputs": [
    {
     "name": "stdout",
     "output_type": "stream",
     "text": [
      "Citizen Francesca Bianchessi is paying 190000000000000000 wei --> 86.04634189751678 Euro\n",
      "Citizen Ilaria Bolla is paying 490000000000000000 wei --> 221.9089869988591 Euro\n",
      "Citizen Alessandro Botti is paying 1440000000000000000 wei --> 652.1406964864431 Euro\n",
      "Citizen Davide Castellini is paying 120000000000000000 wei --> 54.34505804053692 Euro\n",
      "Citizen Anna Di Marco is paying 216000000000000000 wei --> 97.82110447296645 Euro\n"
     ]
    }
   ],
   "source": [
    "# Each citizen pays its due amount\n",
    "for addr in data[data.role == 'citizen']['address']:\n",
    "    \n",
    "    info = contract.functions.citizens(addr).call() # need the amount from the contract\n",
    "    print(f\"Citizen {info[0]} is paying {info[4]} wei --> {info[4]*10**(-18)*eur_eth} Euro\")\n",
    "    \n",
    "    # payable function, the amount is passed in the dictionary of .transact()\n",
    "    contract.functions.payTari().transact({'from': addr, 'value' : info[4]})\n",
    "    "
   ]
  },
  {
   "cell_type": "code",
   "execution_count": 15,
   "metadata": {},
   "outputs": [
    {
     "name": "stdout",
     "output_type": "stream",
     "text": [
      "\n",
      "    Address eth : 0xeA31e61d90f3238DbF6C36E9aFcD555252383390\n",
      "    Name : Francesca Bianchessi\n",
      "    Family members : 2\n",
      "    House sq.meters : 70\n",
      "    Assigned weight\\liters : 0\n",
      "    TARI amount : 190000000000000000\n",
      "    Recyclable Waste Tot : 0\n",
      "    Non Recyclable Waste Tot : 0\n",
      "    Paid TARI : True\n",
      "    Active account : True\n",
      "    \n"
     ]
    },
    {
     "data": {
      "text/plain": [
       "'FINALLY PAID'"
      ]
     },
     "execution_count": 15,
     "metadata": {},
     "output_type": "execute_result"
    }
   ],
   "source": [
    "get_citizen_info(dutiful_citizen)\n",
    "\"FINALLY PAID\""
   ]
  },
  {
   "cell_type": "markdown",
   "metadata": {},
   "source": [
    "<a name = 'cycle'></a>\n",
    "## Working with trashbags lifecycles\n",
    "\n",
    "The trucks will pick them up and drop them at the disposal station. From excel files we simulate what the sensors would use as inputs."
   ]
  },
  {
   "cell_type": "code",
   "execution_count": 16,
   "metadata": {},
   "outputs": [
    {
     "data": {
      "text/html": [
       "<div>\n",
       "<style scoped>\n",
       "    .dataframe tbody tr th:only-of-type {\n",
       "        vertical-align: middle;\n",
       "    }\n",
       "\n",
       "    .dataframe tbody tr th {\n",
       "        vertical-align: top;\n",
       "    }\n",
       "\n",
       "    .dataframe thead th {\n",
       "        text-align: right;\n",
       "    }\n",
       "</style>\n",
       "<table border=\"1\" class=\"dataframe\">\n",
       "  <thead>\n",
       "    <tr style=\"text-align: right;\">\n",
       "      <th></th>\n",
       "      <th>name</th>\n",
       "      <th>surname</th>\n",
       "      <th>weight</th>\n",
       "      <th>recycle</th>\n",
       "    </tr>\n",
       "  </thead>\n",
       "  <tbody>\n",
       "    <tr>\n",
       "      <th>0</th>\n",
       "      <td>Francesca</td>\n",
       "      <td>Bianchessi</td>\n",
       "      <td>1</td>\n",
       "      <td>True</td>\n",
       "    </tr>\n",
       "    <tr>\n",
       "      <th>1</th>\n",
       "      <td>Ilaria</td>\n",
       "      <td>Bolla</td>\n",
       "      <td>2</td>\n",
       "      <td>False</td>\n",
       "    </tr>\n",
       "    <tr>\n",
       "      <th>2</th>\n",
       "      <td>Alessandro</td>\n",
       "      <td>Botti</td>\n",
       "      <td>3</td>\n",
       "      <td>True</td>\n",
       "    </tr>\n",
       "    <tr>\n",
       "      <th>3</th>\n",
       "      <td>Davide</td>\n",
       "      <td>Castellini</td>\n",
       "      <td>1</td>\n",
       "      <td>False</td>\n",
       "    </tr>\n",
       "    <tr>\n",
       "      <th>4</th>\n",
       "      <td>Anna</td>\n",
       "      <td>Di Marco</td>\n",
       "      <td>2</td>\n",
       "      <td>True</td>\n",
       "    </tr>\n",
       "    <tr>\n",
       "      <th>5</th>\n",
       "      <td>Francesca</td>\n",
       "      <td>Bianchessi</td>\n",
       "      <td>1</td>\n",
       "      <td>True</td>\n",
       "    </tr>\n",
       "  </tbody>\n",
       "</table>\n",
       "</div>"
      ],
      "text/plain": [
       "         name     surname  weight  recycle\n",
       "0   Francesca  Bianchessi       1     True\n",
       "1      Ilaria       Bolla       2    False\n",
       "2  Alessandro       Botti       3     True\n",
       "3      Davide  Castellini       1    False\n",
       "4        Anna    Di Marco       2     True\n",
       "5   Francesca  Bianchessi       1     True"
      ]
     },
     "execution_count": 16,
     "metadata": {},
     "output_type": "execute_result"
    }
   ],
   "source": [
    "bags = pd.read_excel('data/example_data.xlsx', sheet_name='bags_data')\n",
    "bags.head(6) "
   ]
  },
  {
   "cell_type": "markdown",
   "metadata": {},
   "source": [
    "#### Pick up trash\n",
    "\n",
    "Function called from the truck and using sensors to check the weight \n",
    "\n",
    "(Here we automatically assign the correct truck to the trash type. It would otherwise throw an error)"
   ]
  },
  {
   "cell_type": "code",
   "execution_count": 17,
   "metadata": {},
   "outputs": [],
   "source": [
    "# The right truck will pick up the various trashbags\n",
    "for i, name, sur, w, recyclable in bags.itertuples():\n",
    "\n",
    "    # get address of generator\n",
    "    generator_addr = data[data.name == name]['address'].item()\n",
    "    \n",
    "    # get correct truck address via subsetting\n",
    "    truck_addr = data[(data['name'] == 'Truck') & (data['recycle'] == recyclable)]['address'].item()\n",
    "    \n",
    "    # 'pick' function in contract is called by the correct truck\n",
    "    contract.functions.pick(generator_addr, w, random.randint(0, 1e+10)).transact({'from' : truck_addr})"
   ]
  },
  {
   "cell_type": "code",
   "execution_count": 18,
   "metadata": {},
   "outputs": [
    {
     "name": "stdout",
     "output_type": "stream",
     "text": [
      "\n",
      "    Address eth : 0xeA31e61d90f3238DbF6C36E9aFcD555252383390\n",
      "    Name : Francesca Bianchessi\n",
      "    Family members : 2\n",
      "    House sq.meters : 70\n",
      "    Assigned weight\\liters : 0\n",
      "    TARI amount : 190000000000000000\n",
      "    Recyclable Waste Tot : 16\n",
      "    Non Recyclable Waste Tot : 12\n",
      "    Paid TARI : True\n",
      "    Active account : True\n",
      "    \n",
      "\n",
      "    Address eth : 0x1801FA4C4F3930391eF8B318049ba8Baf7ba1141\n",
      "    Truck number : 1\n",
      "    Weight transported : 71\n",
      "    Recyclable Truck : True\n",
      "    Active Truck : True\n",
      "    \n"
     ]
    },
    {
     "data": {
      "text/plain": [
       "'See both waste counters increased for the citizen and weight transported for the truck'"
      ]
     },
     "execution_count": 18,
     "metadata": {},
     "output_type": "execute_result"
    }
   ],
   "source": [
    "get_citizen_info(dutiful_citizen)\n",
    "get_truck_info(ex_truck)\n",
    "\n",
    "\"\"\"See both waste counters increased for the citizen and weight transported for the truck\"\"\""
   ]
  },
  {
   "cell_type": "markdown",
   "metadata": {},
   "source": [
    "#### Drop bags at station\n",
    "\n",
    "Still a function from the side of the truck. The truck will result empty after dropping and the station will increase its total counter with the recieved weight."
   ]
  },
  {
   "cell_type": "code",
   "execution_count": 19,
   "metadata": {},
   "outputs": [
    {
     "data": {
      "text/html": [
       "<div>\n",
       "<style scoped>\n",
       "    .dataframe tbody tr th:only-of-type {\n",
       "        vertical-align: middle;\n",
       "    }\n",
       "\n",
       "    .dataframe tbody tr th {\n",
       "        vertical-align: top;\n",
       "    }\n",
       "\n",
       "    .dataframe thead th {\n",
       "        text-align: right;\n",
       "    }\n",
       "</style>\n",
       "<table border=\"1\" class=\"dataframe\">\n",
       "  <thead>\n",
       "    <tr style=\"text-align: right;\">\n",
       "      <th></th>\n",
       "      <th>name</th>\n",
       "      <th>surname</th>\n",
       "      <th>lat</th>\n",
       "      <th>long</th>\n",
       "    </tr>\n",
       "  </thead>\n",
       "  <tbody>\n",
       "    <tr>\n",
       "      <th>0</th>\n",
       "      <td>Disposal Station</td>\n",
       "      <td>Milano</td>\n",
       "      <td>45.4642</td>\n",
       "      <td>9.1900</td>\n",
       "    </tr>\n",
       "    <tr>\n",
       "      <th>1</th>\n",
       "      <td>Disposal Station</td>\n",
       "      <td>Bologna</td>\n",
       "      <td>44.4949</td>\n",
       "      <td>11.3426</td>\n",
       "    </tr>\n",
       "  </tbody>\n",
       "</table>\n",
       "</div>"
      ],
      "text/plain": [
       "               name surname       lat     long\n",
       "0  Disposal Station   Milano  45.4642   9.1900\n",
       "1  Disposal Station  Bologna  44.4949  11.3426"
      ]
     },
     "execution_count": 19,
     "metadata": {},
     "output_type": "execute_result"
    }
   ],
   "source": [
    "gps = pd.read_excel('data/example_data.xlsx', sheet_name='gps_data')\n",
    "gps"
   ]
  },
  {
   "cell_type": "code",
   "execution_count": 20,
   "metadata": {},
   "outputs": [
    {
     "name": "stdout",
     "output_type": "stream",
     "text": [
      "\n",
      "    Address eth : 0x15002799755C43E56806e81b51D8c688822aD353\n",
      "    Station nr. : 1\n",
      "    Weight : 0\n",
      "    latitude : 45\n",
      "    longitude : 9\n",
      "    Recyclable Plant : True\n",
      "    Active Plant : True\n",
      "    \n"
     ]
    }
   ],
   "source": [
    "get_station_info(ex_station)"
   ]
  },
  {
   "cell_type": "code",
   "execution_count": 21,
   "metadata": {},
   "outputs": [],
   "source": [
    "# get station name and coords from the gps\n",
    "for i, name, sur, lat, long in gps.itertuples():\n",
    "    \n",
    "    #get station address\n",
    "    station_addr = data[(data.name == name) & (data.surname == sur)]['address'].item()\n",
    "    \n",
    "    #get_station_info(station_addr)\n",
    "    # need to get the type of station (recycling/not recycling) to pair the truck\n",
    "    s_info = contract.functions.stations(station_addr).call() # s_info[4] is the type\n",
    "    \n",
    "    # pairing truck based on recyclable or not and calling the 'drop' function\n",
    "    correct_truck = data[(data.name == 'Truck') & (data.recycle == s_info[4])]['address'].item()\n",
    "    \n",
    "    contract.functions.drop(station_addr, int(lat), int(long)).transact({'from' : correct_truck})\n",
    "    "
   ]
  },
  {
   "cell_type": "code",
   "execution_count": 22,
   "metadata": {},
   "outputs": [
    {
     "name": "stdout",
     "output_type": "stream",
     "text": [
      "\n",
      "    Address eth : 0x15002799755C43E56806e81b51D8c688822aD353\n",
      "    Station nr. : 1\n",
      "    Weight : 71\n",
      "    latitude : 45\n",
      "    longitude : 9\n",
      "    Recyclable Plant : True\n",
      "    Active Plant : True\n",
      "    \n",
      "\n",
      "    Address eth : 0x1801FA4C4F3930391eF8B318049ba8Baf7ba1141\n",
      "    Truck number : 1\n",
      "    Weight transported : 0\n",
      "    Recyclable Truck : True\n",
      "    Active Truck : True\n",
      "    \n"
     ]
    },
    {
     "data": {
      "text/plain": [
       "'Station weight increased by weight in truck which is in turn empty'"
      ]
     },
     "execution_count": 22,
     "metadata": {},
     "output_type": "execute_result"
    }
   ],
   "source": [
    "get_station_info(ex_station)\n",
    "get_truck_info(ex_truck)\n",
    "\n",
    "\"\"\"Station weight increased by weight in truck which is in turn empty\"\"\""
   ]
  },
  {
   "cell_type": "markdown",
   "metadata": {},
   "source": [
    "#### Recieved \n",
    "\n",
    "Function called by the station. Its sensors will say which truck deposited garbage and the total garbage present at the station in that moment. \n",
    "\n",
    "Right now we filled and emptied the truck in one go. So it's not much of an example (could rerun both for loops above -pick- -drop- and modify this excel to simulate multiple runs and the increased total weight of the station)"
   ]
  },
  {
   "cell_type": "code",
   "execution_count": 23,
   "metadata": {},
   "outputs": [
    {
     "data": {
      "text/html": [
       "<div>\n",
       "<style scoped>\n",
       "    .dataframe tbody tr th:only-of-type {\n",
       "        vertical-align: middle;\n",
       "    }\n",
       "\n",
       "    .dataframe tbody tr th {\n",
       "        vertical-align: top;\n",
       "    }\n",
       "\n",
       "    .dataframe thead th {\n",
       "        text-align: right;\n",
       "    }\n",
       "</style>\n",
       "<table border=\"1\" class=\"dataframe\">\n",
       "  <thead>\n",
       "    <tr style=\"text-align: right;\">\n",
       "      <th></th>\n",
       "      <th>name</th>\n",
       "      <th>surname</th>\n",
       "      <th>weight</th>\n",
       "    </tr>\n",
       "  </thead>\n",
       "  <tbody>\n",
       "    <tr>\n",
       "      <th>0</th>\n",
       "      <td>Truck</td>\n",
       "      <td>Recycle</td>\n",
       "      <td>71</td>\n",
       "    </tr>\n",
       "    <tr>\n",
       "      <th>1</th>\n",
       "      <td>Truck</td>\n",
       "      <td>Not Recycle</td>\n",
       "      <td>69</td>\n",
       "    </tr>\n",
       "  </tbody>\n",
       "</table>\n",
       "</div>"
      ],
      "text/plain": [
       "    name      surname  weight\n",
       "0  Truck      Recycle      71\n",
       "1  Truck  Not Recycle      69"
      ]
     },
     "execution_count": 23,
     "metadata": {},
     "output_type": "execute_result"
    }
   ],
   "source": [
    "station_sense = pd.read_excel('data/example_data.xlsx', sheet_name='stations_data')\n",
    "station_sense"
   ]
  },
  {
   "cell_type": "code",
   "execution_count": 24,
   "metadata": {
    "scrolled": true
   },
   "outputs": [
    {
     "name": "stdout",
     "output_type": "stream",
     "text": [
      "From Truck: 0x1801FA4C4F3930391eF8B318049ba8Baf7ba1141\n",
      "To Station: 0x15002799755C43E56806e81b51D8c688822aD353\n",
      "From Truck: 0x7FEB77800FeCfbd87F87D8A2C1BFA990e064ed2b\n",
      "To Station: 0x4025214e9325f833D785B4DC05fD5A4D268C80A1\n"
     ]
    }
   ],
   "source": [
    "for i, name, sur ,weight in station_sense.itertuples():\n",
    "    \n",
    "    # get truck address\n",
    "    truck_addr = data[(data.name == name) & (data.surname == sur)]['address'].item()\n",
    "    \n",
    "    # correct station to read the correct type of truck [otherwise we get an error]\n",
    "    info_tr = contract.functions.trucks(truck_addr).call() # to get truck type in info_tr[2] \n",
    "    st_addr = data[(data.name == 'Disposal Station') & (data.recycle == info_tr[2])]['address'].item() \n",
    "    print(f\"From Truck: {truck_addr}\\nTo Station: {st_addr}\")\n",
    "    \n",
    "    #recieved function call\n",
    "    contract.functions.received(info_tr[2], truck_addr, weight).transact({'from' : st_addr})\n",
    "    \n",
    "    "
   ]
  },
  {
   "cell_type": "markdown",
   "metadata": {},
   "source": [
    "<a name = 'refund'></a>\n",
    "## Refund\n",
    "\n",
    "municipality withdraws form the contract the ETH and then does the payout for all citizens\n"
   ]
  },
  {
   "cell_type": "code",
   "execution_count": 25,
   "metadata": {},
   "outputs": [
    {
     "name": "stdout",
     "output_type": "stream",
     "text": [
      "0x0c8D3C7F1B0b5a0A4BBD7a20d7964E8bcA24d091\n"
     ]
    }
   ],
   "source": [
    "print(municipality) # we have the municipality address stored from before"
   ]
  },
  {
   "cell_type": "code",
   "execution_count": 26,
   "metadata": {},
   "outputs": [
    {
     "name": "stdout",
     "output_type": "stream",
     "text": [
      "Withdrawn: 2.16024146 ETH (also minus gas costs)\n"
     ]
    }
   ],
   "source": [
    "# the withdraw works just like this, see ganache '0' account --> municipality\n",
    "before = web3.eth.getBalance(municipality)\n",
    "contract.functions.withdraw().transact({'from' : municipality}) \n",
    "after = web3.eth.getBalance(municipality)\n",
    "print(f\"Withdrawn: {(after-before)/(10**18)} ETH (also minus gas costs)\")"
   ]
  },
  {
   "cell_type": "markdown",
   "metadata": {},
   "source": [
    "# givePayout does not work because it is not the appropriate time in the contract"
   ]
  },
  {
   "cell_type": "code",
   "execution_count": 28,
   "metadata": {},
   "outputs": [],
   "source": [
    "# citizen address as input to function\n",
    "for citizen in data[data.role == 'citizen']['address']:\n",
    "    \n",
    "    # balance comparison for the refund\n",
    "    before = web3.eth.getBalance(citizen)\n",
    "    contract.functions.givePayout(citizen).transact({'from' : municipality})\n",
    "    after = web3.eth.getBalance(citizen)\n",
    "    \n",
    "    print(f\"{citizen}\\nRefunded wei :{after-before} --> Euro : {(after-before)*10**(-18)}\\n\")\n",
    "        "
   ]
  },
  {
   "cell_type": "code",
   "execution_count": 29,
   "metadata": {},
   "outputs": [
    {
     "name": "stdout",
     "output_type": "stream",
     "text": [
      "On contract there is still : 0.29472 ETH\n"
     ]
    }
   ],
   "source": [
    "# how much is still on the contract should be low\n",
    "balance = contract.functions.MunicipalityBalance().call({'from' : municipality})\n",
    "print('On contract there is still :', balance/(10**18), 'ETH')"
   ]
  },
  {
   "cell_type": "code",
   "execution_count": 31,
   "metadata": {},
   "outputs": [
    {
     "data": {
      "text/plain": [
       "HexBytes('0x6666510e8c7bde3f0e634a8200c151fdd5d025c7f32ab3375fe60ea44ab54691')"
      ]
     },
     "execution_count": 31,
     "metadata": {},
     "output_type": "execute_result"
    }
   ],
   "source": [
    "# selfdestruct contract by invoking kill function\n",
    "contract.functions.destroyContract().transact({'from' : municipality})"
   ]
  },
  {
   "cell_type": "markdown",
   "metadata": {},
   "source": [
    "<a name = 'logs'></a>\n",
    "\n",
    "## Event/Log Filtering\n",
    "\n",
    "After running the above cells the chain is populated with a lot of different logs from events. They can be extracted with specific filters that are contract specific. \n",
    "\n",
    "(Right now just 1 filter for the sake of demonstration and an example of the database that is created. A ***real time*** version that repeatedly checks the last block is in the 'events_real_time.py')"
   ]
  },
  {
   "cell_type": "code",
   "execution_count": 32,
   "metadata": {},
   "outputs": [],
   "source": [
    "# creating logs/event filters to inspect the whole chain (fromBlock = 1)\n",
    "\n",
    "# filter for the Event 'PickedUp' generated by the truck\n",
    "pickedUp_filter = contract.events.PickedUp.createFilter(fromBlock = 1)\n",
    "#recieved_filter etc\n",
    "\n",
    "filters = [pickedUp_filter]"
   ]
  },
  {
   "cell_type": "code",
   "execution_count": 33,
   "metadata": {},
   "outputs": [],
   "source": [
    "def get_past_logs(filter_list):\n",
    "    \"\"\"\n",
    "    Iterates over every filter built and extracts logs from the block specified in the filter to the 'latest'\n",
    "    \n",
    "    inputs\n",
    "    ---------------\n",
    "     filter_list : filters created\n",
    "    \n",
    "    returns\n",
    "    ---------------\n",
    "     list containing every event attribute generated from the 'emit' on the contract\n",
    "    \"\"\"\n",
    "    events = []\n",
    "    for event_filter in filter_list:\n",
    "        for e in event_filter.get_all_entries(): # get_new_entry() to check only last block\n",
    "            \n",
    "            # e is a nested dictionary, like this we bring all elements on the same level\n",
    "            args = dict(e['args'])\n",
    "            args.update(dict(e))\n",
    "            del args['args'] # brought one level above, delete the nest\n",
    "            # args.pop('args', None) # could delete like this too\n",
    "            \n",
    "            events.append(args)\n",
    "            \n",
    "    return events"
   ]
  },
  {
   "cell_type": "code",
   "execution_count": 34,
   "metadata": {
    "scrolled": false
   },
   "outputs": [
    {
     "data": {
      "text/html": [
       "<div>\n",
       "<style scoped>\n",
       "    .dataframe tbody tr th:only-of-type {\n",
       "        vertical-align: middle;\n",
       "    }\n",
       "\n",
       "    .dataframe tbody tr th {\n",
       "        vertical-align: top;\n",
       "    }\n",
       "\n",
       "    .dataframe thead th {\n",
       "        text-align: right;\n",
       "    }\n",
       "</style>\n",
       "<table border=\"1\" class=\"dataframe\">\n",
       "  <thead>\n",
       "    <tr style=\"text-align: right;\">\n",
       "      <th></th>\n",
       "      <th>transporter</th>\n",
       "      <th>wasteType</th>\n",
       "      <th>bagId</th>\n",
       "      <th>generator</th>\n",
       "      <th>wasteWeight</th>\n",
       "      <th>pickUpTime</th>\n",
       "      <th>event</th>\n",
       "      <th>logIndex</th>\n",
       "      <th>transactionIndex</th>\n",
       "      <th>transactionHash</th>\n",
       "      <th>address</th>\n",
       "      <th>blockHash</th>\n",
       "      <th>blockNumber</th>\n",
       "    </tr>\n",
       "  </thead>\n",
       "  <tbody>\n",
       "    <tr>\n",
       "      <th>0</th>\n",
       "      <td>0x1801FA4C4F3930391eF8B318049ba8Baf7ba1141</td>\n",
       "      <td>True</td>\n",
       "      <td>b\"\\xdeh\\xe9`r\\x1d\\xd3\\xbdl\\x13?\\xe8b,\\xc4j\\x9c...</td>\n",
       "      <td>0xeA31e61d90f3238DbF6C36E9aFcD555252383390</td>\n",
       "      <td>1</td>\n",
       "      <td>1607713385</td>\n",
       "      <td>PickedUp</td>\n",
       "      <td>0</td>\n",
       "      <td>0</td>\n",
       "      <td>b'VJ\\x98\\xe7W,3\\x82!\\x0b\\x7f\\xb2\\x1d\\xabY#f\\xf...</td>\n",
       "      <td>0x172C16158160e45FFD013ba2279F88E1E1838ab1</td>\n",
       "      <td>b'=ZT\\x8b\\xdd\\x1f\\xaa~(\\xa3\\xb5\\x12\\xde\\xce\\xe...</td>\n",
       "      <td>21</td>\n",
       "    </tr>\n",
       "    <tr>\n",
       "      <th>1</th>\n",
       "      <td>0x7FEB77800FeCfbd87F87D8A2C1BFA990e064ed2b</td>\n",
       "      <td>False</td>\n",
       "      <td>b'\\xde\\xb9\\x1f\\x1b\\x05\\xad\\x9c\\x88\\x02\\\\\\xec\\x...</td>\n",
       "      <td>0xfC0a26e14bD419F94F967a2cFA352f2c962673f4</td>\n",
       "      <td>2</td>\n",
       "      <td>1607713385</td>\n",
       "      <td>PickedUp</td>\n",
       "      <td>0</td>\n",
       "      <td>0</td>\n",
       "      <td>b'\\x8cb\\xb0\\x19[l\\x81\\xe9\\rl\\x8c\\x0eW\\xb3\\xc9\\...</td>\n",
       "      <td>0x172C16158160e45FFD013ba2279F88E1E1838ab1</td>\n",
       "      <td>b'\\x84\\xe5o\\x04~3\\xb0\\x8b\\xe8)\\x8e\\xf0\\xd6\\xb4...</td>\n",
       "      <td>22</td>\n",
       "    </tr>\n",
       "    <tr>\n",
       "      <th>2</th>\n",
       "      <td>0x1801FA4C4F3930391eF8B318049ba8Baf7ba1141</td>\n",
       "      <td>True</td>\n",
       "      <td>b'\\xaa\\x0e\\x97\\xee\\x8e\\x96\\xe1\\xaa\\xd5%\\xa9\\xe...</td>\n",
       "      <td>0x8352D2ad4D51747265028aC6610C61a96b56d68d</td>\n",
       "      <td>3</td>\n",
       "      <td>1607713386</td>\n",
       "      <td>PickedUp</td>\n",
       "      <td>0</td>\n",
       "      <td>0</td>\n",
       "      <td>b'\\xe4\\xc3\\xa6Z\\xd9\\xd4\\x10\\xd7\\x8a]\\x0eA\\xa2\\...</td>\n",
       "      <td>0x172C16158160e45FFD013ba2279F88E1E1838ab1</td>\n",
       "      <td>b'\\x80\\x87\\x01\\xc9\\xb6\\xfc\\x8c\\xd1\\xcc\\xda\\xbc...</td>\n",
       "      <td>23</td>\n",
       "    </tr>\n",
       "    <tr>\n",
       "      <th>3</th>\n",
       "      <td>0x7FEB77800FeCfbd87F87D8A2C1BFA990e064ed2b</td>\n",
       "      <td>False</td>\n",
       "      <td>b'\\x13T.w\\x08\\x02V\\xa0\\xa94\\xc4\\xed\\x04\\xedr\\x...</td>\n",
       "      <td>0x1c6bf93000e5920A978EAb41AD92E4c13DCC03A9</td>\n",
       "      <td>1</td>\n",
       "      <td>1607713387</td>\n",
       "      <td>PickedUp</td>\n",
       "      <td>0</td>\n",
       "      <td>0</td>\n",
       "      <td>b\"\\x0bDEq|\\xc2\\xadj\\xe1\\xc9,\\xb3\\xbc&lt;\\x97'\\x99...</td>\n",
       "      <td>0x172C16158160e45FFD013ba2279F88E1E1838ab1</td>\n",
       "      <td>b'\\xd1\\xf3\\x8e\\x86:!\\xad\\x10\\r\\x18\\xe7\\x91|\\xf...</td>\n",
       "      <td>24</td>\n",
       "    </tr>\n",
       "    <tr>\n",
       "      <th>4</th>\n",
       "      <td>0x1801FA4C4F3930391eF8B318049ba8Baf7ba1141</td>\n",
       "      <td>True</td>\n",
       "      <td>b'7\\x90\"]q\\xad\\xff`\\xd7\\xe0\\x96\\x95\\x16\\xbf\\xe...</td>\n",
       "      <td>0x2944BC06707Ec6286b95d3d81290F4F420365B96</td>\n",
       "      <td>2</td>\n",
       "      <td>1607713388</td>\n",
       "      <td>PickedUp</td>\n",
       "      <td>0</td>\n",
       "      <td>0</td>\n",
       "      <td>b'\\xed\\x99\\x8cK\\xe0\\xaf\\x04(\\xfb\\xd9\\xa7\"\\x9d\\...</td>\n",
       "      <td>0x172C16158160e45FFD013ba2279F88E1E1838ab1</td>\n",
       "      <td>b'b:3X_\\x86Q\\xb8\\x12\\xe7\\x9fI\\xc4{\\x12\\x9e\\x85...</td>\n",
       "      <td>25</td>\n",
       "    </tr>\n",
       "  </tbody>\n",
       "</table>\n",
       "</div>"
      ],
      "text/plain": [
       "                                  transporter  wasteType  \\\n",
       "0  0x1801FA4C4F3930391eF8B318049ba8Baf7ba1141       True   \n",
       "1  0x7FEB77800FeCfbd87F87D8A2C1BFA990e064ed2b      False   \n",
       "2  0x1801FA4C4F3930391eF8B318049ba8Baf7ba1141       True   \n",
       "3  0x7FEB77800FeCfbd87F87D8A2C1BFA990e064ed2b      False   \n",
       "4  0x1801FA4C4F3930391eF8B318049ba8Baf7ba1141       True   \n",
       "\n",
       "                                               bagId  \\\n",
       "0  b\"\\xdeh\\xe9`r\\x1d\\xd3\\xbdl\\x13?\\xe8b,\\xc4j\\x9c...   \n",
       "1  b'\\xde\\xb9\\x1f\\x1b\\x05\\xad\\x9c\\x88\\x02\\\\\\xec\\x...   \n",
       "2  b'\\xaa\\x0e\\x97\\xee\\x8e\\x96\\xe1\\xaa\\xd5%\\xa9\\xe...   \n",
       "3  b'\\x13T.w\\x08\\x02V\\xa0\\xa94\\xc4\\xed\\x04\\xedr\\x...   \n",
       "4  b'7\\x90\"]q\\xad\\xff`\\xd7\\xe0\\x96\\x95\\x16\\xbf\\xe...   \n",
       "\n",
       "                                    generator  wasteWeight  pickUpTime  \\\n",
       "0  0xeA31e61d90f3238DbF6C36E9aFcD555252383390            1  1607713385   \n",
       "1  0xfC0a26e14bD419F94F967a2cFA352f2c962673f4            2  1607713385   \n",
       "2  0x8352D2ad4D51747265028aC6610C61a96b56d68d            3  1607713386   \n",
       "3  0x1c6bf93000e5920A978EAb41AD92E4c13DCC03A9            1  1607713387   \n",
       "4  0x2944BC06707Ec6286b95d3d81290F4F420365B96            2  1607713388   \n",
       "\n",
       "      event  logIndex  transactionIndex  \\\n",
       "0  PickedUp         0                 0   \n",
       "1  PickedUp         0                 0   \n",
       "2  PickedUp         0                 0   \n",
       "3  PickedUp         0                 0   \n",
       "4  PickedUp         0                 0   \n",
       "\n",
       "                                     transactionHash  \\\n",
       "0  b'VJ\\x98\\xe7W,3\\x82!\\x0b\\x7f\\xb2\\x1d\\xabY#f\\xf...   \n",
       "1  b'\\x8cb\\xb0\\x19[l\\x81\\xe9\\rl\\x8c\\x0eW\\xb3\\xc9\\...   \n",
       "2  b'\\xe4\\xc3\\xa6Z\\xd9\\xd4\\x10\\xd7\\x8a]\\x0eA\\xa2\\...   \n",
       "3  b\"\\x0bDEq|\\xc2\\xadj\\xe1\\xc9,\\xb3\\xbc<\\x97'\\x99...   \n",
       "4  b'\\xed\\x99\\x8cK\\xe0\\xaf\\x04(\\xfb\\xd9\\xa7\"\\x9d\\...   \n",
       "\n",
       "                                      address  \\\n",
       "0  0x172C16158160e45FFD013ba2279F88E1E1838ab1   \n",
       "1  0x172C16158160e45FFD013ba2279F88E1E1838ab1   \n",
       "2  0x172C16158160e45FFD013ba2279F88E1E1838ab1   \n",
       "3  0x172C16158160e45FFD013ba2279F88E1E1838ab1   \n",
       "4  0x172C16158160e45FFD013ba2279F88E1E1838ab1   \n",
       "\n",
       "                                           blockHash  blockNumber  \n",
       "0  b'=ZT\\x8b\\xdd\\x1f\\xaa~(\\xa3\\xb5\\x12\\xde\\xce\\xe...           21  \n",
       "1  b'\\x84\\xe5o\\x04~3\\xb0\\x8b\\xe8)\\x8e\\xf0\\xd6\\xb4...           22  \n",
       "2  b'\\x80\\x87\\x01\\xc9\\xb6\\xfc\\x8c\\xd1\\xcc\\xda\\xbc...           23  \n",
       "3  b'\\xd1\\xf3\\x8e\\x86:!\\xad\\x10\\r\\x18\\xe7\\x91|\\xf...           24  \n",
       "4  b'b:3X_\\x86Q\\xb8\\x12\\xe7\\x9fI\\xc4{\\x12\\x9e\\x85...           25  "
      ]
     },
     "execution_count": 34,
     "metadata": {},
     "output_type": "execute_result"
    }
   ],
   "source": [
    "# Pass filters on the chain (from block 1) and pick logs found (for now only 'ToPickUp')\n",
    "# Can see logs of the 5 citizens, each one a different generator and all the garble generated by the event\n",
    "events = get_past_logs(filters)\n",
    "df = pd.DataFrame(events)\n",
    "df.head()"
   ]
  },
  {
   "cell_type": "code",
   "execution_count": null,
   "metadata": {},
   "outputs": [],
   "source": []
  }
 ],
 "metadata": {
  "kernelspec": {
   "display_name": "Python 3",
   "language": "python",
   "name": "python3"
  },
  "language_info": {
   "codemirror_mode": {
    "name": "ipython",
    "version": 3
   },
   "file_extension": ".py",
   "mimetype": "text/x-python",
   "name": "python",
   "nbconvert_exporter": "python",
   "pygments_lexer": "ipython3",
   "version": "3.8.3"
  }
 },
 "nbformat": 4,
 "nbformat_minor": 4
}
