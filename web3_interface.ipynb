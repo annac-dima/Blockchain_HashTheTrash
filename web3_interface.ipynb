{
 "cells": [
  {
   "cell_type": "code",
   "execution_count": 82,
   "metadata": {},
   "outputs": [],
   "source": [
    "import json\n",
    "from web3 import Web3\n",
    "from taxes_abi import *"
   ]
  },
  {
   "cell_type": "code",
   "execution_count": 83,
   "metadata": {},
   "outputs": [],
   "source": [
    "ganache_url = 'HTTP://127.0.0.1:7545'"
   ]
  },
  {
   "cell_type": "code",
   "execution_count": 84,
   "metadata": {},
   "outputs": [],
   "source": [
    "web3 = Web3(Web3.HTTPProvider(ganache_url))"
   ]
  },
  {
   "cell_type": "code",
   "execution_count": 85,
   "metadata": {},
   "outputs": [
    {
     "name": "stdout",
     "output_type": "stream",
     "text": [
      "True\n"
     ]
    }
   ],
   "source": [
    "web3.eth.defaultAccount = web3.eth.accounts[0] \n",
    "print(web3.isConnected())"
   ]
  },
  {
   "cell_type": "code",
   "execution_count": 86,
   "metadata": {},
   "outputs": [],
   "source": [
    "contract_abi = json.loads(abi)\n",
    "contract_bytecode = bytecode[0]"
   ]
  },
  {
   "cell_type": "code",
   "execution_count": 87,
   "metadata": {},
   "outputs": [],
   "source": [
    "def deploy_contract(abi, bytecode):\n",
    "    \"\"\"\n",
    "    Deploy the contract using Python and web3.py without relying on Remix\n",
    "    \n",
    "    Parameters\n",
    "    --------------\n",
    "    abi : abi of the contract\n",
    "    bytecode : bytecode of the contract\n",
    "    \n",
    "    Returns\n",
    "    --------------\n",
    "    Address where the contract has been deployed\n",
    "    \"\"\"\n",
    "    \n",
    "    contract = web3.eth.contract(abi=abi, bytecode=bytecode)\n",
    "    tx_hash = contract.constructor().transact()\n",
    "    tx_receipt = web3.eth.waitForTransactionReceipt(tx_hash)\n",
    "    return tx_receipt.contractAddress\n"
   ]
  },
  {
   "cell_type": "code",
   "execution_count": 88,
   "metadata": {},
   "outputs": [
    {
     "name": "stdout",
     "output_type": "stream",
     "text": [
      "0x6bdbE1eC3c9EE9Cb31F9138F0e36eC7377D8538B\n"
     ]
    }
   ],
   "source": [
    "contract_address = deploy_contract(abi=contract_abi, bytecode=contract_bytecode)\n",
    "\n",
    "print(contract_address)"
   ]
  },
  {
   "cell_type": "code",
   "execution_count": 89,
   "metadata": {},
   "outputs": [],
   "source": [
    "# Define contract\n",
    "rubbish_contract = web3.eth.contract(address=contract_address, abi=contract_abi)"
   ]
  },
  {
   "cell_type": "code",
   "execution_count": 90,
   "metadata": {},
   "outputs": [],
   "source": [
    "roles = ['municipality'] + [f'citizen_{i}' for i in range(1,6)] + [f'truck_{i}' for i in range(1,3)] + [f'station_{i}' for i in range(1,3)]    \n",
    "address_dict = {roles[i]: web3.eth.accounts[i] for i in range(len(roles))}"
   ]
  },
  {
   "cell_type": "code",
   "execution_count": 91,
   "metadata": {},
   "outputs": [
    {
     "data": {
      "text/plain": [
       "{'municipality': '0xCe38D1B5E5255023f8772363Bee10be9AAD5a663',\n",
       " 'citizen_1': '0x0D15a21df8F04a1eadfA41eC5d07deBe8afCA264',\n",
       " 'citizen_2': '0x7C4Ad0C5E20825D78305f80C1E0F361186127A70',\n",
       " 'citizen_3': '0xd5e8dFB1DBF4e35ca7F0750971d4DdF4672735a7',\n",
       " 'citizen_4': '0x85C95c7674b2c2569597396e6cb805B5a078c3A8',\n",
       " 'citizen_5': '0x0f2d24B69f8A96a8f436D9dCE3B9616A0BE404Fe',\n",
       " 'truck_1': '0xF51f7899c9fc3AC8E5b71feD71A9c38a79B1e8fc',\n",
       " 'truck_2': '0x854Dd3026ABB33e2bDCF781D4733D0e4EBfA1991',\n",
       " 'station_1': '0x24F2E663AC726438409B930569D9de6346a8CBeE',\n",
       " 'station_2': '0x201F7945298E1E8EE3F5b2C30fee2a29F9Fa5457'}"
      ]
     },
     "execution_count": 91,
     "metadata": {},
     "output_type": "execute_result"
    }
   ],
   "source": [
    "address_dict"
   ]
  },
  {
   "cell_type": "code",
   "execution_count": 92,
   "metadata": {},
   "outputs": [
    {
     "data": {
      "text/plain": [
       "[<Function _addGarbageCollectorRole(address)>,\n",
       " <Function _addMunicipalityManager(address)>,\n",
       " <Function _removeCitizenRole(address)>,\n",
       " <Function _removeGarbageCollectorRole(address)>,\n",
       " <Function _removeMunicipalityManagers(address)>,\n",
       " <Function addCitizen()>,\n",
       " <Function didIPayDeposit()>,\n",
       " <Function generateTrashBag()>,\n",
       " <Function getAmountNonRecyclableWaste()>,\n",
       " <Function getAmountRecyclableWaste()>,\n",
       " <Function getTaxesDue()>,\n",
       " <Function getTotalTaxesPaid()>,\n",
       " <Function owner()>,\n",
       " <Function payDeposit()>,\n",
       " <Function pickFromBin(address,uint256,uint8)>,\n",
       " <Function renounceOwnership()>,\n",
       " <Function transferOwnership(address)>]"
      ]
     },
     "execution_count": 92,
     "metadata": {},
     "output_type": "execute_result"
    }
   ],
   "source": [
    "# All functions in the contract\n",
    "rubbish_contract.all_functions()"
   ]
  },
  {
   "cell_type": "markdown",
   "metadata": {},
   "source": [
    "Add citizens to the citizen list using function `addCitizen()`"
   ]
  },
  {
   "cell_type": "code",
   "execution_count": 93,
   "metadata": {},
   "outputs": [
    {
     "name": "stdout",
     "output_type": "stream",
     "text": [
      "citizen_1\n",
      "citizen_2\n",
      "citizen_3\n",
      "citizen_4\n",
      "citizen_5\n"
     ]
    }
   ],
   "source": [
    "for citizen in [f'citizen_{i}' for i in range(1,6)]:\n",
    "    print(citizen)\n",
    "    tx_hash = rubbish_contract.functions.addCitizen().transact({'from': address_dict[citizen]})"
   ]
  },
  {
   "cell_type": "code",
   "execution_count": 94,
   "metadata": {},
   "outputs": [],
   "source": [
    "def get_info_from_citizen(contract, citizen):\n",
    "    \"\"\"\n",
    "    Given a contract and a citizen, retrieve information regarding taxes paid/due and rubbish produced\n",
    "    \n",
    "    citizen must be a str\n",
    "    \n",
    "    Taxes paid -> only municiplaity manager can access this!\n",
    "    \"\"\"\n",
    "    \n",
    "    from_dict = {'from': address_dict[citizen]}\n",
    "    paid_deposit = contract.functions.didIPayDeposit().call(from_dict)\n",
    "    nonrec_waste_amount = contract.functions.getAmountNonRecyclableWaste().call(from_dict)\n",
    "    rec_waste_amount = contract.functions.getAmountRecyclableWaste().call(from_dict)\n",
    "    taxes_due = contract.functions.getTaxesDue().call(from_dict)\n",
    "    #taxes_paid = contract.functions.getTotalTaxesPaid().call(from_dict)\n",
    "    return paid_deposit, nonrec_waste_amount, rec_waste_amount, taxes_due, #taxes_paid"
   ]
  },
  {
   "cell_type": "code",
   "execution_count": 95,
   "metadata": {},
   "outputs": [
    {
     "data": {
      "text/plain": [
       "(False, 0, 0, 0)"
      ]
     },
     "execution_count": 95,
     "metadata": {},
     "output_type": "execute_result"
    }
   ],
   "source": [
    "c1 = get_info_from_citizen(rubbish_contract, 'citizen_1')\n",
    "c1"
   ]
  },
  {
   "cell_type": "code",
   "execution_count": 106,
   "metadata": {},
   "outputs": [
    {
     "ename": "ValidationError",
     "evalue": "\nCould not identify the intended function with name `payDeposit`, positional argument(s) of type `(<class 'str'>,)` and keyword argument(s) of type `{}`.\nFound 1 function(s) with the name `payDeposit`: ['payDeposit()']\nFunction invocation failed due to improper number of arguments.",
     "output_type": "error",
     "traceback": [
      "\u001b[0;31m---------------------------------------------------------------------------\u001b[0m",
      "\u001b[0;31mValidationError\u001b[0m                           Traceback (most recent call last)",
      "\u001b[0;32m<ipython-input-106-c035ec13ce24>\u001b[0m in \u001b[0;36m<module>\u001b[0;34m\u001b[0m\n\u001b[1;32m      1\u001b[0m \u001b[0;31m# Minimum deposit\u001b[0m\u001b[0;34m\u001b[0m\u001b[0;34m\u001b[0m\u001b[0;34m\u001b[0m\u001b[0m\n\u001b[1;32m      2\u001b[0m \u001b[0mdeposit\u001b[0m \u001b[0;34m=\u001b[0m \u001b[0;34m'100000000000000000'\u001b[0m\u001b[0;34m\u001b[0m\u001b[0;34m\u001b[0m\u001b[0m\n\u001b[0;32m----> 3\u001b[0;31m \u001b[0mtx_hash\u001b[0m \u001b[0;34m=\u001b[0m \u001b[0mrubbish_contract\u001b[0m\u001b[0;34m.\u001b[0m\u001b[0mfunctions\u001b[0m\u001b[0;34m.\u001b[0m\u001b[0mpayDeposit\u001b[0m\u001b[0;34m(\u001b[0m\u001b[0mdeposit\u001b[0m\u001b[0;34m)\u001b[0m\u001b[0;34m.\u001b[0m\u001b[0mtransact\u001b[0m\u001b[0;34m(\u001b[0m\u001b[0;34m{\u001b[0m\u001b[0;34m'from'\u001b[0m\u001b[0;34m:\u001b[0m \u001b[0maddress_dict\u001b[0m\u001b[0;34m[\u001b[0m\u001b[0;34m'citizen_1'\u001b[0m\u001b[0;34m]\u001b[0m\u001b[0;34m}\u001b[0m\u001b[0;34m)\u001b[0m\u001b[0;34m\u001b[0m\u001b[0;34m\u001b[0m\u001b[0m\n\u001b[0m",
      "\u001b[0;32m/opt/anaconda3/lib/python3.8/site-packages/web3/contract.py\u001b[0m in \u001b[0;36m__call__\u001b[0;34m(self, *args, **kwargs)\u001b[0m\n\u001b[1;32m    873\u001b[0m         \u001b[0;32melse\u001b[0m\u001b[0;34m:\u001b[0m\u001b[0;34m\u001b[0m\u001b[0;34m\u001b[0m\u001b[0m\n\u001b[1;32m    874\u001b[0m             \u001b[0mclone\u001b[0m\u001b[0;34m.\u001b[0m\u001b[0mkwargs\u001b[0m \u001b[0;34m=\u001b[0m \u001b[0mkwargs\u001b[0m\u001b[0;34m\u001b[0m\u001b[0;34m\u001b[0m\u001b[0m\n\u001b[0;32m--> 875\u001b[0;31m         \u001b[0mclone\u001b[0m\u001b[0;34m.\u001b[0m\u001b[0m_set_function_info\u001b[0m\u001b[0;34m(\u001b[0m\u001b[0;34m)\u001b[0m\u001b[0;34m\u001b[0m\u001b[0;34m\u001b[0m\u001b[0m\n\u001b[0m\u001b[1;32m    876\u001b[0m         \u001b[0;32mreturn\u001b[0m \u001b[0mclone\u001b[0m\u001b[0;34m\u001b[0m\u001b[0;34m\u001b[0m\u001b[0m\n\u001b[1;32m    877\u001b[0m \u001b[0;34m\u001b[0m\u001b[0m\n",
      "\u001b[0;32m/opt/anaconda3/lib/python3.8/site-packages/web3/contract.py\u001b[0m in \u001b[0;36m_set_function_info\u001b[0;34m(self)\u001b[0m\n\u001b[1;32m    878\u001b[0m     \u001b[0;32mdef\u001b[0m \u001b[0m_set_function_info\u001b[0m\u001b[0;34m(\u001b[0m\u001b[0mself\u001b[0m\u001b[0;34m)\u001b[0m \u001b[0;34m->\u001b[0m \u001b[0;32mNone\u001b[0m\u001b[0;34m:\u001b[0m\u001b[0;34m\u001b[0m\u001b[0;34m\u001b[0m\u001b[0m\n\u001b[1;32m    879\u001b[0m         \u001b[0;32mif\u001b[0m \u001b[0;32mnot\u001b[0m \u001b[0mself\u001b[0m\u001b[0;34m.\u001b[0m\u001b[0mabi\u001b[0m\u001b[0;34m:\u001b[0m\u001b[0;34m\u001b[0m\u001b[0;34m\u001b[0m\u001b[0m\n\u001b[0;32m--> 880\u001b[0;31m             self.abi = find_matching_fn_abi(\n\u001b[0m\u001b[1;32m    881\u001b[0m                 \u001b[0mself\u001b[0m\u001b[0;34m.\u001b[0m\u001b[0mcontract_abi\u001b[0m\u001b[0;34m,\u001b[0m\u001b[0;34m\u001b[0m\u001b[0;34m\u001b[0m\u001b[0m\n\u001b[1;32m    882\u001b[0m                 \u001b[0mself\u001b[0m\u001b[0;34m.\u001b[0m\u001b[0mweb3\u001b[0m\u001b[0;34m.\u001b[0m\u001b[0mcodec\u001b[0m\u001b[0;34m,\u001b[0m\u001b[0;34m\u001b[0m\u001b[0;34m\u001b[0m\u001b[0m\n",
      "\u001b[0;32m/opt/anaconda3/lib/python3.8/site-packages/web3/_utils/contracts.py\u001b[0m in \u001b[0;36mfind_matching_fn_abi\u001b[0;34m(abi, abi_codec, fn_identifier, args, kwargs)\u001b[0m\n\u001b[1;32m    161\u001b[0m         )\n\u001b[1;32m    162\u001b[0m \u001b[0;34m\u001b[0m\u001b[0m\n\u001b[0;32m--> 163\u001b[0;31m         \u001b[0;32mraise\u001b[0m \u001b[0mValidationError\u001b[0m\u001b[0;34m(\u001b[0m\u001b[0mmessage\u001b[0m\u001b[0;34m)\u001b[0m\u001b[0;34m\u001b[0m\u001b[0;34m\u001b[0m\u001b[0m\n\u001b[0m\u001b[1;32m    164\u001b[0m \u001b[0;34m\u001b[0m\u001b[0m\n\u001b[1;32m    165\u001b[0m \u001b[0;34m\u001b[0m\u001b[0m\n",
      "\u001b[0;31mValidationError\u001b[0m: \nCould not identify the intended function with name `payDeposit`, positional argument(s) of type `(<class 'str'>,)` and keyword argument(s) of type `{}`.\nFound 1 function(s) with the name `payDeposit`: ['payDeposit()']\nFunction invocation failed due to improper number of arguments."
     ]
    }
   ],
   "source": [
    "# Minimum deposit\n",
    "deposit = \n",
    "tx_hash = rubbish_contract.functions.payDeposit(deposit).transact({'from': address_dict['citizen_1']})"
   ]
  },
  {
   "cell_type": "code",
   "execution_count": null,
   "metadata": {},
   "outputs": [],
   "source": []
  },
  {
   "cell_type": "code",
   "execution_count": null,
   "metadata": {},
   "outputs": [],
   "source": []
  },
  {
   "cell_type": "code",
   "execution_count": null,
   "metadata": {},
   "outputs": [],
   "source": []
  },
  {
   "cell_type": "code",
   "execution_count": null,
   "metadata": {},
   "outputs": [],
   "source": []
  },
  {
   "cell_type": "code",
   "execution_count": null,
   "metadata": {},
   "outputs": [],
   "source": []
  },
  {
   "cell_type": "code",
   "execution_count": null,
   "metadata": {},
   "outputs": [],
   "source": []
  },
  {
   "cell_type": "code",
   "execution_count": null,
   "metadata": {},
   "outputs": [],
   "source": []
  },
  {
   "cell_type": "code",
   "execution_count": 12,
   "metadata": {},
   "outputs": [],
   "source": [
    "import time\n",
    "\n",
    "def handle_event(event):\n",
    "    print(event)\n",
    "\n",
    "def log_loop(event_filter, poll_interval):\n",
    "    while True:\n",
    "        for event in event_filter.get_new_entries():\n",
    "            handle_event(event)\n",
    "        time.sleep(poll_interval)\n",
    "\n",
    "def main():\n",
    "    block_filter = web3.eth.filter('latest')\n",
    "    log_loop(block_filter, 2)"
   ]
  },
  {
   "cell_type": "code",
   "execution_count": 13,
   "metadata": {},
   "outputs": [
    {
     "name": "stdout",
     "output_type": "stream",
     "text": [
      "b'\\x94N\\xd7\\xf91\\xaau\\x89\\xff\\xe6\\xe1m\\xe4\\xa1\\xeb\\xa1\\xddU\\xf2\\xc7\\x85\\x07\\xd9b\\x076\\xdf\\xa7\\xb9\\xf6F('\n",
      "b'\\x14\\xe3\\x0f\\xd5c\\xc0)>\\xb1\\xa8%\\r\\xee\\xd7\\xdd\\xd6\\x82I\\xfc\\xc2k\\xf1-\\xa8\\xb1\\x9d;\\x16\\xfb\\xb5\\xe3-'\n"
     ]
    },
    {
     "ename": "KeyboardInterrupt",
     "evalue": "",
     "output_type": "error",
     "traceback": [
      "\u001b[0;31m---------------------------------------------------------------------------\u001b[0m",
      "\u001b[0;31mKeyboardInterrupt\u001b[0m                         Traceback (most recent call last)",
      "\u001b[0;32m<ipython-input-13-263240bbee7e>\u001b[0m in \u001b[0;36m<module>\u001b[0;34m\u001b[0m\n\u001b[0;32m----> 1\u001b[0;31m \u001b[0mmain\u001b[0m\u001b[0;34m(\u001b[0m\u001b[0;34m)\u001b[0m\u001b[0;34m\u001b[0m\u001b[0;34m\u001b[0m\u001b[0m\n\u001b[0m",
      "\u001b[0;32m<ipython-input-12-ad10d034a68e>\u001b[0m in \u001b[0;36mmain\u001b[0;34m()\u001b[0m\n\u001b[1;32m     12\u001b[0m \u001b[0;32mdef\u001b[0m \u001b[0mmain\u001b[0m\u001b[0;34m(\u001b[0m\u001b[0;34m)\u001b[0m\u001b[0;34m:\u001b[0m\u001b[0;34m\u001b[0m\u001b[0;34m\u001b[0m\u001b[0m\n\u001b[1;32m     13\u001b[0m     \u001b[0mblock_filter\u001b[0m \u001b[0;34m=\u001b[0m \u001b[0mweb3\u001b[0m\u001b[0;34m.\u001b[0m\u001b[0meth\u001b[0m\u001b[0;34m.\u001b[0m\u001b[0mfilter\u001b[0m\u001b[0;34m(\u001b[0m\u001b[0;34m'latest'\u001b[0m\u001b[0;34m)\u001b[0m\u001b[0;34m\u001b[0m\u001b[0;34m\u001b[0m\u001b[0m\n\u001b[0;32m---> 14\u001b[0;31m     \u001b[0mlog_loop\u001b[0m\u001b[0;34m(\u001b[0m\u001b[0mblock_filter\u001b[0m\u001b[0;34m,\u001b[0m \u001b[0;36m2\u001b[0m\u001b[0;34m)\u001b[0m\u001b[0;34m\u001b[0m\u001b[0;34m\u001b[0m\u001b[0m\n\u001b[0m",
      "\u001b[0;32m<ipython-input-12-ad10d034a68e>\u001b[0m in \u001b[0;36mlog_loop\u001b[0;34m(event_filter, poll_interval)\u001b[0m\n\u001b[1;32m      8\u001b[0m         \u001b[0;32mfor\u001b[0m \u001b[0mevent\u001b[0m \u001b[0;32min\u001b[0m \u001b[0mevent_filter\u001b[0m\u001b[0;34m.\u001b[0m\u001b[0mget_new_entries\u001b[0m\u001b[0;34m(\u001b[0m\u001b[0;34m)\u001b[0m\u001b[0;34m:\u001b[0m\u001b[0;34m\u001b[0m\u001b[0;34m\u001b[0m\u001b[0m\n\u001b[1;32m      9\u001b[0m             \u001b[0mhandle_event\u001b[0m\u001b[0;34m(\u001b[0m\u001b[0mevent\u001b[0m\u001b[0;34m)\u001b[0m\u001b[0;34m\u001b[0m\u001b[0;34m\u001b[0m\u001b[0m\n\u001b[0;32m---> 10\u001b[0;31m         \u001b[0mtime\u001b[0m\u001b[0;34m.\u001b[0m\u001b[0msleep\u001b[0m\u001b[0;34m(\u001b[0m\u001b[0mpoll_interval\u001b[0m\u001b[0;34m)\u001b[0m\u001b[0;34m\u001b[0m\u001b[0;34m\u001b[0m\u001b[0m\n\u001b[0m\u001b[1;32m     11\u001b[0m \u001b[0;34m\u001b[0m\u001b[0m\n\u001b[1;32m     12\u001b[0m \u001b[0;32mdef\u001b[0m \u001b[0mmain\u001b[0m\u001b[0;34m(\u001b[0m\u001b[0;34m)\u001b[0m\u001b[0;34m:\u001b[0m\u001b[0;34m\u001b[0m\u001b[0;34m\u001b[0m\u001b[0m\n",
      "\u001b[0;31mKeyboardInterrupt\u001b[0m: "
     ]
    }
   ],
   "source": [
    "main()"
   ]
  },
  {
   "cell_type": "code",
   "execution_count": null,
   "metadata": {},
   "outputs": [],
   "source": []
  },
  {
   "cell_type": "code",
   "execution_count": null,
   "metadata": {},
   "outputs": [],
   "source": []
  },
  {
   "cell_type": "code",
   "execution_count": null,
   "metadata": {},
   "outputs": [],
   "source": []
  },
  {
   "cell_type": "code",
   "execution_count": null,
   "metadata": {},
   "outputs": [],
   "source": []
  },
  {
   "cell_type": "code",
   "execution_count": null,
   "metadata": {},
   "outputs": [],
   "source": []
  },
  {
   "cell_type": "code",
   "execution_count": 6,
   "metadata": {},
   "outputs": [],
   "source": []
  },
  {
   "cell_type": "code",
   "execution_count": null,
   "metadata": {},
   "outputs": [],
   "source": []
  }
 ],
 "metadata": {
  "kernelspec": {
   "display_name": "Python 3",
   "language": "python",
   "name": "python3"
  },
  "language_info": {
   "codemirror_mode": {
    "name": "ipython",
    "version": 3
   },
   "file_extension": ".py",
   "mimetype": "text/x-python",
   "name": "python",
   "nbconvert_exporter": "python",
   "pygments_lexer": "ipython3",
   "version": "3.8.3"
  }
 },
 "nbformat": 4,
 "nbformat_minor": 4
}
