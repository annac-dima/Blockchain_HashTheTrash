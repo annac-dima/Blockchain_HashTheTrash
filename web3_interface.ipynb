{
 "cells": [
  {
   "cell_type": "code",
   "execution_count": 34,
   "metadata": {},
   "outputs": [],
   "source": [
    "import json\n",
    "from web3 import Web3\n",
    "from taxes_abi import *"
   ]
  },
  {
   "cell_type": "code",
   "execution_count": 35,
   "metadata": {},
   "outputs": [],
   "source": [
    "ganache_url = 'HTTP://127.0.0.1:7545'"
   ]
  },
  {
   "cell_type": "code",
   "execution_count": 36,
   "metadata": {},
   "outputs": [],
   "source": [
    "web3 = Web3(Web3.HTTPProvider(ganache_url))"
   ]
  },
  {
   "cell_type": "code",
   "execution_count": 37,
   "metadata": {},
   "outputs": [
    {
     "name": "stdout",
     "output_type": "stream",
     "text": [
      "True\n"
     ]
    }
   ],
   "source": [
    "web3.eth.defaultAccount = web3.eth.accounts[0] \n",
    "print(web3.isConnected())"
   ]
  },
  {
   "cell_type": "code",
   "execution_count": 38,
   "metadata": {},
   "outputs": [],
   "source": [
    "contract_abi = json.loads(abi)\n",
    "contract_bytecode = bytecode"
   ]
  },
  {
   "cell_type": "code",
   "execution_count": 40,
   "metadata": {},
   "outputs": [],
   "source": [
    "def deploy_contract(abi, bytecode):\n",
    "    \"\"\"\n",
    "    Deploy the contract using Python and web3.py without relying on Remix\n",
    "    \n",
    "    Parameters\n",
    "    --------------\n",
    "    abi : abi of the contract\n",
    "    bytecode : bytecode of the contract\n",
    "    \n",
    "    Returns\n",
    "    --------------\n",
    "    Address where the contract has been deployed\n",
    "    \"\"\"\n",
    "    \n",
    "    contract = web3.eth.contract(abi=abi, bytecode=bytecode)\n",
    "    tx_hash = contract.constructor().transact()\n",
    "    tx_receipt = web3.eth.waitForTransactionReceipt(tx_hash)\n",
    "    return tx_receipt.contractAddress\n"
   ]
  },
  {
   "cell_type": "code",
   "execution_count": 41,
   "metadata": {},
   "outputs": [
    {
     "name": "stdout",
     "output_type": "stream",
     "text": [
      "0x3D9E53dF42D5b202f72C68F0D2E8E5e69Dc0E0c9\n"
     ]
    }
   ],
   "source": [
    "contract_address = deploy_contract(abi=contract_abi, bytecode=contract_bytecode)\n",
    "\n",
    "print(contract_address)"
   ]
  },
  {
   "cell_type": "code",
   "execution_count": 42,
   "metadata": {},
   "outputs": [],
   "source": [
    "# Define contract\n",
    "rubbish_contract = web3.eth.contract(address=contract_address, abi=contract_abi)"
   ]
  },
  {
   "cell_type": "code",
   "execution_count": 43,
   "metadata": {},
   "outputs": [],
   "source": [
    "roles = ['municipality'] + [f'citizen_{i}' for i in range(1,6)] + [f'truck_{i}' for i in range(1,3)] + [f'station_{i}' for i in range(1,3)]    \n",
    "address_dict = {roles[i]: web3.eth.accounts[i] for i in range(len(roles))}"
   ]
  },
  {
   "cell_type": "code",
   "execution_count": 44,
   "metadata": {},
   "outputs": [
    {
     "data": {
      "text/plain": [
       "{'municipality': '0xC3c932a2dD9bC0fbc5246277d5F19d444E3684d5',\n",
       " 'citizen_1': '0x69668C6a5934950e912CF99e1af944350b5403f6',\n",
       " 'citizen_2': '0x44598658a840bceEfc25c292e770D8146f5610Ab',\n",
       " 'citizen_3': '0x3D70fbcD063E392a90BE463d9adab387AB7347eC',\n",
       " 'citizen_4': '0x2C98A5B9214B4E4180959d476864d626a0a0C87a',\n",
       " 'citizen_5': '0x266FEB6959A225cD07814bA55F849B82d8c2BBF0',\n",
       " 'truck_1': '0xf6FDe303E411fCf49bB5ec754e0b296411acB0b0',\n",
       " 'truck_2': '0x507673221dC622011BA3e168B00E75d650F8A634',\n",
       " 'station_1': '0xee2fc939b4AaF6A18067606b46A01eB1BFcBcA0b',\n",
       " 'station_2': '0x35A351f83d633eE39d8eeBb9A5d42aa054ddDCaB'}"
      ]
     },
     "execution_count": 44,
     "metadata": {},
     "output_type": "execute_result"
    }
   ],
   "source": [
    "address_dict"
   ]
  },
  {
   "cell_type": "code",
   "execution_count": 45,
   "metadata": {},
   "outputs": [
    {
     "data": {
      "text/plain": [
       "[<Function _addGarbageCollectorRole(address)>,\n",
       " <Function _addMunicipalityManager(address)>,\n",
       " <Function _removeCitizenRole(address)>,\n",
       " <Function _removeGarbageCollectorRole(address)>,\n",
       " <Function _removeMunicipalityManagers(address)>,\n",
       " <Function addCitizen()>,\n",
       " <Function generateTrashBag()>,\n",
       " <Function payDeposit()>,\n",
       " <Function pickFromBin(address,uint256,uint8)>,\n",
       " <Function renounceOwnership()>,\n",
       " <Function transferOwnership(address)>,\n",
       " <Function didIPayDeposit()>,\n",
       " <Function getAmountNonRecyclableWaste()>,\n",
       " <Function getAmountRecyclableWaste()>,\n",
       " <Function getTaxesDue()>,\n",
       " <Function getTotalTaxesPaid()>,\n",
       " <Function owner()>]"
      ]
     },
     "execution_count": 45,
     "metadata": {},
     "output_type": "execute_result"
    }
   ],
   "source": [
    "# All functions in the contract\n",
    "rubbish_contract.all_functions()"
   ]
  },
  {
   "cell_type": "markdown",
   "metadata": {},
   "source": [
    "Add citizens to the citizen list using function `addCitizen()`"
   ]
  },
  {
   "cell_type": "code",
   "execution_count": 46,
   "metadata": {},
   "outputs": [
    {
     "name": "stdout",
     "output_type": "stream",
     "text": [
      "citizen_1\n",
      "citizen_2\n",
      "citizen_3\n",
      "citizen_4\n",
      "citizen_5\n"
     ]
    }
   ],
   "source": [
    "for citizen in [f'citizen_{i}' for i in range(1,6)]:\n",
    "    print(citizen)\n",
    "    tx_hash = rubbish_contract.functions.addCitizen().transact({'from': address_dict[citizen]})"
   ]
  },
  {
   "cell_type": "code",
   "execution_count": 47,
   "metadata": {},
   "outputs": [],
   "source": [
    "def get_info_from_citizen(contract, citizen):\n",
    "    \"\"\"\n",
    "    Given a contract and a citizen, retrieve information regarding taxes paid/due and rubbish produced\n",
    "    \n",
    "    citizen must be a str\n",
    "    \n",
    "    Taxes paid -> only municiplaity manager can access this!\n",
    "    \"\"\"\n",
    "    \n",
    "    from_dict = {'from': address_dict[citizen]}\n",
    "    paid_deposit = contract.functions.didIPayDeposit().call(from_dict)\n",
    "    nonrec_waste_amount = contract.functions.getAmountNonRecyclableWaste().call(from_dict)\n",
    "    rec_waste_amount = contract.functions.getAmountRecyclableWaste().call(from_dict)\n",
    "    taxes_due = contract.functions.getTaxesDue().call(from_dict)\n",
    "    #taxes_paid = contract.functions.getTotalTaxesPaid().call(from_dict)\n",
    "    return paid_deposit, nonrec_waste_amount, rec_waste_amount, taxes_due, #taxes_paid"
   ]
  },
  {
   "cell_type": "code",
   "execution_count": 48,
   "metadata": {},
   "outputs": [
    {
     "data": {
      "text/plain": [
       "(False, 0, 0, 0)"
      ]
     },
     "execution_count": 48,
     "metadata": {},
     "output_type": "execute_result"
    }
   ],
   "source": [
    "c1 = get_info_from_citizen(rubbish_contract, 'citizen_1')\n",
    "c1"
   ]
  },
  {
   "cell_type": "code",
   "execution_count": 49,
   "metadata": {},
   "outputs": [],
   "source": [
    "# Minimum deposit\n",
    "deposit = 100000000000000000\n",
    "tx_hash = rubbish_contract.functions.payDeposit().transact({'from': address_dict['citizen_1'], \n",
    "                                                                   'value': deposit})"
   ]
  },
  {
   "cell_type": "raw",
   "metadata": {},
   "source": [
    "tx_hash = rubbish_contract.functions.payDeposit().transact({'from': address_dict['citizen_2'], \n",
    "                                                            'value': deposit})"
   ]
  },
  {
   "cell_type": "code",
   "execution_count": 50,
   "metadata": {},
   "outputs": [],
   "source": [
    "# Citizen 1 generates a trash bag \n",
    "tx_hash = rubbish_contract.functions.generateTrashBag().transact({'from': address_dict['citizen_1']})"
   ]
  },
  {
   "cell_type": "code",
   "execution_count": 51,
   "metadata": {},
   "outputs": [],
   "source": [
    "tx_receipt = web3.eth.waitForTransactionReceipt(tx_hash)"
   ]
  },
  {
   "cell_type": "code",
   "execution_count": 52,
   "metadata": {},
   "outputs": [
    {
     "data": {
      "text/plain": [
       "AttributeDict({'transactionHash': HexBytes('0x44a41804ec9f6d4504f981ca81ee069989510720ea7bd7da786d25809c689630'),\n",
       " 'transactionIndex': 0,\n",
       " 'blockHash': HexBytes('0x07e5b1952a5e0431c7a4419e66c3a2ee29ff71fb3ae2d64b6f76a72b99aa6c7e'),\n",
       " 'blockNumber': 8,\n",
       " 'from': '0x69668C6a5934950e912CF99e1af944350b5403f6',\n",
       " 'to': '0x3D9E53dF42D5b202f72C68F0D2E8E5e69Dc0E0c9',\n",
       " 'gasUsed': 26129,\n",
       " 'cumulativeGasUsed': 26129,\n",
       " 'contractAddress': None,\n",
       " 'logs': [AttributeDict({'logIndex': 0,\n",
       "   'transactionIndex': 0,\n",
       "   'transactionHash': HexBytes('0x44a41804ec9f6d4504f981ca81ee069989510720ea7bd7da786d25809c689630'),\n",
       "   'blockHash': HexBytes('0x07e5b1952a5e0431c7a4419e66c3a2ee29ff71fb3ae2d64b6f76a72b99aa6c7e'),\n",
       "   'blockNumber': 8,\n",
       "   'address': '0x3D9E53dF42D5b202f72C68F0D2E8E5e69Dc0E0c9',\n",
       "   'data': '0xa230cb8fb52cb660380a123d811fd29af7dfe2f2e0e198e1653572cd560230ba00000000000000000000000069668c6a5934950e912cf99e1af944350b5403f6000000000000000000000000000000000000000000000000000000005fcfb43d',\n",
       "   'topics': [HexBytes('0xbbdd848711604cf3f095b973f631607b7aea61e0ae295f5afd37910a64afddd1')],\n",
       "   'type': 'mined'})],\n",
       " 'status': 1,\n",
       " 'logsBloom': HexBytes('0x00000000000000000000000000000000000000000000000000000000000000000000000000000000000000000000000000000000000000000000000008000000000000000000000000000000000000000000000000000000000000000000000000100000000004000000000000000000000000000000000000000000000000000000000000000000000000000000000000000000000000000000000000000000000000000000000400000000000000000000000000000000000000000000000000000000000000000000000000000000000000000000000000000000000000000000000000100000020000000000000000000000000000000000000000000000')})"
      ]
     },
     "execution_count": 52,
     "metadata": {},
     "output_type": "execute_result"
    }
   ],
   "source": [
    "tx_receipt"
   ]
  },
  {
   "cell_type": "code",
   "execution_count": null,
   "metadata": {},
   "outputs": [],
   "source": []
  },
  {
   "cell_type": "code",
   "execution_count": null,
   "metadata": {},
   "outputs": [],
   "source": []
  },
  {
   "cell_type": "code",
   "execution_count": null,
   "metadata": {},
   "outputs": [],
   "source": []
  },
  {
   "cell_type": "code",
   "execution_count": 122,
   "metadata": {},
   "outputs": [],
   "source": [
    "import time\n",
    "\n",
    "def handle_event(event):\n",
    "    print(event)\n",
    "\n",
    "def log_loop(event_filter, poll_interval):\n",
    "    while True:\n",
    "        for event in event_filter.get_new_entries():\n",
    "            handle_event(event)\n",
    "        time.sleep(poll_interval)\n",
    "\n",
    "def main():\n",
    "    block_filter = web3.eth.filter('latest')\n",
    "    log_loop(block_filter, 2)"
   ]
  },
  {
   "cell_type": "code",
   "execution_count": 123,
   "metadata": {},
   "outputs": [
    {
     "name": "stdout",
     "output_type": "stream",
     "text": [
      "b'1\\xb2\\x9ayS\\xe7\\xf5\\x9e\\x96b\\xdeRn^X\\xc4\\xb5M\\xe0\\xfe|L\\xa9\\xab3G\\x02dA\\xa9\\xbaW'\n"
     ]
    },
    {
     "ename": "KeyboardInterrupt",
     "evalue": "",
     "output_type": "error",
     "traceback": [
      "\u001b[0;31m---------------------------------------------------------------------------\u001b[0m",
      "\u001b[0;31mKeyboardInterrupt\u001b[0m                         Traceback (most recent call last)",
      "\u001b[0;32m<ipython-input-123-263240bbee7e>\u001b[0m in \u001b[0;36m<module>\u001b[0;34m\u001b[0m\n\u001b[0;32m----> 1\u001b[0;31m \u001b[0mmain\u001b[0m\u001b[0;34m(\u001b[0m\u001b[0;34m)\u001b[0m\u001b[0;34m\u001b[0m\u001b[0;34m\u001b[0m\u001b[0m\n\u001b[0m",
      "\u001b[0;32m<ipython-input-122-ad10d034a68e>\u001b[0m in \u001b[0;36mmain\u001b[0;34m()\u001b[0m\n\u001b[1;32m     12\u001b[0m \u001b[0;32mdef\u001b[0m \u001b[0mmain\u001b[0m\u001b[0;34m(\u001b[0m\u001b[0;34m)\u001b[0m\u001b[0;34m:\u001b[0m\u001b[0;34m\u001b[0m\u001b[0;34m\u001b[0m\u001b[0m\n\u001b[1;32m     13\u001b[0m     \u001b[0mblock_filter\u001b[0m \u001b[0;34m=\u001b[0m \u001b[0mweb3\u001b[0m\u001b[0;34m.\u001b[0m\u001b[0meth\u001b[0m\u001b[0;34m.\u001b[0m\u001b[0mfilter\u001b[0m\u001b[0;34m(\u001b[0m\u001b[0;34m'latest'\u001b[0m\u001b[0;34m)\u001b[0m\u001b[0;34m\u001b[0m\u001b[0;34m\u001b[0m\u001b[0m\n\u001b[0;32m---> 14\u001b[0;31m     \u001b[0mlog_loop\u001b[0m\u001b[0;34m(\u001b[0m\u001b[0mblock_filter\u001b[0m\u001b[0;34m,\u001b[0m \u001b[0;36m2\u001b[0m\u001b[0;34m)\u001b[0m\u001b[0;34m\u001b[0m\u001b[0;34m\u001b[0m\u001b[0m\n\u001b[0m",
      "\u001b[0;32m<ipython-input-122-ad10d034a68e>\u001b[0m in \u001b[0;36mlog_loop\u001b[0;34m(event_filter, poll_interval)\u001b[0m\n\u001b[1;32m      8\u001b[0m         \u001b[0;32mfor\u001b[0m \u001b[0mevent\u001b[0m \u001b[0;32min\u001b[0m \u001b[0mevent_filter\u001b[0m\u001b[0;34m.\u001b[0m\u001b[0mget_new_entries\u001b[0m\u001b[0;34m(\u001b[0m\u001b[0;34m)\u001b[0m\u001b[0;34m:\u001b[0m\u001b[0;34m\u001b[0m\u001b[0;34m\u001b[0m\u001b[0m\n\u001b[1;32m      9\u001b[0m             \u001b[0mhandle_event\u001b[0m\u001b[0;34m(\u001b[0m\u001b[0mevent\u001b[0m\u001b[0;34m)\u001b[0m\u001b[0;34m\u001b[0m\u001b[0;34m\u001b[0m\u001b[0m\n\u001b[0;32m---> 10\u001b[0;31m         \u001b[0mtime\u001b[0m\u001b[0;34m.\u001b[0m\u001b[0msleep\u001b[0m\u001b[0;34m(\u001b[0m\u001b[0mpoll_interval\u001b[0m\u001b[0;34m)\u001b[0m\u001b[0;34m\u001b[0m\u001b[0;34m\u001b[0m\u001b[0m\n\u001b[0m\u001b[1;32m     11\u001b[0m \u001b[0;34m\u001b[0m\u001b[0m\n\u001b[1;32m     12\u001b[0m \u001b[0;32mdef\u001b[0m \u001b[0mmain\u001b[0m\u001b[0;34m(\u001b[0m\u001b[0;34m)\u001b[0m\u001b[0;34m:\u001b[0m\u001b[0;34m\u001b[0m\u001b[0;34m\u001b[0m\u001b[0m\n",
      "\u001b[0;31mKeyboardInterrupt\u001b[0m: "
     ]
    }
   ],
   "source": [
    "main()"
   ]
  },
  {
   "cell_type": "code",
   "execution_count": null,
   "metadata": {},
   "outputs": [],
   "source": []
  },
  {
   "cell_type": "code",
   "execution_count": null,
   "metadata": {},
   "outputs": [],
   "source": []
  },
  {
   "cell_type": "code",
   "execution_count": null,
   "metadata": {},
   "outputs": [],
   "source": []
  },
  {
   "cell_type": "code",
   "execution_count": null,
   "metadata": {},
   "outputs": [],
   "source": []
  },
  {
   "cell_type": "code",
   "execution_count": null,
   "metadata": {},
   "outputs": [],
   "source": []
  },
  {
   "cell_type": "code",
   "execution_count": 6,
   "metadata": {},
   "outputs": [],
   "source": []
  },
  {
   "cell_type": "code",
   "execution_count": null,
   "metadata": {},
   "outputs": [],
   "source": []
  }
 ],
 "metadata": {
  "kernelspec": {
   "display_name": "Python 3",
   "language": "python",
   "name": "python3"
  },
  "language_info": {
   "codemirror_mode": {
    "name": "ipython",
    "version": 3
   },
   "file_extension": ".py",
   "mimetype": "text/x-python",
   "name": "python",
   "nbconvert_exporter": "python",
   "pygments_lexer": "ipython3",
   "version": "3.8.3"
  }
 },
 "nbformat": 4,
 "nbformat_minor": 4
}
