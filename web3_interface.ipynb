{
 "cells": [
  {
   "cell_type": "code",
   "execution_count": 82,
   "metadata": {},
   "outputs": [],
   "source": [
    "import json\n",
    "from web3 import Web3\n",
    "from taxes_abi import *"
   ]
  },
  {
   "cell_type": "code",
   "execution_count": 83,
   "metadata": {},
   "outputs": [],
   "source": [
    "ganache_url = 'HTTP://127.0.0.1:7545'"
   ]
  },
  {
   "cell_type": "code",
   "execution_count": 84,
   "metadata": {},
   "outputs": [],
   "source": [
    "web3 = Web3(Web3.HTTPProvider(ganache_url))"
   ]
  },
  {
   "cell_type": "code",
   "execution_count": 85,
   "metadata": {},
   "outputs": [
    {
     "name": "stdout",
     "output_type": "stream",
     "text": [
      "True\n"
     ]
    }
   ],
   "source": [
    "web3.eth.defaultAccount = web3.eth.accounts[0] \n",
    "print(web3.isConnected())"
   ]
  },
  {
   "cell_type": "code",
   "execution_count": 86,
   "metadata": {},
   "outputs": [],
   "source": [
    "contract_abi = json.loads(abi)\n",
    "contract_bytecode = bytecode[0]"
   ]
  },
  {
   "cell_type": "code",
   "execution_count": 87,
   "metadata": {},
   "outputs": [],
   "source": [
    "def deploy_contract(abi, bytecode):\n",
    "    \"\"\"\n",
    "    Deploy the contract using Python and web3.py without relying on Remix\n",
    "    \n",
    "    Parameters\n",
    "    --------------\n",
    "    abi : abi of the contract\n",
    "    bytecode : bytecode of the contract\n",
    "    \n",
    "    Returns\n",
    "    --------------\n",
    "    Address where the contract has been deployed\n",
    "    \"\"\"\n",
    "    \n",
    "    contract = web3.eth.contract(abi=abi, bytecode=bytecode)\n",
    "    tx_hash = contract.constructor().transact()\n",
    "    tx_receipt = web3.eth.waitForTransactionReceipt(tx_hash)\n",
    "    return tx_receipt.contractAddress\n"
   ]
  },
  {
   "cell_type": "code",
   "execution_count": 88,
   "metadata": {},
   "outputs": [
    {
     "name": "stdout",
     "output_type": "stream",
     "text": [
      "0x6bdbE1eC3c9EE9Cb31F9138F0e36eC7377D8538B\n"
     ]
    }
   ],
   "source": [
    "contract_address = deploy_contract(abi=contract_abi, bytecode=contract_bytecode)\n",
    "\n",
    "print(contract_address)"
   ]
  },
  {
   "cell_type": "code",
   "execution_count": 89,
   "metadata": {},
   "outputs": [],
   "source": [
    "# Define contract\n",
    "rubbish_contract = web3.eth.contract(address=contract_address, abi=contract_abi)"
   ]
  },
  {
   "cell_type": "code",
   "execution_count": 90,
   "metadata": {},
   "outputs": [],
   "source": [
    "roles = ['municipality'] + [f'citizen_{i}' for i in range(1,6)] + [f'truck_{i}' for i in range(1,3)] + [f'station_{i}' for i in range(1,3)]    \n",
    "address_dict = {roles[i]: web3.eth.accounts[i] for i in range(len(roles))}"
   ]
  },
  {
   "cell_type": "code",
   "execution_count": 91,
   "metadata": {},
   "outputs": [
    {
     "data": {
      "text/plain": [
       "{'municipality': '0xCe38D1B5E5255023f8772363Bee10be9AAD5a663',\n",
       " 'citizen_1': '0x0D15a21df8F04a1eadfA41eC5d07deBe8afCA264',\n",
       " 'citizen_2': '0x7C4Ad0C5E20825D78305f80C1E0F361186127A70',\n",
       " 'citizen_3': '0xd5e8dFB1DBF4e35ca7F0750971d4DdF4672735a7',\n",
       " 'citizen_4': '0x85C95c7674b2c2569597396e6cb805B5a078c3A8',\n",
       " 'citizen_5': '0x0f2d24B69f8A96a8f436D9dCE3B9616A0BE404Fe',\n",
       " 'truck_1': '0xF51f7899c9fc3AC8E5b71feD71A9c38a79B1e8fc',\n",
       " 'truck_2': '0x854Dd3026ABB33e2bDCF781D4733D0e4EBfA1991',\n",
       " 'station_1': '0x24F2E663AC726438409B930569D9de6346a8CBeE',\n",
       " 'station_2': '0x201F7945298E1E8EE3F5b2C30fee2a29F9Fa5457'}"
      ]
     },
     "execution_count": 91,
     "metadata": {},
     "output_type": "execute_result"
    }
   ],
   "source": [
    "address_dict"
   ]
  },
  {
   "cell_type": "code",
   "execution_count": 92,
   "metadata": {},
   "outputs": [
    {
     "data": {
      "text/plain": [
       "[<Function _addGarbageCollectorRole(address)>,\n",
       " <Function _addMunicipalityManager(address)>,\n",
       " <Function _removeCitizenRole(address)>,\n",
       " <Function _removeGarbageCollectorRole(address)>,\n",
       " <Function _removeMunicipalityManagers(address)>,\n",
       " <Function addCitizen()>,\n",
       " <Function didIPayDeposit()>,\n",
       " <Function generateTrashBag()>,\n",
       " <Function getAmountNonRecyclableWaste()>,\n",
       " <Function getAmountRecyclableWaste()>,\n",
       " <Function getTaxesDue()>,\n",
       " <Function getTotalTaxesPaid()>,\n",
       " <Function owner()>,\n",
       " <Function payDeposit()>,\n",
       " <Function pickFromBin(address,uint256,uint8)>,\n",
       " <Function renounceOwnership()>,\n",
       " <Function transferOwnership(address)>]"
      ]
     },
     "execution_count": 92,
     "metadata": {},
     "output_type": "execute_result"
    }
   ],
   "source": [
    "# All functions in the contract\n",
    "rubbish_contract.all_functions()"
   ]
  },
  {
   "cell_type": "markdown",
   "metadata": {},
   "source": [
    "Add citizens to the citizen list using function `addCitizen()`"
   ]
  },
  {
   "cell_type": "code",
   "execution_count": 93,
   "metadata": {},
   "outputs": [
    {
     "name": "stdout",
     "output_type": "stream",
     "text": [
      "citizen_1\n",
      "citizen_2\n",
      "citizen_3\n",
      "citizen_4\n",
      "citizen_5\n"
     ]
    }
   ],
   "source": [
    "for citizen in [f'citizen_{i}' for i in range(1,6)]:\n",
    "    print(citizen)\n",
    "    tx_hash = rubbish_contract.functions.addCitizen().transact({'from': address_dict[citizen]})"
   ]
  },
  {
   "cell_type": "code",
   "execution_count": 94,
   "metadata": {},
   "outputs": [],
   "source": [
    "def get_info_from_citizen(contract, citizen):\n",
    "    \"\"\"\n",
    "    Given a contract and a citizen, retrieve information regarding taxes paid/due and rubbish produced\n",
    "    \n",
    "    citizen must be a str\n",
    "    \n",
    "    Taxes paid -> only municiplaity manager can access this!\n",
    "    \"\"\"\n",
    "    \n",
    "    from_dict = {'from': address_dict[citizen]}\n",
    "    paid_deposit = contract.functions.didIPayDeposit().call(from_dict)\n",
    "    nonrec_waste_amount = contract.functions.getAmountNonRecyclableWaste().call(from_dict)\n",
    "    rec_waste_amount = contract.functions.getAmountRecyclableWaste().call(from_dict)\n",
    "    taxes_due = contract.functions.getTaxesDue().call(from_dict)\n",
    "    #taxes_paid = contract.functions.getTotalTaxesPaid().call(from_dict)\n",
    "    return paid_deposit, nonrec_waste_amount, rec_waste_amount, taxes_due, #taxes_paid"
   ]
  },
  {
   "cell_type": "code",
   "execution_count": 109,
   "metadata": {},
   "outputs": [
    {
     "data": {
      "text/plain": [
       "(True, 0, 0, -100000000000000000)"
      ]
     },
     "execution_count": 109,
     "metadata": {},
     "output_type": "execute_result"
    }
   ],
   "source": [
    "c1 = get_info_from_citizen(rubbish_contract, 'citizen_1')\n",
    "c1"
   ]
  },
  {
   "cell_type": "code",
   "execution_count": 108,
   "metadata": {},
   "outputs": [],
   "source": [
    "# Minimum deposit\n",
    "deposit = 100000000000000000\n",
    "tx_hash = rubbish_contract.functions.payDeposit().transact({'from': address_dict['citizen_1'], \n",
    "                                                                   'value': deposit})"
   ]
  },
  {
   "cell_type": "code",
   "execution_count": 110,
   "metadata": {},
   "outputs": [
    {
     "data": {
      "text/plain": [
       "HexBytes('0x8ab84449764a2b19f6b702bd2f92d5bc0682c8a02d1f3874b1275e5a36719af2')"
      ]
     },
     "execution_count": 110,
     "metadata": {},
     "output_type": "execute_result"
    }
   ],
   "source": [
    "tx_hash = rubbish_contract.functions.payDeposit().transact({'from': address_dict['citizen_2'], \n",
    "                                                            'value': deposit})"
   ]
  },
  {
   "cell_type": "code",
   "execution_count": 111,
   "metadata": {},
   "outputs": [],
   "source": [
    "# Citizen 1 generates a trash bag \n",
    "tx_hash = rubbish_contract.functions.generateTrashBag().transact({'from': address_dict['citizen_1']})"
   ]
  },
  {
   "cell_type": "code",
   "execution_count": 112,
   "metadata": {},
   "outputs": [],
   "source": [
    "tx_receipt = web3.eth.waitForTransactionReceipt(tx_hash)"
   ]
  },
  {
   "cell_type": "code",
   "execution_count": 120,
   "metadata": {},
   "outputs": [
    {
     "data": {
      "text/plain": [
       "AttributeDict({'transactionHash': HexBytes('0xd4e044639ceba51d05280070222c831bbf37723e0aa362522ab006ced54f855f'),\n",
       " 'transactionIndex': 0,\n",
       " 'blockHash': HexBytes('0x9e75101fb270a61acd30d22f099c350ce4832c54163b93b844c265e0bed9341e'),\n",
       " 'blockNumber': 9,\n",
       " 'from': '0x0D15a21df8F04a1eadfA41eC5d07deBe8afCA264',\n",
       " 'to': '0x6bdbE1eC3c9EE9Cb31F9138F0e36eC7377D8538B',\n",
       " 'gasUsed': 26129,\n",
       " 'cumulativeGasUsed': 26129,\n",
       " 'contractAddress': None,\n",
       " 'logs': [AttributeDict({'logIndex': 0,\n",
       "   'transactionIndex': 0,\n",
       "   'transactionHash': HexBytes('0xd4e044639ceba51d05280070222c831bbf37723e0aa362522ab006ced54f855f'),\n",
       "   'blockHash': HexBytes('0x9e75101fb270a61acd30d22f099c350ce4832c54163b93b844c265e0bed9341e'),\n",
       "   'blockNumber': 9,\n",
       "   'address': '0x6bdbE1eC3c9EE9Cb31F9138F0e36eC7377D8538B',\n",
       "   'data': '0x149e8f026b8b39c8d62efea5000752091a724dda76188772460feb071a32ff020000000000000000000000000d15a21df8f04a1eadfa41ec5d07debe8afca264000000000000000000000000000000000000000000000000000000005fcfab34',\n",
       "   'topics': [HexBytes('0xbbdd848711604cf3f095b973f631607b7aea61e0ae295f5afd37910a64afddd1')],\n",
       "   'type': 'mined'})],\n",
       " 'status': 1,\n",
       " 'logsBloom': HexBytes('0x00000000000000000000000000000000000000000000000000000000000000000000000000000000000000000000000000000000000000000000000008000000000000000000000000000000000000000000000000000000000000000000000000000200000104000000000000000000000000000000000000000000000000000000000000000000000000000000000000000000000000000000000000000000000000000000000000000000040000000000000000000000000000000000000000000000000000000000000000000000000000000000000000000000000000000000000000100000000000000000000000000000000000000000000000000000')})"
      ]
     },
     "execution_count": 120,
     "metadata": {},
     "output_type": "execute_result"
    }
   ],
   "source": [
    "tx_receipt"
   ]
  },
  {
   "cell_type": "code",
   "execution_count": null,
   "metadata": {},
   "outputs": [],
   "source": []
  },
  {
   "cell_type": "code",
   "execution_count": null,
   "metadata": {},
   "outputs": [],
   "source": []
  },
  {
   "cell_type": "code",
   "execution_count": null,
   "metadata": {},
   "outputs": [],
   "source": []
  },
  {
   "cell_type": "code",
   "execution_count": 122,
   "metadata": {},
   "outputs": [],
   "source": [
    "import time\n",
    "\n",
    "def handle_event(event):\n",
    "    print(event)\n",
    "\n",
    "def log_loop(event_filter, poll_interval):\n",
    "    while True:\n",
    "        for event in event_filter.get_new_entries():\n",
    "            handle_event(event)\n",
    "        time.sleep(poll_interval)\n",
    "\n",
    "def main():\n",
    "    block_filter = web3.eth.filter('latest')\n",
    "    log_loop(block_filter, 2)"
   ]
  },
  {
   "cell_type": "code",
   "execution_count": 123,
   "metadata": {},
   "outputs": [
    {
     "name": "stdout",
     "output_type": "stream",
     "text": [
      "b'1\\xb2\\x9ayS\\xe7\\xf5\\x9e\\x96b\\xdeRn^X\\xc4\\xb5M\\xe0\\xfe|L\\xa9\\xab3G\\x02dA\\xa9\\xbaW'\n"
     ]
    },
    {
     "ename": "KeyboardInterrupt",
     "evalue": "",
     "output_type": "error",
     "traceback": [
      "\u001b[0;31m---------------------------------------------------------------------------\u001b[0m",
      "\u001b[0;31mKeyboardInterrupt\u001b[0m                         Traceback (most recent call last)",
      "\u001b[0;32m<ipython-input-123-263240bbee7e>\u001b[0m in \u001b[0;36m<module>\u001b[0;34m\u001b[0m\n\u001b[0;32m----> 1\u001b[0;31m \u001b[0mmain\u001b[0m\u001b[0;34m(\u001b[0m\u001b[0;34m)\u001b[0m\u001b[0;34m\u001b[0m\u001b[0;34m\u001b[0m\u001b[0m\n\u001b[0m",
      "\u001b[0;32m<ipython-input-122-ad10d034a68e>\u001b[0m in \u001b[0;36mmain\u001b[0;34m()\u001b[0m\n\u001b[1;32m     12\u001b[0m \u001b[0;32mdef\u001b[0m \u001b[0mmain\u001b[0m\u001b[0;34m(\u001b[0m\u001b[0;34m)\u001b[0m\u001b[0;34m:\u001b[0m\u001b[0;34m\u001b[0m\u001b[0;34m\u001b[0m\u001b[0m\n\u001b[1;32m     13\u001b[0m     \u001b[0mblock_filter\u001b[0m \u001b[0;34m=\u001b[0m \u001b[0mweb3\u001b[0m\u001b[0;34m.\u001b[0m\u001b[0meth\u001b[0m\u001b[0;34m.\u001b[0m\u001b[0mfilter\u001b[0m\u001b[0;34m(\u001b[0m\u001b[0;34m'latest'\u001b[0m\u001b[0;34m)\u001b[0m\u001b[0;34m\u001b[0m\u001b[0;34m\u001b[0m\u001b[0m\n\u001b[0;32m---> 14\u001b[0;31m     \u001b[0mlog_loop\u001b[0m\u001b[0;34m(\u001b[0m\u001b[0mblock_filter\u001b[0m\u001b[0;34m,\u001b[0m \u001b[0;36m2\u001b[0m\u001b[0;34m)\u001b[0m\u001b[0;34m\u001b[0m\u001b[0;34m\u001b[0m\u001b[0m\n\u001b[0m",
      "\u001b[0;32m<ipython-input-122-ad10d034a68e>\u001b[0m in \u001b[0;36mlog_loop\u001b[0;34m(event_filter, poll_interval)\u001b[0m\n\u001b[1;32m      8\u001b[0m         \u001b[0;32mfor\u001b[0m \u001b[0mevent\u001b[0m \u001b[0;32min\u001b[0m \u001b[0mevent_filter\u001b[0m\u001b[0;34m.\u001b[0m\u001b[0mget_new_entries\u001b[0m\u001b[0;34m(\u001b[0m\u001b[0;34m)\u001b[0m\u001b[0;34m:\u001b[0m\u001b[0;34m\u001b[0m\u001b[0;34m\u001b[0m\u001b[0m\n\u001b[1;32m      9\u001b[0m             \u001b[0mhandle_event\u001b[0m\u001b[0;34m(\u001b[0m\u001b[0mevent\u001b[0m\u001b[0;34m)\u001b[0m\u001b[0;34m\u001b[0m\u001b[0;34m\u001b[0m\u001b[0m\n\u001b[0;32m---> 10\u001b[0;31m         \u001b[0mtime\u001b[0m\u001b[0;34m.\u001b[0m\u001b[0msleep\u001b[0m\u001b[0;34m(\u001b[0m\u001b[0mpoll_interval\u001b[0m\u001b[0;34m)\u001b[0m\u001b[0;34m\u001b[0m\u001b[0;34m\u001b[0m\u001b[0m\n\u001b[0m\u001b[1;32m     11\u001b[0m \u001b[0;34m\u001b[0m\u001b[0m\n\u001b[1;32m     12\u001b[0m \u001b[0;32mdef\u001b[0m \u001b[0mmain\u001b[0m\u001b[0;34m(\u001b[0m\u001b[0;34m)\u001b[0m\u001b[0;34m:\u001b[0m\u001b[0;34m\u001b[0m\u001b[0;34m\u001b[0m\u001b[0m\n",
      "\u001b[0;31mKeyboardInterrupt\u001b[0m: "
     ]
    }
   ],
   "source": [
    "main()"
   ]
  },
  {
   "cell_type": "code",
   "execution_count": null,
   "metadata": {},
   "outputs": [],
   "source": []
  },
  {
   "cell_type": "code",
   "execution_count": null,
   "metadata": {},
   "outputs": [],
   "source": []
  },
  {
   "cell_type": "code",
   "execution_count": null,
   "metadata": {},
   "outputs": [],
   "source": []
  },
  {
   "cell_type": "code",
   "execution_count": null,
   "metadata": {},
   "outputs": [],
   "source": []
  },
  {
   "cell_type": "code",
   "execution_count": null,
   "metadata": {},
   "outputs": [],
   "source": []
  },
  {
   "cell_type": "code",
   "execution_count": 6,
   "metadata": {},
   "outputs": [],
   "source": []
  },
  {
   "cell_type": "code",
   "execution_count": null,
   "metadata": {},
   "outputs": [],
   "source": []
  }
 ],
 "metadata": {
  "kernelspec": {
   "display_name": "Python 3",
   "language": "python",
   "name": "python3"
  },
  "language_info": {
   "codemirror_mode": {
    "name": "ipython",
    "version": 3
   },
   "file_extension": ".py",
   "mimetype": "text/x-python",
   "name": "python",
   "nbconvert_exporter": "python",
   "pygments_lexer": "ipython3",
   "version": "3.8.3"
  }
 },
 "nbformat": 4,
 "nbformat_minor": 4
}
