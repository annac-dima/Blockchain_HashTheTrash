{
 "cells": [
  {
   "cell_type": "code",
   "execution_count": 1,
   "metadata": {},
   "outputs": [],
   "source": [
    "import json\n",
    "from web3 import Web3\n",
    "import web3 as w3\n",
    "import numpy as np\n",
    "import pandas as pd"
   ]
  },
  {
   "cell_type": "code",
   "execution_count": 2,
   "metadata": {},
   "outputs": [],
   "source": [
    "ganache_URL = 'HTTP://127.0.0.1:7545'\n",
    "web3 = Web3(Web3.HTTPProvider(ganache_URL))"
   ]
  },
  {
   "cell_type": "code",
   "execution_count": 3,
   "metadata": {},
   "outputs": [],
   "source": [
    "# Set the default account \n",
    "web3.eth.defaultAccount = web3.eth.accounts[0]"
   ]
  },
  {
   "cell_type": "code",
   "execution_count": 4,
   "metadata": {},
   "outputs": [],
   "source": [
    "# Create a dataset with all citizens \n",
    "# Suppose 5 citizens, 2 trucks and 2 plants \n",
    "assert len(web3.eth.accounts) == 10 "
   ]
  },
  {
   "cell_type": "raw",
   "metadata": {},
   "source": [
    "# Get a block \n",
    "web3.eth.getBlock('latest')"
   ]
  },
  {
   "cell_type": "raw",
   "metadata": {},
   "source": [
    "abiRemix = json.loads(\"\"\"\"\"\")\n",
    "addressRemix = web3.toChecksumAddress(\"\")\n",
    "contract = web3.eth.contract(address=addressRemix, abi=abiRemix)\n",
    "print(contract.functions.retrieve().call())"
   ]
  },
  {
   "cell_type": "code",
   "execution_count": 8,
   "metadata": {},
   "outputs": [],
   "source": [
    "json_file = ''.join([i.strip() for i in open('abi.txt', 'r')])\n",
    "abiRemix = json.loads(json_file)\n",
    "addressRemix = web3.toChecksumAddress(\"0x8649045F12c67ab756cA5180310cA062953b9db4\")\n",
    "contract = web3.eth.contract(address=addressRemix, abi=abiRemix)"
   ]
  },
  {
   "cell_type": "code",
   "execution_count": 9,
   "metadata": {},
   "outputs": [
    {
     "data": {
      "text/plain": [
       "[<Function createCitizen(address,string,uint256,uint256,uint256)>,\n",
       " <Function createStation(address,bool,uint256,uint256)>,\n",
       " <Function createTruck(address,bool)>,\n",
       " <Function deleteCitizen(address)>,\n",
       " <Function deleteStation(address)>,\n",
       " <Function deleteTruck(address)>,\n",
       " <Function renounceOwnership()>,\n",
       " <Function transferOwnership(address)>,\n",
       " <Function citizens(address)>,\n",
       " <Function numberC()>,\n",
       " <Function numberS()>,\n",
       " <Function numberT()>,\n",
       " <Function owner()>,\n",
       " <Function stations(address)>,\n",
       " <Function trucks(address)>]"
      ]
     },
     "execution_count": 9,
     "metadata": {},
     "output_type": "execute_result"
    }
   ],
   "source": [
    "contract.all_functions()"
   ]
  },
  {
   "cell_type": "code",
   "execution_count": 10,
   "metadata": {},
   "outputs": [
    {
     "name": "stdout",
     "output_type": "stream",
     "text": [
      "0x0c96C80F8cAb89FfF1454C8a35e5Accc70e2acc9\n",
      "0\n",
      "0\n",
      "0\n",
      "['0x0000000000000000000000000000000000000000', '', 0, 0, 0, False, 0, 0, False]\n"
     ]
    }
   ],
   "source": [
    "print(contract.functions.owner().call())\n",
    "print(contract.functions.numberC().call())\n",
    "print(contract.functions.numberT().call())\n",
    "print(contract.functions.numberS().call())\n",
    "print(contract.functions.citizens(web3.eth.accounts[0]).call())"
   ]
  },
  {
   "cell_type": "code",
   "execution_count": 11,
   "metadata": {},
   "outputs": [],
   "source": [
    "# Upload data from Municipality \n",
    "data = pd.read_excel('citizen_data.xlsx', engine=\"openpyxl\")\n",
    "data['address'] = web3.eth.accounts\n",
    "assert contract.functions.owner().call() == data.loc[0,'address']"
   ]
  },
  {
   "cell_type": "code",
   "execution_count": 12,
   "metadata": {},
   "outputs": [
    {
     "data": {
      "text/html": [
       "<div>\n",
       "<style scoped>\n",
       "    .dataframe tbody tr th:only-of-type {\n",
       "        vertical-align: middle;\n",
       "    }\n",
       "\n",
       "    .dataframe tbody tr th {\n",
       "        vertical-align: top;\n",
       "    }\n",
       "\n",
       "    .dataframe thead th {\n",
       "        text-align: right;\n",
       "    }\n",
       "</style>\n",
       "<table border=\"1\" class=\"dataframe\">\n",
       "  <thead>\n",
       "    <tr style=\"text-align: right;\">\n",
       "      <th></th>\n",
       "      <th>name</th>\n",
       "      <th>surname</th>\n",
       "      <th>family</th>\n",
       "      <th>mq</th>\n",
       "      <th>weight</th>\n",
       "      <th>recycle</th>\n",
       "      <th>long</th>\n",
       "      <th>lat</th>\n",
       "      <th>role</th>\n",
       "      <th>address</th>\n",
       "    </tr>\n",
       "  </thead>\n",
       "  <tbody>\n",
       "    <tr>\n",
       "      <th>0</th>\n",
       "      <td>Comune</td>\n",
       "      <td>Codogno</td>\n",
       "      <td>0.0</td>\n",
       "      <td>0.0</td>\n",
       "      <td>0.0</td>\n",
       "      <td>NaN</td>\n",
       "      <td>NaN</td>\n",
       "      <td>NaN</td>\n",
       "      <td>municipality</td>\n",
       "      <td>0x0c96C80F8cAb89FfF1454C8a35e5Accc70e2acc9</td>\n",
       "    </tr>\n",
       "    <tr>\n",
       "      <th>1</th>\n",
       "      <td>Francesca</td>\n",
       "      <td>Bianchessi</td>\n",
       "      <td>2.0</td>\n",
       "      <td>70.0</td>\n",
       "      <td>0.0</td>\n",
       "      <td>NaN</td>\n",
       "      <td>NaN</td>\n",
       "      <td>NaN</td>\n",
       "      <td>citizen</td>\n",
       "      <td>0x89c28b64Eb9d6666F6167Abca2Ca35396e48a85D</td>\n",
       "    </tr>\n",
       "    <tr>\n",
       "      <th>2</th>\n",
       "      <td>Ilaria</td>\n",
       "      <td>Bolla</td>\n",
       "      <td>4.0</td>\n",
       "      <td>200.0</td>\n",
       "      <td>0.0</td>\n",
       "      <td>NaN</td>\n",
       "      <td>NaN</td>\n",
       "      <td>NaN</td>\n",
       "      <td>citizen</td>\n",
       "      <td>0xaa371DB2Ddf15d5E26D431Eb9dD328036E9C169a</td>\n",
       "    </tr>\n",
       "    <tr>\n",
       "      <th>3</th>\n",
       "      <td>Alessandro</td>\n",
       "      <td>Botti</td>\n",
       "      <td>5.0</td>\n",
       "      <td>340.0</td>\n",
       "      <td>0.0</td>\n",
       "      <td>NaN</td>\n",
       "      <td>NaN</td>\n",
       "      <td>NaN</td>\n",
       "      <td>citizen</td>\n",
       "      <td>0x349928fAaC29c1E080BDCeDBc34c6971CA2DE882</td>\n",
       "    </tr>\n",
       "    <tr>\n",
       "      <th>4</th>\n",
       "      <td>Davide</td>\n",
       "      <td>Castellini</td>\n",
       "      <td>3.0</td>\n",
       "      <td>50.0</td>\n",
       "      <td>0.0</td>\n",
       "      <td>NaN</td>\n",
       "      <td>NaN</td>\n",
       "      <td>NaN</td>\n",
       "      <td>citizen</td>\n",
       "      <td>0x311230D0953791726a66EB7b55ABB9944a3CFd5e</td>\n",
       "    </tr>\n",
       "    <tr>\n",
       "      <th>5</th>\n",
       "      <td>Anna</td>\n",
       "      <td>Di Marco</td>\n",
       "      <td>4.0</td>\n",
       "      <td>80.0</td>\n",
       "      <td>0.0</td>\n",
       "      <td>NaN</td>\n",
       "      <td>NaN</td>\n",
       "      <td>NaN</td>\n",
       "      <td>citizen</td>\n",
       "      <td>0x94586aFEa2bce829483D63c0E285ceb9C4ca8A57</td>\n",
       "    </tr>\n",
       "    <tr>\n",
       "      <th>6</th>\n",
       "      <td>Truck</td>\n",
       "      <td>Recycle</td>\n",
       "      <td>NaN</td>\n",
       "      <td>NaN</td>\n",
       "      <td>NaN</td>\n",
       "      <td>True</td>\n",
       "      <td>NaN</td>\n",
       "      <td>NaN</td>\n",
       "      <td>truck</td>\n",
       "      <td>0xde72B6c2A1efF5098fb9A76e986732C8Fcaf71C2</td>\n",
       "    </tr>\n",
       "    <tr>\n",
       "      <th>7</th>\n",
       "      <td>Truck</td>\n",
       "      <td>Not Recycle</td>\n",
       "      <td>NaN</td>\n",
       "      <td>NaN</td>\n",
       "      <td>NaN</td>\n",
       "      <td>False</td>\n",
       "      <td>NaN</td>\n",
       "      <td>NaN</td>\n",
       "      <td>truck</td>\n",
       "      <td>0x27bC93859846067aB0472D8726F93014Ae3c8381</td>\n",
       "    </tr>\n",
       "    <tr>\n",
       "      <th>8</th>\n",
       "      <td>Disposal Station</td>\n",
       "      <td>Recycle</td>\n",
       "      <td>NaN</td>\n",
       "      <td>NaN</td>\n",
       "      <td>NaN</td>\n",
       "      <td>True</td>\n",
       "      <td>12.0</td>\n",
       "      <td>45.0</td>\n",
       "      <td>station</td>\n",
       "      <td>0x6df20f1bE2D87E08c9d3c797061e85971f68caDa</td>\n",
       "    </tr>\n",
       "    <tr>\n",
       "      <th>9</th>\n",
       "      <td>Disposal Station</td>\n",
       "      <td>Not Recycle</td>\n",
       "      <td>NaN</td>\n",
       "      <td>NaN</td>\n",
       "      <td>NaN</td>\n",
       "      <td>False</td>\n",
       "      <td>38.9</td>\n",
       "      <td>45.7</td>\n",
       "      <td>station</td>\n",
       "      <td>0xf5a673eeb7b40524900194309d49a093CCFB1504</td>\n",
       "    </tr>\n",
       "  </tbody>\n",
       "</table>\n",
       "</div>"
      ],
      "text/plain": [
       "                name      surname  family     mq  weight recycle  long   lat  \\\n",
       "0             Comune      Codogno     0.0    0.0     0.0     NaN   NaN   NaN   \n",
       "1          Francesca   Bianchessi     2.0   70.0     0.0     NaN   NaN   NaN   \n",
       "2            Ilaria         Bolla     4.0  200.0     0.0     NaN   NaN   NaN   \n",
       "3         Alessandro       Botti      5.0  340.0     0.0     NaN   NaN   NaN   \n",
       "4             Davide   Castellini     3.0   50.0     0.0     NaN   NaN   NaN   \n",
       "5               Anna    Di Marco      4.0   80.0     0.0     NaN   NaN   NaN   \n",
       "6              Truck      Recycle     NaN    NaN     NaN    True   NaN   NaN   \n",
       "7              Truck  Not Recycle     NaN    NaN     NaN   False   NaN   NaN   \n",
       "8  Disposal Station       Recycle     NaN    NaN     NaN    True  12.0  45.0   \n",
       "9  Disposal Station   Not Recycle     NaN    NaN     NaN   False  38.9  45.7   \n",
       "\n",
       "           role                                     address  \n",
       "0  municipality  0x0c96C80F8cAb89FfF1454C8a35e5Accc70e2acc9  \n",
       "1       citizen  0x89c28b64Eb9d6666F6167Abca2Ca35396e48a85D  \n",
       "2       citizen  0xaa371DB2Ddf15d5E26D431Eb9dD328036E9C169a  \n",
       "3       citizen  0x349928fAaC29c1E080BDCeDBc34c6971CA2DE882  \n",
       "4       citizen  0x311230D0953791726a66EB7b55ABB9944a3CFd5e  \n",
       "5       citizen  0x94586aFEa2bce829483D63c0E285ceb9C4ca8A57  \n",
       "6         truck  0xde72B6c2A1efF5098fb9A76e986732C8Fcaf71C2  \n",
       "7         truck  0x27bC93859846067aB0472D8726F93014Ae3c8381  \n",
       "8       station  0x6df20f1bE2D87E08c9d3c797061e85971f68caDa  \n",
       "9       station  0xf5a673eeb7b40524900194309d49a093CCFB1504  "
      ]
     },
     "execution_count": 12,
     "metadata": {},
     "output_type": "execute_result"
    }
   ],
   "source": [
    "data"
   ]
  },
  {
   "cell_type": "code",
   "execution_count": null,
   "metadata": {},
   "outputs": [],
   "source": [
    "# Create CITIZENS - (address payable _address, string memory _name, uint _family, uint _house, uint256 _w)\n",
    "citizensL = [[r.address, \" \".join([r.name, r.surname]), int(r.family), int(r.mq), int(r.weight)] \n",
    "             for r in data.itertuples() if r.role == 'citizen']\n",
    "\n",
    "# Create TRUCKS - (address _address, bool _recycle)\n",
    "trucksL = [[r.address, r.recycle] for r in data.itertuples() if r.role == 'truck']\n",
    "\n",
    "# Create STATIONS - (address _address, bool _recycle, uint _long, uint _lat)\n",
    "stationsL = [[r.address, r.recycle, int(r.long), int(r.lat)] for r in data.itertuples() if r.role == 'station']"
   ]
  },
  {
   "cell_type": "raw",
   "metadata": {},
   "source": [
    "# Returns the hash of a transaction \n",
    "contract.functions.createCitizen(web3.eth.accounts[1], 'Francesca Bianchessi', 4, 70, 0).transact()"
   ]
  },
  {
   "cell_type": "code",
   "execution_count": null,
   "metadata": {},
   "outputs": [],
   "source": [
    "def create(c, t, s):\n",
    "    for i in range(len(c)):\n",
    "        contract.functions.createCitizen(c[i][0], c[i][1], c[i][2], c[i][3], c[i][4]).transact()\n",
    "    for j in range(len(t)):\n",
    "        contract.functions.createTruck(t[j][0], t[j][1]).transact()\n",
    "    for k in range(len(s)):\n",
    "        contract.functions.createStation(s[k][0], s[k][1], s[k][2], s[k][3]).transact()\n",
    "    print('Done')"
   ]
  },
  {
   "cell_type": "code",
   "execution_count": null,
   "metadata": {},
   "outputs": [],
   "source": [
    "create(citizensL, trucksL, stationsL)"
   ]
  },
  {
   "cell_type": "code",
   "execution_count": null,
   "metadata": {},
   "outputs": [],
   "source": [
    "print(contract.functions.numberC().call())\n",
    "print(contract.functions.numberT().call())\n",
    "print(contract.functions.numberS().call())"
   ]
  }
 ],
 "metadata": {
  "kernelspec": {
   "display_name": "Python 3",
   "language": "python",
   "name": "python3"
  },
  "language_info": {
   "codemirror_mode": {
    "name": "ipython",
    "version": 3
   },
   "file_extension": ".py",
   "mimetype": "text/x-python",
   "name": "python",
   "nbconvert_exporter": "python",
   "pygments_lexer": "ipython3",
   "version": "3.9.0"
  }
 },
 "nbformat": 4,
 "nbformat_minor": 4
}
